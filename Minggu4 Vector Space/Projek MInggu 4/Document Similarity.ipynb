{
 "cells": [
  {
   "cell_type": "markdown",
   "metadata": {
    "id": "kYQxRWGHVOfu"
   },
   "source": [
    "# Document Similarity"
   ]
  },
  {
   "cell_type": "markdown",
   "metadata": {
    "id": "i5c9r2AZFeRP"
   },
   "source": [
    "# Rekomendasi Film dengan Kemiripan Dokumen\n",
    "\n",
    "Sistem rekomendasi adalah salah satu aplikasi pembelajaran mesin yang populer dan paling banyak diadopsi. Biasanya digunakan untuk merekomendasikan entitas kepada pengguna dan entitas ini dapat berupa apa saja seperti produk, film, layanan, dan sebagainya.\n",
    "\n",
    "Contoh rekomendasi yang populer meliputi,\n",
    "- Amazon menyarankan produk di situs webnya\n",
    "- Amazon Prime, Netflix, Hotstar merekomendasikan film\\acara\n",
    "- YouTube merekomendasikan video untuk ditonton\n",
    "\n",
    "Biasanya sistem pemberi rekomendasi dapat diimplementasikan dalam tiga cara:\n",
    "\n",
    "- Simple Rule-based Recommenders / Rekomendasi Berbasis Aturan Sederhana: Biasanya berdasarkan metrik dan ambang batas global tertentu seperti popularitas film, peringkat global, dll.\n",
    "- Content-based Recommenders / Rekomendasi berbasis konten: Ini didasarkan pada penyediaan entitas serupa berdasarkan entitas minat tertentu. Metadata konten dapat digunakan di sini seperti deskripsi film, genre, pemeran, sutradara, dan sebagainya\n",
    "- Collaborative filtering Recommenders / Pemfilteran kolaboratif Rekomendasi: Di ​​sini tidak diperlukan metadata, tetapi memprediksi rekomendasi dan peringkat berdasarkan peringkat sebelumnya dari berbagai pengguna dan item tertentu.\n",
    "\n",
    "STKI / NLP paling relevan dengan Collaborative filtering Recommenders"
   ]
  },
  {
   "cell_type": "markdown",
   "metadata": {
    "id": "kXftv7OSFsHJ"
   },
   "source": [
    "## install library"
   ]
  },
  {
   "cell_type": "code",
   "execution_count": 9,
   "metadata": {
    "colab": {
     "base_uri": "https://localhost:8080/"
    },
    "executionInfo": {
     "elapsed": 14486,
     "status": "ok",
     "timestamp": 1668751364805,
     "user": {
      "displayName": "farrikh alzami",
      "userId": "11964535993149439504"
     },
     "user_tz": -420
    },
    "id": "o9Ntmc0GVGIA",
    "outputId": "5a17bf3b-04ab-4bee-b74f-f8f817f84afe"
   },
   "outputs": [],
   "source": [
    "# !pip install textsearch\n",
    "# !pip install contractions\n",
    "import nltk\n",
    "# nltk.download('punkt')\n",
    "# nltk.download('stopwords')"
   ]
  },
  {
   "cell_type": "code",
   "execution_count": 10,
   "metadata": {},
   "outputs": [
    {
     "data": {
      "text/plain": [
       "WindowsPath('C:/Users/ASUS/JupyterNotebookFile/GHclone/Sistem-Temu-Kembali-Informasi/Minggu4 Vector Space/Projek MInggu 4')"
      ]
     },
     "execution_count": 10,
     "metadata": {},
     "output_type": "execute_result"
    }
   ],
   "source": [
    "import pathlib\n",
    "pathlib.Path().resolve()"
   ]
  },
  {
   "cell_type": "markdown",
   "metadata": {
    "id": "AqkJZoc8Funn"
   },
   "source": [
    "## load dan view data"
   ]
  },
  {
   "cell_type": "code",
   "execution_count": 11,
   "metadata": {
    "colab": {
     "base_uri": "https://localhost:8080/"
    },
    "executionInfo": {
     "elapsed": 2226,
     "status": "ok",
     "timestamp": 1668751387985,
     "user": {
      "displayName": "farrikh alzami",
      "userId": "11964535993149439504"
     },
     "user_tz": -420
    },
    "id": "NmbIBH8YVLV_",
    "outputId": "cb7ac0d2-6f33-4ac4-b110-7fd1bd6ba85c"
   },
   "outputs": [
    {
     "name": "stdout",
     "output_type": "stream",
     "text": [
      "<class 'pandas.core.frame.DataFrame'>\n",
      "RangeIndex: 1000 entries, 0 to 999\n",
      "Data columns (total 14 columns):\n",
      " #   Column                      Non-Null Count  Dtype \n",
      "---  ------                      --------------  ----- \n",
      " 0   Unnamed: 0                  1000 non-null   int64 \n",
      " 1   Title                       1000 non-null   object\n",
      " 2   Movie Info                  1000 non-null   object\n",
      " 3   Year                        1000 non-null   int64 \n",
      " 4   Distributor                 999 non-null    object\n",
      " 5   Budget (in $)               1000 non-null   object\n",
      " 6   Domestic Opening (in $)     1000 non-null   object\n",
      " 7   Domestic Sales (in $)       1000 non-null   int64 \n",
      " 8   International Sales (in $)  1000 non-null   int64 \n",
      " 9   World Wide Sales (in $)     1000 non-null   int64 \n",
      " 10  Release Date                1000 non-null   object\n",
      " 11  Genre                       1000 non-null   object\n",
      " 12  Running Time                1000 non-null   object\n",
      " 13  License                     943 non-null    object\n",
      "dtypes: int64(5), object(9)\n",
      "memory usage: 109.5+ KB\n"
     ]
    }
   ],
   "source": [
    "import pandas as pd\n",
    "\n",
    "df = pd.read_csv(\"Highest Holywood Grossing Movies.csv\")\n",
    "df.info()"
   ]
  },
  {
   "cell_type": "code",
   "execution_count": 12,
   "metadata": {
    "colab": {
     "base_uri": "https://localhost:8080/",
     "height": 756
    },
    "executionInfo": {
     "elapsed": 7,
     "status": "ok",
     "timestamp": 1668751398690,
     "user": {
      "displayName": "farrikh alzami",
      "userId": "11964535993149439504"
     },
     "user_tz": -420
    },
    "id": "ibqw4SCJVWIO",
    "outputId": "9394c408-b65a-417c-c1b1-47dcb4d760cd"
   },
   "outputs": [
    {
     "data": {
      "text/html": [
       "<div>\n",
       "<style scoped>\n",
       "    .dataframe tbody tr th:only-of-type {\n",
       "        vertical-align: middle;\n",
       "    }\n",
       "\n",
       "    .dataframe tbody tr th {\n",
       "        vertical-align: top;\n",
       "    }\n",
       "\n",
       "    .dataframe thead th {\n",
       "        text-align: right;\n",
       "    }\n",
       "</style>\n",
       "<table border=\"1\" class=\"dataframe\">\n",
       "  <thead>\n",
       "    <tr style=\"text-align: right;\">\n",
       "      <th></th>\n",
       "      <th>Unnamed: 0</th>\n",
       "      <th>Title</th>\n",
       "      <th>Movie Info</th>\n",
       "      <th>Year</th>\n",
       "      <th>Distributor</th>\n",
       "      <th>Budget (in $)</th>\n",
       "      <th>Domestic Opening (in $)</th>\n",
       "      <th>Domestic Sales (in $)</th>\n",
       "      <th>International Sales (in $)</th>\n",
       "      <th>World Wide Sales (in $)</th>\n",
       "      <th>Release Date</th>\n",
       "      <th>Genre</th>\n",
       "      <th>Running Time</th>\n",
       "      <th>License</th>\n",
       "    </tr>\n",
       "  </thead>\n",
       "  <tbody>\n",
       "    <tr>\n",
       "      <th>0</th>\n",
       "      <td>0</td>\n",
       "      <td>Avatar</td>\n",
       "      <td>A paraplegic Marine dispatched to the moon Pandora on a unique mission becomes torn between following his orders and protecting the world he feels is his home.</td>\n",
       "      <td>2009</td>\n",
       "      <td>Twentieth Century Fox</td>\n",
       "      <td>237000000</td>\n",
       "      <td>77025481</td>\n",
       "      <td>785221649</td>\n",
       "      <td>2138484377</td>\n",
       "      <td>2923706026</td>\n",
       "      <td>16-Dec-09</td>\n",
       "      <td>['Action', 'Adventure', 'Fantasy', 'Sci-Fi']</td>\n",
       "      <td>2 hr 42 min</td>\n",
       "      <td>PG-13</td>\n",
       "    </tr>\n",
       "    <tr>\n",
       "      <th>1</th>\n",
       "      <td>1</td>\n",
       "      <td>Avengers: Endgame</td>\n",
       "      <td>After the devastating events of Avengers: Infinity War, the universe is in ruins. With the help of remaining allies, the Avengers assemble once more in order to reverse Thanos' actions and restore...</td>\n",
       "      <td>2019</td>\n",
       "      <td>Walt Disney Studios Motion Pictures</td>\n",
       "      <td>356000000</td>\n",
       "      <td>357115007</td>\n",
       "      <td>858373000</td>\n",
       "      <td>1941066100</td>\n",
       "      <td>2799439100</td>\n",
       "      <td>24-Apr-19</td>\n",
       "      <td>['Action', 'Adventure', 'Drama', 'Sci-Fi']</td>\n",
       "      <td>3 hr 1 min</td>\n",
       "      <td>PG-13</td>\n",
       "    </tr>\n",
       "    <tr>\n",
       "      <th>2</th>\n",
       "      <td>2</td>\n",
       "      <td>Avatar: The Way of Water</td>\n",
       "      <td>Jake Sully lives with his newfound family formed on the extrasolar moon Pandora. Once a familiar threat returns to finish what was previously started, Jake must work with Neytiri and the army of t...</td>\n",
       "      <td>2022</td>\n",
       "      <td>20th Century Studios</td>\n",
       "      <td>December 14 2022 (EMEA APAC)</td>\n",
       "      <td>134100226</td>\n",
       "      <td>684075767</td>\n",
       "      <td>1636174514</td>\n",
       "      <td>2320250281</td>\n",
       "      <td>24-Apr-19</td>\n",
       "      <td>['Action', 'Adventure', 'Drama', 'Sci-Fi']</td>\n",
       "      <td>3 hr 1 min</td>\n",
       "      <td>PG-13</td>\n",
       "    </tr>\n",
       "    <tr>\n",
       "      <th>3</th>\n",
       "      <td>3</td>\n",
       "      <td>Titanic</td>\n",
       "      <td>A seventeen-year-old aristocrat falls in love with a kind but poor artist aboard the luxurious, ill-fated R.M.S. Titanic.</td>\n",
       "      <td>1997</td>\n",
       "      <td>Paramount Pictures</td>\n",
       "      <td>200000000</td>\n",
       "      <td>28638131</td>\n",
       "      <td>674292608</td>\n",
       "      <td>1590450697</td>\n",
       "      <td>2264743305</td>\n",
       "      <td>19-Dec-97</td>\n",
       "      <td>['Drama', 'Romance']</td>\n",
       "      <td>3 hr 14 min</td>\n",
       "      <td>PG-13</td>\n",
       "    </tr>\n",
       "    <tr>\n",
       "      <th>4</th>\n",
       "      <td>4</td>\n",
       "      <td>Star Wars: Episode VII - The Force Awakens</td>\n",
       "      <td>As a new threat to the galaxy rises, Rey, a desert scavenger, and Finn, an ex-stormtrooper, must join Han Solo and Chewbacca to search for the one hope of restoring peace.</td>\n",
       "      <td>2015</td>\n",
       "      <td>Walt Disney Studios Motion Pictures</td>\n",
       "      <td>245000000</td>\n",
       "      <td>247966675</td>\n",
       "      <td>936662225</td>\n",
       "      <td>1134647993</td>\n",
       "      <td>2071310218</td>\n",
       "      <td>16-Dec-15</td>\n",
       "      <td>['Action', 'Adventure', 'Sci-Fi']</td>\n",
       "      <td>2 hr 18 min</td>\n",
       "      <td>PG-13</td>\n",
       "    </tr>\n",
       "  </tbody>\n",
       "</table>\n",
       "</div>"
      ],
      "text/plain": [
       "   Unnamed: 0                                       Title  \\\n",
       "0           0                                      Avatar   \n",
       "1           1                           Avengers: Endgame   \n",
       "2           2                    Avatar: The Way of Water   \n",
       "3           3                                     Titanic   \n",
       "4           4  Star Wars: Episode VII - The Force Awakens   \n",
       "\n",
       "                                                                                                                                                                                                Movie Info  \\\n",
       "0                                          A paraplegic Marine dispatched to the moon Pandora on a unique mission becomes torn between following his orders and protecting the world he feels is his home.   \n",
       "1  After the devastating events of Avengers: Infinity War, the universe is in ruins. With the help of remaining allies, the Avengers assemble once more in order to reverse Thanos' actions and restore...   \n",
       "2  Jake Sully lives with his newfound family formed on the extrasolar moon Pandora. Once a familiar threat returns to finish what was previously started, Jake must work with Neytiri and the army of t...   \n",
       "3                                                                                A seventeen-year-old aristocrat falls in love with a kind but poor artist aboard the luxurious, ill-fated R.M.S. Titanic.   \n",
       "4                              As a new threat to the galaxy rises, Rey, a desert scavenger, and Finn, an ex-stormtrooper, must join Han Solo and Chewbacca to search for the one hope of restoring peace.   \n",
       "\n",
       "   Year                          Distributor                 Budget (in $)  \\\n",
       "0  2009                Twentieth Century Fox                     237000000   \n",
       "1  2019  Walt Disney Studios Motion Pictures                     356000000   \n",
       "2  2022                 20th Century Studios  December 14 2022 (EMEA APAC)   \n",
       "3  1997                   Paramount Pictures                     200000000   \n",
       "4  2015  Walt Disney Studios Motion Pictures                     245000000   \n",
       "\n",
       "  Domestic Opening (in $)  Domestic Sales (in $)  International Sales (in $)  \\\n",
       "0                77025481              785221649                  2138484377   \n",
       "1               357115007              858373000                  1941066100   \n",
       "2               134100226              684075767                  1636174514   \n",
       "3                28638131              674292608                  1590450697   \n",
       "4               247966675              936662225                  1134647993   \n",
       "\n",
       "   World Wide Sales (in $) Release Date  \\\n",
       "0               2923706026    16-Dec-09   \n",
       "1               2799439100    24-Apr-19   \n",
       "2               2320250281    24-Apr-19   \n",
       "3               2264743305    19-Dec-97   \n",
       "4               2071310218    16-Dec-15   \n",
       "\n",
       "                                          Genre Running Time License  \n",
       "0  ['Action', 'Adventure', 'Fantasy', 'Sci-Fi']  2 hr 42 min   PG-13  \n",
       "1    ['Action', 'Adventure', 'Drama', 'Sci-Fi']   3 hr 1 min   PG-13  \n",
       "2    ['Action', 'Adventure', 'Drama', 'Sci-Fi']   3 hr 1 min   PG-13  \n",
       "3                          ['Drama', 'Romance']  3 hr 14 min   PG-13  \n",
       "4             ['Action', 'Adventure', 'Sci-Fi']  2 hr 18 min   PG-13  "
      ]
     },
     "execution_count": 12,
     "metadata": {},
     "output_type": "execute_result"
    }
   ],
   "source": [
    "df.head()"
   ]
  },
  {
   "cell_type": "code",
   "execution_count": 13,
   "metadata": {},
   "outputs": [
    {
     "name": "stdout",
     "output_type": "stream",
     "text": [
      "<class 'pandas.core.frame.DataFrame'>\n",
      "Int64Index: 942 entries, 0 to 999\n",
      "Data columns (total 14 columns):\n",
      " #   Column                      Non-Null Count  Dtype \n",
      "---  ------                      --------------  ----- \n",
      " 0   Unnamed: 0                  942 non-null    int64 \n",
      " 1   Title                       942 non-null    object\n",
      " 2   Movie Info                  942 non-null    object\n",
      " 3   Year                        942 non-null    int64 \n",
      " 4   Distributor                 942 non-null    object\n",
      " 5   Budget (in $)               942 non-null    object\n",
      " 6   Domestic Opening (in $)     942 non-null    object\n",
      " 7   Domestic Sales (in $)       942 non-null    int64 \n",
      " 8   International Sales (in $)  942 non-null    int64 \n",
      " 9   World Wide Sales (in $)     942 non-null    int64 \n",
      " 10  Release Date                942 non-null    object\n",
      " 11  Genre                       942 non-null    object\n",
      " 12  Running Time                942 non-null    object\n",
      " 13  License                     942 non-null    object\n",
      "dtypes: int64(5), object(9)\n",
      "memory usage: 110.4+ KB\n"
     ]
    }
   ],
   "source": [
    "df.dropna(axis=0,inplace=True)\n",
    "df.info()"
   ]
  },
  {
   "cell_type": "code",
   "execution_count": 17,
   "metadata": {
    "colab": {
     "base_uri": "https://localhost:8080/"
    },
    "executionInfo": {
     "elapsed": 7,
     "status": "ok",
     "timestamp": 1668751412816,
     "user": {
      "displayName": "farrikh alzami",
      "userId": "11964535993149439504"
     },
     "user_tz": -420
    },
    "id": "jphrq6CGVYwh",
    "outputId": "6439c3b9-ce8c-4f76-e546-aec59c69611b"
   },
   "outputs": [
    {
     "name": "stdout",
     "output_type": "stream",
     "text": [
      "<class 'pandas.core.frame.DataFrame'>\n",
      "Int64Index: 942 entries, 0 to 999\n",
      "Data columns (total 5 columns):\n",
      " #   Column       Non-Null Count  Dtype \n",
      "---  ------       --------------  ----- \n",
      " 0   Title        942 non-null    object\n",
      " 1   Year         942 non-null    int64 \n",
      " 2   Genre        942 non-null    object\n",
      " 3   Movie Info   942 non-null    object\n",
      " 4   description  942 non-null    object\n",
      "dtypes: int64(1), object(4)\n",
      "memory usage: 44.2+ KB\n"
     ]
    }
   ],
   "source": [
    "df_new = df.copy()\n",
    "df_new = df_new[['Title', 'Year', 'Genre', 'Movie Info']]\n",
    "df_new['description'] = df_new['Movie Info'].map(str) + ' ' + 'Genre are: '+df_new['Genre']\n",
    "df_new.dropna(inplace=True)\n",
    "# df = df.sort_values(by=['popularity'], ascending=False)\n",
    "df_new.info()"
   ]
  },
  {
   "cell_type": "code",
   "execution_count": 18,
   "metadata": {
    "colab": {
     "base_uri": "https://localhost:8080/",
     "height": 206
    },
    "executionInfo": {
     "elapsed": 5,
     "status": "ok",
     "timestamp": 1668751420462,
     "user": {
      "displayName": "farrikh alzami",
      "userId": "11964535993149439504"
     },
     "user_tz": -420
    },
    "id": "EGttDhkyVcnN",
    "outputId": "f0559949-5d18-4728-d50b-6aeb8a912bf5"
   },
   "outputs": [
    {
     "data": {
      "text/html": [
       "<div>\n",
       "<style scoped>\n",
       "    .dataframe tbody tr th:only-of-type {\n",
       "        vertical-align: middle;\n",
       "    }\n",
       "\n",
       "    .dataframe tbody tr th {\n",
       "        vertical-align: top;\n",
       "    }\n",
       "\n",
       "    .dataframe thead th {\n",
       "        text-align: right;\n",
       "    }\n",
       "</style>\n",
       "<table border=\"1\" class=\"dataframe\">\n",
       "  <thead>\n",
       "    <tr style=\"text-align: right;\">\n",
       "      <th></th>\n",
       "      <th>Title</th>\n",
       "      <th>Year</th>\n",
       "      <th>Genre</th>\n",
       "      <th>Movie Info</th>\n",
       "      <th>description</th>\n",
       "    </tr>\n",
       "  </thead>\n",
       "  <tbody>\n",
       "    <tr>\n",
       "      <th>0</th>\n",
       "      <td>Avatar</td>\n",
       "      <td>2009</td>\n",
       "      <td>['Action', 'Adventure', 'Fantasy', 'Sci-Fi']</td>\n",
       "      <td>A paraplegic Marine dispatched to the moon Pandora on a unique mission becomes torn between following his orders and protecting the world he feels is his home.</td>\n",
       "      <td>A paraplegic Marine dispatched to the moon Pandora on a unique mission becomes torn between following his orders and protecting the world he feels is his home. Genre are: ['Action', 'Adventure', '...</td>\n",
       "    </tr>\n",
       "    <tr>\n",
       "      <th>1</th>\n",
       "      <td>Avengers: Endgame</td>\n",
       "      <td>2019</td>\n",
       "      <td>['Action', 'Adventure', 'Drama', 'Sci-Fi']</td>\n",
       "      <td>After the devastating events of Avengers: Infinity War, the universe is in ruins. With the help of remaining allies, the Avengers assemble once more in order to reverse Thanos' actions and restore...</td>\n",
       "      <td>After the devastating events of Avengers: Infinity War, the universe is in ruins. With the help of remaining allies, the Avengers assemble once more in order to reverse Thanos' actions and restore...</td>\n",
       "    </tr>\n",
       "    <tr>\n",
       "      <th>2</th>\n",
       "      <td>Avatar: The Way of Water</td>\n",
       "      <td>2022</td>\n",
       "      <td>['Action', 'Adventure', 'Drama', 'Sci-Fi']</td>\n",
       "      <td>Jake Sully lives with his newfound family formed on the extrasolar moon Pandora. Once a familiar threat returns to finish what was previously started, Jake must work with Neytiri and the army of t...</td>\n",
       "      <td>Jake Sully lives with his newfound family formed on the extrasolar moon Pandora. Once a familiar threat returns to finish what was previously started, Jake must work with Neytiri and the army of t...</td>\n",
       "    </tr>\n",
       "    <tr>\n",
       "      <th>3</th>\n",
       "      <td>Titanic</td>\n",
       "      <td>1997</td>\n",
       "      <td>['Drama', 'Romance']</td>\n",
       "      <td>A seventeen-year-old aristocrat falls in love with a kind but poor artist aboard the luxurious, ill-fated R.M.S. Titanic.</td>\n",
       "      <td>A seventeen-year-old aristocrat falls in love with a kind but poor artist aboard the luxurious, ill-fated R.M.S. Titanic. Genre are: ['Drama', 'Romance']</td>\n",
       "    </tr>\n",
       "    <tr>\n",
       "      <th>4</th>\n",
       "      <td>Star Wars: Episode VII - The Force Awakens</td>\n",
       "      <td>2015</td>\n",
       "      <td>['Action', 'Adventure', 'Sci-Fi']</td>\n",
       "      <td>As a new threat to the galaxy rises, Rey, a desert scavenger, and Finn, an ex-stormtrooper, must join Han Solo and Chewbacca to search for the one hope of restoring peace.</td>\n",
       "      <td>As a new threat to the galaxy rises, Rey, a desert scavenger, and Finn, an ex-stormtrooper, must join Han Solo and Chewbacca to search for the one hope of restoring peace. Genre are: ['Action', 'A...</td>\n",
       "    </tr>\n",
       "  </tbody>\n",
       "</table>\n",
       "</div>"
      ],
      "text/plain": [
       "                                        Title  Year  \\\n",
       "0                                      Avatar  2009   \n",
       "1                           Avengers: Endgame  2019   \n",
       "2                    Avatar: The Way of Water  2022   \n",
       "3                                     Titanic  1997   \n",
       "4  Star Wars: Episode VII - The Force Awakens  2015   \n",
       "\n",
       "                                          Genre  \\\n",
       "0  ['Action', 'Adventure', 'Fantasy', 'Sci-Fi']   \n",
       "1    ['Action', 'Adventure', 'Drama', 'Sci-Fi']   \n",
       "2    ['Action', 'Adventure', 'Drama', 'Sci-Fi']   \n",
       "3                          ['Drama', 'Romance']   \n",
       "4             ['Action', 'Adventure', 'Sci-Fi']   \n",
       "\n",
       "                                                                                                                                                                                                Movie Info  \\\n",
       "0                                          A paraplegic Marine dispatched to the moon Pandora on a unique mission becomes torn between following his orders and protecting the world he feels is his home.   \n",
       "1  After the devastating events of Avengers: Infinity War, the universe is in ruins. With the help of remaining allies, the Avengers assemble once more in order to reverse Thanos' actions and restore...   \n",
       "2  Jake Sully lives with his newfound family formed on the extrasolar moon Pandora. Once a familiar threat returns to finish what was previously started, Jake must work with Neytiri and the army of t...   \n",
       "3                                                                                A seventeen-year-old aristocrat falls in love with a kind but poor artist aboard the luxurious, ill-fated R.M.S. Titanic.   \n",
       "4                              As a new threat to the galaxy rises, Rey, a desert scavenger, and Finn, an ex-stormtrooper, must join Han Solo and Chewbacca to search for the one hope of restoring peace.   \n",
       "\n",
       "                                                                                                                                                                                               description  \n",
       "0  A paraplegic Marine dispatched to the moon Pandora on a unique mission becomes torn between following his orders and protecting the world he feels is his home. Genre are: ['Action', 'Adventure', '...  \n",
       "1  After the devastating events of Avengers: Infinity War, the universe is in ruins. With the help of remaining allies, the Avengers assemble once more in order to reverse Thanos' actions and restore...  \n",
       "2  Jake Sully lives with his newfound family formed on the extrasolar moon Pandora. Once a familiar threat returns to finish what was previously started, Jake must work with Neytiri and the army of t...  \n",
       "3                                                A seventeen-year-old aristocrat falls in love with a kind but poor artist aboard the luxurious, ill-fated R.M.S. Titanic. Genre are: ['Drama', 'Romance']  \n",
       "4  As a new threat to the galaxy rises, Rey, a desert scavenger, and Finn, an ex-stormtrooper, must join Han Solo and Chewbacca to search for the one hope of restoring peace. Genre are: ['Action', 'A...  "
      ]
     },
     "execution_count": 18,
     "metadata": {},
     "output_type": "execute_result"
    }
   ],
   "source": [
    "df_new.head()"
   ]
  },
  {
   "cell_type": "code",
   "execution_count": 19,
   "metadata": {},
   "outputs": [
    {
     "data": {
      "text/plain": [
       "\"A greedy film producer assembles a team of moviemakers and sets out for the infamous Skull Island, where they find more than just cannibalistic natives. Genre are: ['Action', 'Adventure', 'Romance']\""
      ]
     },
     "execution_count": 19,
     "metadata": {},
     "output_type": "execute_result"
    }
   ],
   "source": [
    "df_new.iloc[200].description"
   ]
  },
  {
   "cell_type": "markdown",
   "metadata": {
    "id": "60vwITLaGCxO"
   },
   "source": [
    "# Bangun Sistem Rekomendasi Film\n",
    "\n",
    "Tahapan\n",
    "- Pre Processing\n",
    "- Feature Engineering\n",
    "- Komputasi Doc Similarity\n",
    "- Proses Retrieve\n",
    "- proses rekomendasi film\n",
    "\n",
    "\n",
    "## Kemiripan Dokumen / document similarity\n",
    "\n",
    "Ada berbagai cara untuk menghitung kesamaan antara dua item dokumen. Salah satu ukuran yang paling banyak digunakan adalah __cosine similarity__ .\n",
    "\n",
    "### Cosine Similarity\n",
    "\n",
    "Cosine Similarity digunakan untuk menghitung skor numerik untuk menunjukkan kesamaan antara dua dokumen teks. Secara matematis, ini didefinisikan sebagai berikut:\n",
    "\n",
    "$$ cosinus(x,y) = \\frac{x. y^\\intercal}{||x||.||y||} $$"
   ]
  },
  {
   "cell_type": "code",
   "execution_count": 21,
   "metadata": {
    "colab": {
     "base_uri": "https://localhost:8080/"
    },
    "executionInfo": {
     "elapsed": 3582,
     "status": "ok",
     "timestamp": 1668751482462,
     "user": {
      "displayName": "farrikh alzami",
      "userId": "11964535993149439504"
     },
     "user_tz": -420
    },
    "id": "jhmh3aAqVk9X",
    "outputId": "14d715b2-aace-4eba-cd92-fa4dce2a647c"
   },
   "outputs": [
    {
     "data": {
      "text/plain": [
       "942"
      ]
     },
     "execution_count": 21,
     "metadata": {},
     "output_type": "execute_result"
    }
   ],
   "source": [
    "import nltk\n",
    "import re\n",
    "import numpy as np\n",
    "import contractions\n",
    "\n",
    "stop_words = nltk.corpus.stopwords.words('english')\n",
    "\n",
    "def normalize_document(doc):\n",
    "    # lower case and remove special characters\\whitespaces\n",
    "    doc = re.sub(r'[^a-zA-Z0-9\\s]', '', doc, re.I|re.A)\n",
    "    doc = doc.lower()\n",
    "    doc = doc.strip()\n",
    "    doc = contractions.fix(doc)\n",
    "    # tokenize document\n",
    "    tokens = nltk.word_tokenize(doc)\n",
    "    #filter stopwords out of document\n",
    "    filtered_tokens = [token for token in tokens if token not in stop_words]\n",
    "    # re-create document from filtered tokens\n",
    "    doc = ' '.join(filtered_tokens)\n",
    "    return doc\n",
    "\n",
    "normalize_corpus = np.vectorize(normalize_document)\n",
    "\n",
    "norm_corpus = normalize_corpus(list(df_new['description']))\n",
    "len(norm_corpus)"
   ]
  },
  {
   "cell_type": "markdown",
   "metadata": {
    "id": "Njr1PJAyGI3T"
   },
   "source": [
    "## Extrak TF-IDF"
   ]
  },
  {
   "cell_type": "code",
   "execution_count": 22,
   "metadata": {
    "colab": {
     "base_uri": "https://localhost:8080/"
    },
    "executionInfo": {
     "elapsed": 1128,
     "status": "ok",
     "timestamp": 1668751484503,
     "user": {
      "displayName": "farrikh alzami",
      "userId": "11964535993149439504"
     },
     "user_tz": -420
    },
    "id": "q81rt1hlVs2l",
    "outputId": "966c8a65-19d5-473e-e1c9-b6248ce7c606"
   },
   "outputs": [
    {
     "data": {
      "text/plain": [
       "(942, 2980)"
      ]
     },
     "execution_count": 22,
     "metadata": {},
     "output_type": "execute_result"
    }
   ],
   "source": [
    "from sklearn.feature_extraction.text import TfidfVectorizer\n",
    "\n",
    "tf = TfidfVectorizer(ngram_range=(1, 2), min_df=2)\n",
    "tfidf_matrix = tf.fit_transform(norm_corpus)\n",
    "tfidf_matrix.shape"
   ]
  },
  {
   "cell_type": "markdown",
   "metadata": {
    "id": "buWfXVACGMlI"
   },
   "source": [
    "## Compute Pairwise Document Similarity"
   ]
  },
  {
   "cell_type": "code",
   "execution_count": 23,
   "metadata": {
    "colab": {
     "base_uri": "https://localhost:8080/",
     "height": 279
    },
    "executionInfo": {
     "elapsed": 1078,
     "status": "ok",
     "timestamp": 1668751490801,
     "user": {
      "displayName": "farrikh alzami",
      "userId": "11964535993149439504"
     },
     "user_tz": -420
    },
    "id": "htSj1WBPVt3p",
    "outputId": "f6ad2633-877e-49cd-bff7-f7f90d5a06c4"
   },
   "outputs": [
    {
     "data": {
      "text/html": [
       "<div>\n",
       "<style scoped>\n",
       "    .dataframe tbody tr th:only-of-type {\n",
       "        vertical-align: middle;\n",
       "    }\n",
       "\n",
       "    .dataframe tbody tr th {\n",
       "        vertical-align: top;\n",
       "    }\n",
       "\n",
       "    .dataframe thead th {\n",
       "        text-align: right;\n",
       "    }\n",
       "</style>\n",
       "<table border=\"1\" class=\"dataframe\">\n",
       "  <thead>\n",
       "    <tr style=\"text-align: right;\">\n",
       "      <th></th>\n",
       "      <th>0</th>\n",
       "      <th>1</th>\n",
       "      <th>2</th>\n",
       "      <th>3</th>\n",
       "      <th>4</th>\n",
       "      <th>5</th>\n",
       "      <th>6</th>\n",
       "      <th>7</th>\n",
       "      <th>8</th>\n",
       "      <th>9</th>\n",
       "      <th>...</th>\n",
       "      <th>932</th>\n",
       "      <th>933</th>\n",
       "      <th>934</th>\n",
       "      <th>935</th>\n",
       "      <th>936</th>\n",
       "      <th>937</th>\n",
       "      <th>938</th>\n",
       "      <th>939</th>\n",
       "      <th>940</th>\n",
       "      <th>941</th>\n",
       "    </tr>\n",
       "  </thead>\n",
       "  <tbody>\n",
       "    <tr>\n",
       "      <th>0</th>\n",
       "      <td>1.000000</td>\n",
       "      <td>0.027987</td>\n",
       "      <td>0.257889</td>\n",
       "      <td>0.002108</td>\n",
       "      <td>0.031846</td>\n",
       "      <td>0.034838</td>\n",
       "      <td>0.027762</td>\n",
       "      <td>0.026929</td>\n",
       "      <td>0.007024</td>\n",
       "      <td>0.018910</td>\n",
       "      <td>...</td>\n",
       "      <td>0.057264</td>\n",
       "      <td>0.020843</td>\n",
       "      <td>0.001704</td>\n",
       "      <td>0.015668</td>\n",
       "      <td>0.059763</td>\n",
       "      <td>0.033765</td>\n",
       "      <td>0.002148</td>\n",
       "      <td>0.042658</td>\n",
       "      <td>0.072112</td>\n",
       "      <td>0.025761</td>\n",
       "    </tr>\n",
       "    <tr>\n",
       "      <th>1</th>\n",
       "      <td>0.027987</td>\n",
       "      <td>1.000000</td>\n",
       "      <td>0.078232</td>\n",
       "      <td>0.010623</td>\n",
       "      <td>0.028138</td>\n",
       "      <td>0.435230</td>\n",
       "      <td>0.044478</td>\n",
       "      <td>0.023794</td>\n",
       "      <td>0.040929</td>\n",
       "      <td>0.016708</td>\n",
       "      <td>...</td>\n",
       "      <td>0.019876</td>\n",
       "      <td>0.018417</td>\n",
       "      <td>0.008586</td>\n",
       "      <td>0.013844</td>\n",
       "      <td>0.021174</td>\n",
       "      <td>0.001611</td>\n",
       "      <td>0.001898</td>\n",
       "      <td>0.044031</td>\n",
       "      <td>0.017318</td>\n",
       "      <td>0.022762</td>\n",
       "    </tr>\n",
       "    <tr>\n",
       "      <th>2</th>\n",
       "      <td>0.257889</td>\n",
       "      <td>0.078232</td>\n",
       "      <td>1.000000</td>\n",
       "      <td>0.009506</td>\n",
       "      <td>0.066499</td>\n",
       "      <td>0.041453</td>\n",
       "      <td>0.021950</td>\n",
       "      <td>0.021291</td>\n",
       "      <td>0.044378</td>\n",
       "      <td>0.060914</td>\n",
       "      <td>...</td>\n",
       "      <td>0.017785</td>\n",
       "      <td>0.027801</td>\n",
       "      <td>0.007683</td>\n",
       "      <td>0.012388</td>\n",
       "      <td>0.054151</td>\n",
       "      <td>0.040433</td>\n",
       "      <td>0.017879</td>\n",
       "      <td>0.035762</td>\n",
       "      <td>0.015496</td>\n",
       "      <td>0.020367</td>\n",
       "    </tr>\n",
       "    <tr>\n",
       "      <th>3</th>\n",
       "      <td>0.002108</td>\n",
       "      <td>0.010623</td>\n",
       "      <td>0.009506</td>\n",
       "      <td>1.000000</td>\n",
       "      <td>0.002119</td>\n",
       "      <td>0.002318</td>\n",
       "      <td>0.001847</td>\n",
       "      <td>0.001792</td>\n",
       "      <td>0.013144</td>\n",
       "      <td>0.002068</td>\n",
       "      <td>...</td>\n",
       "      <td>0.002036</td>\n",
       "      <td>0.001887</td>\n",
       "      <td>0.012201</td>\n",
       "      <td>0.003035</td>\n",
       "      <td>0.002170</td>\n",
       "      <td>0.020312</td>\n",
       "      <td>0.002697</td>\n",
       "      <td>0.010293</td>\n",
       "      <td>0.002143</td>\n",
       "      <td>0.002817</td>\n",
       "    </tr>\n",
       "    <tr>\n",
       "      <th>4</th>\n",
       "      <td>0.031846</td>\n",
       "      <td>0.028138</td>\n",
       "      <td>0.066499</td>\n",
       "      <td>0.002119</td>\n",
       "      <td>1.000000</td>\n",
       "      <td>0.071778</td>\n",
       "      <td>0.043104</td>\n",
       "      <td>0.056459</td>\n",
       "      <td>0.007062</td>\n",
       "      <td>0.034790</td>\n",
       "      <td>...</td>\n",
       "      <td>0.022616</td>\n",
       "      <td>0.035353</td>\n",
       "      <td>0.001713</td>\n",
       "      <td>0.015753</td>\n",
       "      <td>0.241760</td>\n",
       "      <td>0.038016</td>\n",
       "      <td>0.022735</td>\n",
       "      <td>0.001445</td>\n",
       "      <td>0.063560</td>\n",
       "      <td>0.025900</td>\n",
       "    </tr>\n",
       "  </tbody>\n",
       "</table>\n",
       "<p>5 rows × 942 columns</p>\n",
       "</div>"
      ],
      "text/plain": [
       "        0         1         2         3         4         5         6    \\\n",
       "0  1.000000  0.027987  0.257889  0.002108  0.031846  0.034838  0.027762   \n",
       "1  0.027987  1.000000  0.078232  0.010623  0.028138  0.435230  0.044478   \n",
       "2  0.257889  0.078232  1.000000  0.009506  0.066499  0.041453  0.021950   \n",
       "3  0.002108  0.010623  0.009506  1.000000  0.002119  0.002318  0.001847   \n",
       "4  0.031846  0.028138  0.066499  0.002119  1.000000  0.071778  0.043104   \n",
       "\n",
       "        7         8         9    ...       932       933       934       935  \\\n",
       "0  0.026929  0.007024  0.018910  ...  0.057264  0.020843  0.001704  0.015668   \n",
       "1  0.023794  0.040929  0.016708  ...  0.019876  0.018417  0.008586  0.013844   \n",
       "2  0.021291  0.044378  0.060914  ...  0.017785  0.027801  0.007683  0.012388   \n",
       "3  0.001792  0.013144  0.002068  ...  0.002036  0.001887  0.012201  0.003035   \n",
       "4  0.056459  0.007062  0.034790  ...  0.022616  0.035353  0.001713  0.015753   \n",
       "\n",
       "        936       937       938       939       940       941  \n",
       "0  0.059763  0.033765  0.002148  0.042658  0.072112  0.025761  \n",
       "1  0.021174  0.001611  0.001898  0.044031  0.017318  0.022762  \n",
       "2  0.054151  0.040433  0.017879  0.035762  0.015496  0.020367  \n",
       "3  0.002170  0.020312  0.002697  0.010293  0.002143  0.002817  \n",
       "4  0.241760  0.038016  0.022735  0.001445  0.063560  0.025900  \n",
       "\n",
       "[5 rows x 942 columns]"
      ]
     },
     "execution_count": 23,
     "metadata": {},
     "output_type": "execute_result"
    }
   ],
   "source": [
    "from sklearn.metrics.pairwise import cosine_similarity\n",
    "\n",
    "doc_sim = cosine_similarity(tfidf_matrix)\n",
    "doc_sim_df = pd.DataFrame(doc_sim)\n",
    "doc_sim_df.head()"
   ]
  },
  {
   "cell_type": "markdown",
   "metadata": {
    "id": "06tyYXABGOY2"
   },
   "source": [
    "## mendapatkan title / judul movies"
   ]
  },
  {
   "cell_type": "code",
   "execution_count": 24,
   "metadata": {
    "colab": {
     "base_uri": "https://localhost:8080/"
    },
    "executionInfo": {
     "elapsed": 505,
     "status": "ok",
     "timestamp": 1668751494332,
     "user": {
      "displayName": "farrikh alzami",
      "userId": "11964535993149439504"
     },
     "user_tz": -420
    },
    "id": "AkQ1-OjFVvdw",
    "outputId": "2d58ea43-412b-4bc6-b132-d3d13a036092"
   },
   "outputs": [
    {
     "data": {
      "text/plain": [
       "(array(['Avatar', 'Avengers: Endgame', 'Avatar: The Way of Water',\n",
       "        'Titanic', 'Star Wars: Episode VII - The Force Awakens',\n",
       "        'Avengers: Infinity War', 'Spider-Man: No Way Home',\n",
       "        'Jurassic World', 'The Lion King', 'The Avengers', 'Furious 7',\n",
       "        'Top Gun: Maverick', 'Frozen II', 'Barbie',\n",
       "        'Avengers: Age of Ultron', 'The Super Mario Bros. Movie',\n",
       "        'Black Panther', 'Harry Potter and the Deathly Hallows: Part 2',\n",
       "        'Star Wars: Episode VIII - The Last Jedi',\n",
       "        'Jurassic World: Fallen Kingdom', 'Frozen', 'Beauty and the Beast',\n",
       "        'Incredibles 2', 'The Fate of the Furious', 'Iron Man 3',\n",
       "        'Minions', 'Captain America: Civil War', 'Aquaman',\n",
       "        'The Lord of the Rings: The Return of the King', 'Skyfall',\n",
       "        'Spider-Man: Far from Home', 'Captain Marvel',\n",
       "        'Transformers: Dark of the Moon', 'Jurassic Park',\n",
       "        'Transformers: Age of Extinction', 'The Dark Knight Rises',\n",
       "        'Star Wars: Episode IX - The Rise of Skywalker', 'Joker',\n",
       "        'Toy Story 4', 'Toy Story 3',\n",
       "        \"Pirates of the Caribbean: Dead Man's Chest\",\n",
       "        'Rogue One: A Star Wars Story', 'Aladdin',\n",
       "        'Pirates of the Caribbean: On Stranger Tides', 'Despicable Me 3',\n",
       "        'Finding Dory', 'Star Wars: Episode I - The Phantom Menace',\n",
       "        'Zootopia', 'Alice in Wonderland',\n",
       "        \"Harry Potter and the Sorcerer's Stone\",\n",
       "        'The Hobbit: An Unexpected Journey', 'The Dark Knight',\n",
       "        'Jurassic World Dominion', 'Jumanji: Welcome to the Jungle',\n",
       "        'Harry Potter and the Deathly Hallows: Part 1', 'Despicable Me 2',\n",
       "        'The Lion King', 'The Jungle Book',\n",
       "        'The Hobbit: The Battle of the Five Armies',\n",
       "        \"Pirates of the Caribbean: At World's End\",\n",
       "        'The Hobbit: The Desolation of Smaug',\n",
       "        'Doctor Strange in the Multiverse of Madness',\n",
       "        'The Lord of the Rings: The Two Towers',\n",
       "        'Harry Potter and the Order of the Phoenix', 'Finding Nemo',\n",
       "        'Minions: The Rise of Gru',\n",
       "        'Harry Potter and the Half-Blood Prince', 'Shrek 2', 'Oppenheimer',\n",
       "        'Harry Potter and the Chamber of Secrets', 'Bohemian Rhapsody',\n",
       "        'The Battle at Lake Changjin',\n",
       "        'The Lord of the Rings: The Fellowship of the Ring',\n",
       "        'Harry Potter and the Goblet of Fire', 'Spider-Man 3',\n",
       "        'The Secret Life of Pets', 'Ice Age: Dawn of the Dinosaurs',\n",
       "        'Spectre', 'Spider-Man: Homecoming', 'Ice Age: Continental Drift',\n",
       "        'Batman v Superman: Dawn of Justice', 'Wolf Warrior 2',\n",
       "        'Star Wars: Episode III - Revenge of the Sith',\n",
       "        'The Hunger Games: Catching Fire',\n",
       "        'Guardians of the Galaxy Vol. 2', 'Black Panther: Wakanda Forever',\n",
       "        'Inside Out', 'Venom', 'Thor: Ragnarok',\n",
       "        'The Twilight Saga: Breaking Dawn - Part 2',\n",
       "        'Guardians of the Galaxy Vol. 3', 'Inception',\n",
       "        'Transformers: Revenge of the Fallen', 'Spider-Man',\n",
       "        'Wonder Woman', 'Hi, Mom', 'Independence Day', 'Coco',\n",
       "        'Fantastic Beasts and Where to Find Them', 'Shrek the Third',\n",
       "        'Jumanji: The Next Level',\n",
       "        'Harry Potter and the Prisoner of Azkaban',\n",
       "        'Pirates of the Caribbean: Dead Men Tell No Tales',\n",
       "        'E.T. the Extra-Terrestrial', 'Mission: Impossible - Fallout',\n",
       "        '2012', 'Indiana Jones and the Kingdom of the Crystal Skull',\n",
       "        'Spider-Man 2', 'Fast & Furious 6', 'Deadpool 2', 'Deadpool',\n",
       "        'Star Wars: Episode IV - A New Hope', 'No Time to Die',\n",
       "        'Guardians of the Galaxy', 'The Batman', 'Thor: Love and Thunder',\n",
       "        'Fast & Furious Presents: Hobbs & Shaw', 'The Da Vinci Code',\n",
       "        'Maleficent', 'The Amazing Spider-Man',\n",
       "        'The Hunger Games: Mockingjay - Part 1', 'Shrek Forever After',\n",
       "        'Gravity', \"Madagascar 3: Europe's Most Wanted\", 'Suicide Squad',\n",
       "        'X-Men: Days of Future Past',\n",
       "        'The Chronicles of Narnia: The Lion, the Witch and the Wardrobe',\n",
       "        'Monsters University', 'The Matrix Reloaded', 'Up', 'Ne Zha',\n",
       "        'F9: The Fast Saga', 'Captain America: The Winter Soldier',\n",
       "        'The Twilight Saga: Breaking Dawn - Part 1',\n",
       "        'The Twilight Saga: New Moon', 'Dawn of the Planet of the Apes',\n",
       "        'Transformers', 'The Amazing Spider-Man 2', 'Fast X',\n",
       "        'Interstellar', 'It', 'The Wandering Earth',\n",
       "        'The Twilight Saga: Eclipse',\n",
       "        'Mission: Impossible - Ghost Protocol', 'Mamma Mia!',\n",
       "        'The Hunger Games', 'Spider-Man: Across the Spider-Verse', 'Moana',\n",
       "        'Detective Chinatown 3', 'Mission: Impossible - Rogue Nation',\n",
       "        'Forrest Gump', 'Doctor Strange', 'The Sixth Sense',\n",
       "        'Man of Steel', 'Ice Age: The Meltdown', 'Kung Fu Panda 2',\n",
       "        'Justice League', 'Big Hero 6',\n",
       "        'Fantastic Beasts: The Crimes of Grindelwald',\n",
       "        'Pirates of the Caribbean: The Curse of the Black Pearl',\n",
       "        'Men in Black 3', 'Star Wars: Episode II - Attack of the Clones',\n",
       "        'The Hunger Games: Mockingjay - Part 2', 'Thor: The Dark World',\n",
       "        'Sing', 'Kung Fu Panda', 'The Incredibles', 'The Martian',\n",
       "        'Hancock', 'Water Gate Bridge', 'Fast Five', 'Iron Man 2',\n",
       "        'Ratatouille', 'Ant-Man and the Wasp',\n",
       "        'How to Train Your Dragon 2', 'Logan',\n",
       "        'The Lost World: Jurassic Park', 'Casino Royale',\n",
       "        'The Passion of the Christ', 'Life of Pi', 'Ready Player One',\n",
       "        'Transformers: The Last Knight', 'Madagascar: Escape 2 Africa',\n",
       "        'War of the Worlds', 'Tangled', 'Quantum of Solace',\n",
       "        'Men in Black', 'The Croods', 'The Hangover Part II', 'Iron Man',\n",
       "        'I Am Legend', 'Monsters, Inc.', 'Operation Red Sea',\n",
       "        'Night at the Museum', 'Fifty Shades of Grey',\n",
       "        'The Little Mermaid',\n",
       "        'Mission: Impossible - Dead Reckoning Part One',\n",
       "        'Kong: Skull Island', 'The Smurfs', 'Cars 2', 'King Kong',\n",
       "        'Puss in Boots', 'The Mermaid', 'Armageddon',\n",
       "        'The Day After Tomorrow', 'Ted', 'American Sniper',\n",
       "        'Mission: Impossible II', 'Detective Chinatown 2',\n",
       "        'X-Men: Apocalypse', 'Sherlock Holmes: A Game of Shadows',\n",
       "        'Despicable Me', 'Cinderella', 'Madagascar', 'World War Z',\n",
       "        'Brave', 'Star Wars: Episode V - The Empire Strikes Back',\n",
       "        'The Simpsons Movie', 'The Revenant', 'The Meg',\n",
       "        'Ralph Breaks the Internet',\n",
       "        'Hotel Transylvania 3: Summer Vacation', 'The Boss Baby',\n",
       "        'Dunkirk', 'The Grinch', 'Godzilla',\n",
       "        'How to Train Your Dragon: The Hidden World', 'Sherlock Holmes',\n",
       "        'Meet the Fockers', 'Kung Fu Panda 3',\n",
       "        'Terminator 2: Judgment Day', 'Ant-Man',\n",
       "        'Venom: Let There Be Carnage', 'Gladiator', 'Rio 2', 'Troy',\n",
       "        'How to Train Your Dragon', 'Oz the Great and Powerful',\n",
       "        'Clash of the Titans', 'Maleficent: Mistress of Evil',\n",
       "        'War for the Planet of the Apes', 'Shrek', 'Mr. & Mrs. Smith',\n",
       "        'Elemental', 'Angels & Demons', 'Teenage Mutant Ninja Turtles',\n",
       "        'Bruce Almighty', \"The King's Speech\", 'Rio',\n",
       "        'Saving Private Ryan', 'Rise of the Planet of the Apes',\n",
       "        'Puss in Boots: The Last Wish', 'Hotel Transylvania 2',\n",
       "        'Star Wars: Episode VI - Return of the Jedi',\n",
       "        'Charlie and the Chocolate Factory',\n",
       "        'Indiana Jones and the Last Crusade', 'San Andreas',\n",
       "        'It Chapter Two', 'La La Land', 'Wreck-It Ralph',\n",
       "        'Godzilla vs. Kong', 'The Hangover', 'Lucy', 'The Lego Movie',\n",
       "        'Bumblebee', 'Star Trek Into Darkness', 'The Matrix',\n",
       "        'Pretty Woman', 'X-Men: The Last Stand', 'Moon Man',\n",
       "        'National Treasure: Book of Secrets', 'Mission: Impossible', '300',\n",
       "        'The Last Samurai', 'Demon Slayer the Movie: Mugen Train',\n",
       "        'Dying to Survive', \"Ocean's Eleven\", 'My People, My Country',\n",
       "        'Pokémon: Detective Pikachu', 'Thor', 'Pearl Harbor', 'Tarzan',\n",
       "        'Men in Black II', 'The Bourne Ultimatum', 'The Mummy Returns',\n",
       "        'Alvin and the Chipmunks: The Squeakquel', 'Les Misérables',\n",
       "        'The Exorcist', 'Mrs. Doubtfire', 'Terminator Genisys', 'Warcraft',\n",
       "        'Transformers: Rise of the Beasts', 'A Star Is Born',\n",
       "        'The Greatest Showman', 'Terminator 3: Rise of the Machines',\n",
       "        'Shang-Chi and the Legend of the Ten Rings', 'Die Another Day',\n",
       "        'The Secret Life of Pets 2', 'Cast Away', 'Rampage',\n",
       "        'The Matrix Revolutions', 'The Intouchables',\n",
       "        'John Wick: Chapter 4', 'Bad Boys for Life', 'Django Unchained',\n",
       "        'The Chronicles of Narnia: Prince Caspian', 'Sex and the City',\n",
       "        'The Captain', 'The Mummy',\n",
       "        'The Chronicles of Narnia: The Voyage of the Dawn Treader',\n",
       "        'Jason Bourne', 'The Wolverine', 'Kingsman: The Secret Service',\n",
       "        'Night at the Museum: Battle of the Smithsonian', 'Pacific Rim',\n",
       "        'Kingsman: The Golden Circle', 'The Mummy',\n",
       "        'Ice Age: Collision Course', 'Twilight', 'Sing 2', 'Signs', 'X2',\n",
       "        'Fantastic Beasts: The Secrets of Dumbledore', 'Uncharted',\n",
       "        'The Wolf of Wall Street', 'Sonic the Hedgehog 2',\n",
       "        'Alita: Battle Angel', 'The Mummy: Tomb of the Dragon Emperor',\n",
       "        'Prometheus', 'Gone with the Wind', 'Mamma Mia! Here We Go Again',\n",
       "        'Eternals', 'Dune', 'TRON: Legacy', 'Mission: Impossible III',\n",
       "        'Snow White and the Huntsman', 'Grease', 'Toy Story', 'Black Adam',\n",
       "        'Solo: A Star Wars Story', 'Superman Returns', 'Meg 2: The Trench',\n",
       "        'Raiders of the Lost Ark', 'Independence Day: Resurgence',\n",
       "        'Live Free or Die Hard', 'Monster Hunt',\n",
       "        'Godzilla: King of the Monsters', 'Home', 'Star Trek', '1917',\n",
       "        'Happy Feet', 'Spider-Man: Into the Spider-Verse', 'Cars 3',\n",
       "        'Ice Age', 'Indiana Jones and the Dial of Destiny', 'Your Name.',\n",
       "        'Fifty Shades Darker', 'Monsters vs. Aliens', 'Mad Max: Fury Road',\n",
       "        'Black Widow', 'Godzilla', 'True Lies', 'Slumdog Millionaire',\n",
       "        'Once Upon a Time in Hollywood', 'Taken 2',\n",
       "        'G.I. Joe: Retaliation', 'Shark Tale', 'What Women Want',\n",
       "        'The Adventures of Tintin', 'Batman Begins',\n",
       "        'Penguins of Madagascar', 'X-Men Origins: Wolverine',\n",
       "        'The Golden Compass', 'Fifty Shades Freed', 'Hitch',\n",
       "        'Terminator Salvation', 'Captain America: The First Avenger',\n",
       "        'Edge of Tomorrow', \"There's Something About Mary\", 'Gone Girl',\n",
       "        'The Fugitive', 'Jurassic Park III', 'My Big Fat Greek Wedding',\n",
       "        'Shazam!', 'Hello Mr. Billionaire', 'Die Hard with a Vengeance',\n",
       "        'The Nun', 'Alvin and the Chipmunks', 'Tenet', 'Notting Hill',\n",
       "        'Night at the Museum: Secret of the Tomb', \"Ocean's Twelve\",\n",
       "        'Planet of the Apes', 'The Hangover Part III',\n",
       "        'The World Is Not Enough', 'Monster Hunt 2', 'Fast & Furious',\n",
       "        'Noah', 'The Karate Kid', 'Home Alone 2: Lost in New York',\n",
       "        'Hotel Transylvania', 'Minority Report', 'Top Gun',\n",
       "        'Spirited Away', 'The Legend of Tarzan', 'American Beauty',\n",
       "        'Apollo 13', 'The Great Gatsby', 'Dumbo', 'I, Robot',\n",
       "        'Basic Instinct', 'Murder on the Orient Express',\n",
       "        'X-Men: First Class', 'The Angry Birds Movie', 'GoldenEye',\n",
       "        'Catch Me If You Can', 'Now You See Me', 'Hannibal', 'The Mask',\n",
       "        'Peter Rabbit', 'Speed', 'Dinosaur', 'Mary Poppins Returns',\n",
       "        'Deep Impact', 'The Lorax', 'The Maze Runner', 'The Smurfs 2',\n",
       "        'National Treasure', 'Rush Hour 2', 'Trolls',\n",
       "        'xXx: Return of Xander Cage', 'Pocahontas',\n",
       "        'How the Grinch Stole Christmas', 'Star Trek Beyond',\n",
       "        'Alvin and the Chipmunks: Chipwrecked', 'Wanted',\n",
       "        'The Flintstones', 'A Quiet Place', 'Enchanted', 'Over the Hedge',\n",
       "        '300: Rise of an Empire', 'Batman Forever',\n",
       "        'Prince of Persia: The Sands of Time',\n",
       "        'The Curious Case of Benjamin Button',\n",
       "        'Journey 2: The Mysterious Island', 'The Rock', 'The Great Wall',\n",
       "        'Now You See Me 2', 'Never Say Die', \"Bridget Jones's Diary\",\n",
       "        'Fantastic Four', '22 Jump Street', 'Meet the Parents',\n",
       "        'Black Swan', 'The Perfect Storm',\n",
       "        'John Wick: Chapter 3 - Parabellum', 'Crocodile Dundee',\n",
       "        'Crazy Alien', 'Se7en', 'The Devil Wears Prada', 'Taken 3',\n",
       "        'A Christmas Carol', 'The SpongeBob Movie: Sponge Out of Water',\n",
       "        \"Schindler's List\", 'Megamind', 'The Conjuring 2', 'Green Book',\n",
       "        'Lethal Weapon 3', 'Robin Hood', 'Inglourious Basterds',\n",
       "        '101 Dalmatians', 'The Conjuring', 'Fatal Attraction',\n",
       "        'Sonic the Hedgehog', 'The Last Airbender', 'The Proposal',\n",
       "        'A Beautiful Mind', 'Beverly Hills Cop', 'Air Force One', 'Wonder',\n",
       "        'The Expendables 2', 'Chicken Little', 'As Good as It Gets',\n",
       "        'Austin Powers: The Spy Who Shagged Me', 'Knives Out',\n",
       "        'Maze Runner: The Scorch Trials',\n",
       "        'Resident Evil: The Final Chapter', 'The Lego Batman Movie',\n",
       "        \"Ocean's Thirteen\", 'Little Fockers', 'Bolt', 'Ransom',\n",
       "        'Runaway Bride', 'The Blind Side',\n",
       "        'The Ex-File 3: Return of the Exes', 'The Fault in Our Stars',\n",
       "        'The Pursuit of Happyness', 'Rise of the Guardians',\n",
       "        'Close Encounters of the Third Kind', 'Chicago',\n",
       "        'Annabelle: Creation', 'Bridesmaids', 'Skyscraper',\n",
       "        'A Good Day to Die Hard', 'Mulan', 'Dangal', 'Passengers',\n",
       "        'Battleship', 'Liar Liar', 'G.I. Joe: The Rise of Cobra',\n",
       "        'Wrath of the Titans', 'Fantastic Four: Rise of the Silver Surfer',\n",
       "        'Superman', 'Rocky IV', 'Rambo: First Blood Part II',\n",
       "        'Resident Evil: Afterlife', 'Van Helsing', 'Stuart Little',\n",
       "        'Beverly Hills Cop II', 'Alice Through the Looking Glass',\n",
       "        \"My Best Friend's Wedding\", 'Real Steel', \"Ocean's Eight\",\n",
       "        'A Quiet Place Part II', 'The Divergent Series: Insurgent',\n",
       "        \"Look Who's Talking\", 'Austin Powers in Goldmember',\n",
       "        \"Miss Peregrine's Home for Peculiar Children\", 'X-Men',\n",
       "        'Ferdinand', 'Shutter Island', 'Doctor Dolittle', 'Bee Movie',\n",
       "        'Salt', 'G-Force', 'The Departed', 'What Lies Beneath',\n",
       "        'Pacific Rim: Uprising', 'The Bourne Supremacy',\n",
       "        'Sex and the City 2', 'Shakespeare in Love', 'Divergent',\n",
       "        'Coming to America', 'Elvis', 'Wedding Crashers',\n",
       "        'Maze Runner: The Death Cure', 'Casper', 'American Pie 2',\n",
       "        'Pitch Perfect 2', 'The Green Mile', 'Oblivion', 'Elysium',\n",
       "        'Lethal Weapon 4', 'John Carter', 'Turbo', 'Paddington',\n",
       "        'The Tourist', 'Split', 'Scary Movie', 'xXx', 'The Bourne Legacy',\n",
       "        'Mr. Peabody & Sherman', 'Scooby-Doo', 'Lincoln', 'Creed III',\n",
       "        'Lara Croft: Tomb Raider', 'Tomb Raider', 'The Expendables',\n",
       "        'Cloudy with a Chance of Meatballs 2', 'The Nutty Professor',\n",
       "        'Jerry Maguire', 'Bad Boys II', 'Lilo & Stitch', 'Grown Ups',\n",
       "        'Neighbors', 'The Firm', \"We're the Millers\", 'Gran Torino',\n",
       "        '10,000 BC', 'American Gangster', 'The Flash', 'Epic',\n",
       "        'Exodus: Gods and Kings', 'Blade Runner 2049', 'Bambi',\n",
       "        'Batman Returns', 'Indecent Proposal', \"Something's Gotta Give\",\n",
       "        'Bridget Jones: The Edge of Reason', 'The Incredible Hulk',\n",
       "        'Waterworld', 'The Truman Show', \"Charlie's Angels\",\n",
       "        'The Fifth Element', 'Jumanji', 'Parasite', 'Borat', 'Robots',\n",
       "        'Knight and Day', 'Terminator: Dark Fate', 'The Lone Ranger',\n",
       "        'Super 8', 'Halloween', \"Charlie's Angels: Full Throttle\",\n",
       "        'Rush Hour 3', 'The Full Monty', 'Annabelle', 'Encanto',\n",
       "        'The Village', 'Lost in Hong Kong', 'Erin Brockovich', 'Us',\n",
       "        'Pegasus', 'Get Out', 'Marley & Me', 'Cliffhanger',\n",
       "        'Baahubali 2: The Conclusion', 'Babe',\n",
       "        'Men in Black: International', 'Wild Hogs',\n",
       "        'High School Musical 3: Senior Year', 'Dark Phoenix', 'True Grit',\n",
       "        'Dolittle', 'Bean', 'American Hustle', 'Enemy of the State',\n",
       "        \"You've Got Mail\", 'Eragon', 'Brother Bear', 'The Mask of Zorro',\n",
       "        'The Bad Guys', 'The Ring', 'The Blair Witch Project',\n",
       "        'Unbreakable', 'Love Actually',\n",
       "        'Journey to the West: The Demons Strike Back', 'Glass',\n",
       "        'Grown Ups 2', 'The Peanuts Movie', 'Rango',\n",
       "        'Four Weddings and a Funeral', 'Face/Off',\n",
       "        'Teenage Mutant Ninja Turtles: Out of the Shadows', 'Dark Shadows',\n",
       "        'Hulk', 'The Bravest', 'Pixels', 'Hercules', 'Rush Hour',\n",
       "        'Journey to the Center of the Earth', 'After Earth',\n",
       "        'A Few Good Men', 'Cloudy with a Chance of Meatballs', '8 Mile',\n",
       "        \"Daddy's Home\", 'RoboCop', 'Eraser', 'Alien: Covenant', 'Sully',\n",
       "        \"Assassin's Creed\", 'Click', 'Legend of Deification', 'Planes',\n",
       "        'Resident Evil: Retribution', 'Crazy Rich Asians',\n",
       "        'Batman & Robin', \"Howl's Moving Castle\", \"Gulliver's Travels\",\n",
       "        'Gone in 60 Seconds', 'Saturday Night Fever',\n",
       "        'Silver Linings Playbook', '2 Fast 2 Furious', 'Hidden Figures',\n",
       "        'A.I. Artificial Intelligence', 'Dead Poets Society', 'Spy',\n",
       "        'American Pie', 'American Reunion', 'Big Daddy',\n",
       "        'Alvin and the Chipmunks: The Road Chip', 'The Imitation Game',\n",
       "        'Cruella', 'The Day the Earth Stood Still', 'American Wedding',\n",
       "        'The Girl with the Dragon Tattoo', 'Juno', 'Argo',\n",
       "        \"Mr. Bean's Holiday\", 'The English Patient', 'Sister Act',\n",
       "        'Annabelle Comes Home', 'Constantine', 'Get Smart', 'Space Jam',\n",
       "        'Life Is Beautiful', 'The Heat', 'Ghostbusters', 'Ghost Rider',\n",
       "        'Goodbye Mr. Loser', 'Paddington 2', 'Sleepless in Seattle',\n",
       "        'Lethal Weapon 2', 'The Green Hornet', 'Out of Africa', 'Elf',\n",
       "        'Youth', 'Baby Driver', 'Immortals', 'Taken',\n",
       "        'Percy Jackson & the Olympians: The Lightning Thief', 'Lightyear',\n",
       "        'Hansel & Gretel: Witch Hunters',\n",
       "        'Valerian and the City of a Thousand Planets', 'Good Will Hunting',\n",
       "        'Better Days', 'Ford v Ferrari', 'Jumper', 'The Social Network',\n",
       "        'Con Air', 'Interview with the Vampire: The Vampire Chronicles',\n",
       "        'Flightplan', 'Yes Man', 'Non-Stop', 'Honey, I Shrunk the Kids',\n",
       "        'Fahrenheit 9/11', 'Wild Wild West', 'My Country, My Parents',\n",
       "        'Geostorm', 'Presumed Innocent', 'Jungle Cruise', 'Scary Movie 3',\n",
       "        'Collateral', 'Inferno', 'Knocked Up', 'Green Lantern',\n",
       "        'What Happens in Vegas', \"It's Complicated\", 'The Terminal',\n",
       "        'Little Women', 'Captain Phillips', 'The Prince of Egypt',\n",
       "        'Jack Reacher', 'Kingdom of Heaven', 'The Emoji Movie', 'Smile',\n",
       "        'Too Cool to Kill', 'Dracula Untold', 'Central Intelligence',\n",
       "        'Million Dollar Baby', 'The Help', \"Valentine's Day\",\n",
       "        'Bad Teacher', 'A Little Red Flower', 'The Croods: A New Age',\n",
       "        'Clear and Present Danger', 'One Hundred and One Dalmatians',\n",
       "        'Ted 2', \"Bram Stoker's Dracula\", 'Vertical Limit',\n",
       "        'Ghostbusters II', 'The Patriot', \"The Sorcerer's Apprentice\",\n",
       "        'Just Go with It', 'The Expendables 3', 'Creed II', 'Smallfoot',\n",
       "        'Public Enemies', 'The Bourne Identity', 'Disclosure',\n",
       "        'Crouching Tiger, Hidden Dragon', 'Pulp Fiction', 'The Aviator',\n",
       "        'Braveheart', 'Into the Woods', 'Bedtime Stories',\n",
       "        'Miss Congeniality', 'Sound of Freedom', 'Entrapment',\n",
       "        'Ace Ventura: When Nature Calls', 'End of Days',\n",
       "        \"Bridget Jones's Baby\", 'Fury', 'Battle Los Angeles', 'Australia',\n",
       "        'Due Date', 'Master and Commander: The Far Side of the World',\n",
       "        'A Series of Unfortunate Events', 'The Little Mermaid',\n",
       "        'Nice View', 'District 9', 'Moonraker', 'The Others',\n",
       "        'Horrible Bosses', 'Us and Them', 'Red Dragon', 'Tomorrowland',\n",
       "        'Me Before You', 'Dungeons & Dragons: Honor Among Thieves',\n",
       "        'Safe House', 'S.W.A.T.', 'DC League of Super-Pets',\n",
       "        'The Fast and the Furious', 'Traffic', 'Paranormal Activity 3',\n",
       "        'Philadelphia', 'The Conjuring: The Devil Made Me Do It',\n",
       "        'Sleepy Hollow', 'The Holiday', 'The Jungle Book', 'Raging Fire',\n",
       "        'London Has Fallen', 'The Break-Up', 'Journey to the West',\n",
       "        'The Ugly Truth', 'JFK', 'Birds of Prey', 'White House Down',\n",
       "        \"A Dog's Purpose\", 'Ponyo', 'Fun with Dick and Jane',\n",
       "        'Eat Pray Love', 'The Addams Family', 'Ghostbusters: Afterlife',\n",
       "        \"You Don't Mess with the Zohan\", 'The Nun II', 'Hairspray',\n",
       "        'King Arthur', 'Yogi Bear', 'Everest', 'Vanilla Sky', 'Arrival',\n",
       "        'Need for Speed', 'Garfield', 'Patch Adams',\n",
       "        'Straight Outta Compton', '21 Jump Street', 'Valkyrie',\n",
       "        'Open Season', 'Cats & Dogs', 'Percy Jackson: Sea of Monsters',\n",
       "        'The Lego Movie 2: The Second Part', 'Two Weeks Notice', 'RED',\n",
       "        'Shock Wave 2', 'City of Angels', 'The Pacifier', '50 First Dates',\n",
       "        'Total Recall', 'The Island', 'The Impossible', 'Lost in Thailand',\n",
       "        'Christopher Robin', 'Jack the Giant Slayer',\n",
       "        'Smurfs: The Lost Village', 'Chinese Doctors',\n",
       "        'Spy Kids 3: Game Over', 'Panic Room', 'The Other Woman',\n",
       "        'Stargate', 'Beowulf', 'The Vow', 'Anger Management',\n",
       "        'Tropic Thunder', 'Rocketman', 'The Pelican Brief',\n",
       "        'The Shape of Water', 'The BFG', 'Downton Abbey', 'The Intern',\n",
       "        'The Sum of All Fears', 'Gangs of New York', 'The Post',\n",
       "        'The Monkey King 2', 'Paranormal Activity', 'Weathering with You',\n",
       "        'The Lost City', 'The Equalizer', 'Sheep Without a Shepherd',\n",
       "        'The Longest Yard', 'The Santa Clause', 'Cheaper by the Dozen',\n",
       "        'The Equalizer 2', 'Abominable', 'Hollow Man', 'Outbreak',\n",
       "        'The White Storm 2: Drug Lords', 'The X Files', 'Breakup Buddies',\n",
       "        'The Secret Life of Walter Mitty', 'Project Gutenberg', 'Jaws 2',\n",
       "        '12 Years a Slave', 'Heat', \"Mr. Popper's Penguins\", 'The Grudge',\n",
       "        'One Piece Film: Red', 'I Now Pronounce You Chuck & Larry',\n",
       "        'The Horse Whisperer', 'Walk the Line', 'Jian Bing Man',\n",
       "        'The Final Destination', 'Atlantis: The Lost Empire', 'Inside Man',\n",
       "        'The Waterboy', 'Hugo', 'Pitch Perfect 3', 'Watchmen',\n",
       "        'The Birdcage', 'Moulin Rouge!', 'Snow White and the Seven Dwarfs',\n",
       "        'Ode to My Father', 'Hop', 'Bad Moms', 'Jupiter Ascending',\n",
       "        'Knowing', 'Storks', 'Stand by Me Doraemon',\n",
       "        \"The Hitman's Bodyguard\", 'Paul Blart: Mall Cop', \"Wayne's World\",\n",
       "        'Maverick', 'Mirror Mirror', 'The Man in the Iron Mask',\n",
       "        'Cape Fear', 'The Haunted Mansion',\n",
       "        \"The Monkey King: Havoc in Heaven's Palace\",\n",
       "        'While You Were Sleeping', 'The Bridges of Madison County',\n",
       "        'From Vegas to Macau III', 'Poseidon', 'The First Wives Club',\n",
       "        'Cliff Walkers', 'Scooby-Doo 2: Monsters Unleashed',\n",
       "        'Road to Perdition', 'Kill Bill: Vol. 1', 'The Scorpion King',\n",
       "        'Sweet Home Alabama', \"Daddy's Home 2\", 'Hacksaw Ridge', 'Deja Vu',\n",
       "        'M3GAN'], dtype=object),\n",
       " (942,))"
      ]
     },
     "execution_count": 24,
     "metadata": {},
     "output_type": "execute_result"
    }
   ],
   "source": [
    "movies_list = df['Title'].values\n",
    "movies_list, movies_list.shape"
   ]
  },
  {
   "cell_type": "markdown",
   "metadata": {
    "id": "oYnMl5HVGY3v"
   },
   "source": [
    "## Temukan Film Serupa Teratas untuk Contoh Film\n",
    "\n",
    "Mari ambil __Minions__ film paling populer dari kerangka data di atas dan coba temukan film paling mirip yang dapat direkomendasikan"
   ]
  },
  {
   "cell_type": "markdown",
   "metadata": {
    "id": "Jb0zYhQGGdXs"
   },
   "source": [
    "### ambil movie ID"
   ]
  },
  {
   "cell_type": "code",
   "execution_count": 25,
   "metadata": {
    "colab": {
     "base_uri": "https://localhost:8080/"
    },
    "executionInfo": {
     "elapsed": 3,
     "status": "ok",
     "timestamp": 1668751497820,
     "user": {
      "displayName": "farrikh alzami",
      "userId": "11964535993149439504"
     },
     "user_tz": -420
    },
    "id": "2-0eF9d5VwcD",
    "outputId": "d820533c-708d-4458-e725-c782a5c270ac"
   },
   "outputs": [
    {
     "data": {
      "text/plain": [
       "0"
      ]
     },
     "execution_count": 25,
     "metadata": {},
     "output_type": "execute_result"
    }
   ],
   "source": [
    "movie_idx = np.where(movies_list == 'Avatar')[0][0]\n",
    "movie_idx"
   ]
  },
  {
   "cell_type": "markdown",
   "metadata": {
    "id": "N5ANO-GxGg0D"
   },
   "source": [
    "### ambil similarities"
   ]
  },
  {
   "cell_type": "code",
   "execution_count": 26,
   "metadata": {
    "colab": {
     "base_uri": "https://localhost:8080/"
    },
    "executionInfo": {
     "elapsed": 3,
     "status": "ok",
     "timestamp": 1668751504352,
     "user": {
      "displayName": "farrikh alzami",
      "userId": "11964535993149439504"
     },
     "user_tz": -420
    },
    "id": "50qG66H4VxaO",
    "outputId": "05804a11-ac11-4536-9103-380d1eec0f4c"
   },
   "outputs": [
    {
     "data": {
      "text/plain": [
       "array([1.00000000e+00, 2.79866979e-02, 2.57889234e-01, 2.10779679e-03,\n",
       "       3.18455197e-02, 3.48379379e-02, 2.77622034e-02, 2.69293111e-02,\n",
       "       7.02407178e-03, 1.89100081e-02, 1.15245353e-02, 3.83750050e-02,\n",
       "       1.33875918e-02, 4.24581523e-02, 2.55446885e-02, 4.74727063e-02,\n",
       "       2.88482714e-02, 2.87277876e-02, 1.00643877e-01, 3.60301516e-02,\n",
       "       3.68605044e-02, 1.48279911e-02, 6.74866904e-02, 3.24729849e-02,\n",
       "       1.57399922e-01, 3.08935112e-02, 2.12109536e-02, 2.21563397e-02,\n",
       "       5.00680154e-02, 2.07641313e-02, 1.00306851e-01, 7.71471307e-02,\n",
       "       9.94158856e-02, 8.88769997e-02, 3.47168078e-02, 1.12450309e-02,\n",
       "       1.10963086e-01, 1.61039472e-03, 3.10057074e-02, 1.07428367e-01,\n",
       "       4.77377566e-02, 6.42503220e-02, 1.70062711e-02, 6.92766027e-02,\n",
       "       1.38152914e-02, 1.32945224e-02, 8.38813113e-02, 9.98049023e-02,\n",
       "       3.23858712e-02, 3.97788203e-02, 4.02218774e-02, 9.04504530e-03,\n",
       "       1.16459473e-02, 3.24361148e-02, 4.99749227e-02, 1.64930591e-02,\n",
       "       6.82708900e-03, 1.60009869e-02, 1.58162042e-02, 5.16316298e-02,\n",
       "       4.30902615e-02, 4.46708254e-02, 3.36034118e-02, 3.51308978e-02,\n",
       "       1.09079357e-01, 8.46072428e-03, 2.88333932e-02, 1.30099944e-02,\n",
       "       2.03103696e-02, 1.78480170e-02, 1.77709297e-03, 1.25539518e-03,\n",
       "       3.35633393e-02, 1.93786712e-02, 5.37342918e-02, 6.78340269e-03,\n",
       "       2.35902379e-02, 1.97528638e-02, 2.82773012e-02, 2.75659185e-02,\n",
       "       4.88257941e-02, 2.07208480e-02, 9.86220740e-02, 3.08425510e-02,\n",
       "       3.75954220e-02, 9.55794791e-02, 1.50517845e-02, 3.83230189e-02,\n",
       "       8.00191475e-02, 2.00179075e-02, 4.92688752e-02, 2.75014480e-02,\n",
       "       3.29866325e-02, 3.03205142e-02, 1.25104625e-01, 1.00315497e-01,\n",
       "       3.70690895e-02, 3.86509905e-02, 1.42098116e-02, 1.27547573e-02,\n",
       "       2.94585930e-02, 1.25902517e-02, 4.98034022e-02, 4.83738676e-02,\n",
       "       6.15433788e-02, 4.11204447e-02, 6.26850716e-02, 3.50053617e-02,\n",
       "       2.26509734e-02, 2.71853436e-02, 5.47329592e-02, 7.84299698e-02,\n",
       "       7.87723981e-02, 3.78519423e-02, 2.82962453e-02, 3.22444728e-02,\n",
       "       2.19246718e-02, 1.78579221e-03, 1.53346471e-02, 3.27224804e-02,\n",
       "       2.65933122e-02, 1.73711115e-02, 1.20450559e-02, 6.07270752e-03,\n",
       "       1.48617228e-01, 3.12656131e-02, 1.98783078e-02, 1.47720952e-02,\n",
       "       2.41878577e-02, 8.61382687e-03, 7.25776451e-02, 6.33761458e-03,\n",
       "       4.38804978e-02, 1.38209655e-02, 1.43141384e-02, 3.66597712e-02,\n",
       "       3.34985953e-02, 4.50605189e-02, 4.08354794e-02, 4.58320900e-02,\n",
       "       1.77709079e-03, 1.39643088e-02, 2.98888765e-02, 2.64502533e-02,\n",
       "       1.80932042e-03, 2.64019863e-02, 7.72789940e-02, 3.07999080e-02,\n",
       "       3.20215641e-02, 6.26547693e-02, 2.11302449e-03, 1.57506625e-01,\n",
       "       1.65840929e-03, 7.70222306e-02, 5.23804069e-03, 2.91132309e-02,\n",
       "       2.71307206e-02, 6.51652312e-02, 1.73118118e-02, 5.77247550e-02,\n",
       "       3.28936081e-02, 9.36539559e-02, 3.40416389e-02, 5.30304725e-02,\n",
       "       3.27770028e-02, 3.30134335e-02, 5.14348031e-02, 4.50931833e-02,\n",
       "       2.29902044e-02, 2.33324831e-02, 1.01195800e-02, 3.50031509e-02,\n",
       "       1.97788161e-02, 4.11956755e-02, 5.44365003e-02, 1.83862694e-02,\n",
       "       3.18755038e-02, 4.64119219e-02, 2.82440978e-03, 1.81599221e-02,\n",
       "       5.01794085e-02, 3.04289049e-02, 5.49172461e-03, 3.33152622e-02,\n",
       "       3.48535872e-02, 2.88863479e-02, 4.28937542e-02, 6.40916040e-02,\n",
       "       1.67773825e-03, 8.34154777e-02, 1.94232811e-02, 1.35213287e-02,\n",
       "       8.70752113e-02, 1.46980473e-02, 1.92237025e-03, 2.05152274e-02,\n",
       "       2.52352814e-02, 1.01551441e-01, 3.46164988e-02, 4.99245716e-02,\n",
       "       3.27309597e-02, 1.27659757e-02, 1.60614903e-02, 3.45514772e-02,\n",
       "       2.58203241e-02, 1.57606573e-03, 3.40679214e-02, 2.34914842e-02,\n",
       "       3.04984665e-02, 5.50154414e-02, 2.99077920e-02, 1.42151101e-02,\n",
       "       1.46832200e-02, 1.75418222e-02, 5.39848654e-02, 2.99139517e-02,\n",
       "       8.48349157e-02, 1.06796064e-02, 2.42177473e-02, 1.24897423e-01,\n",
       "       6.00828604e-02, 1.64037736e-02, 2.20042966e-02, 2.36045149e-02,\n",
       "       1.18141622e-02, 5.86112574e-02, 5.25356566e-02, 2.31776526e-02,\n",
       "       2.10097999e-03, 1.17001829e-01, 1.68309210e-02, 3.11198963e-02,\n",
       "       5.02860585e-02, 2.83425474e-02, 5.26982389e-03, 1.85403180e-03,\n",
       "       7.01933731e-02, 1.77995136e-02, 6.42314629e-02, 1.75856293e-02,\n",
       "       4.15511759e-02, 1.40376338e-02, 1.32073136e-02, 1.41516247e-02,\n",
       "       1.00868259e-02, 1.32320609e-01, 1.66745841e-02, 1.98074266e-03,\n",
       "       9.75369657e-03, 6.40213599e-02, 2.78802431e-02, 2.57535326e-02,\n",
       "       1.61018345e-02, 7.86203859e-02, 4.02961571e-02, 2.92214687e-02,\n",
       "       2.50311963e-02, 1.06173773e-02, 1.71971286e-03, 4.96857189e-02,\n",
       "       5.69984795e-02, 1.38512196e-03, 2.39917693e-02, 6.63078857e-02,\n",
       "       4.57009218e-02, 4.92345146e-02, 2.16210724e-02, 1.83735456e-03,\n",
       "       6.47688906e-02, 1.09810245e-01, 4.20383729e-02, 2.93942304e-02,\n",
       "       2.27945055e-02, 1.36341180e-02, 4.87165113e-02, 1.48716635e-02,\n",
       "       1.97882929e-03, 1.88375415e-03, 6.38219646e-02, 6.01162036e-02,\n",
       "       9.96001347e-03, 8.33843385e-03, 3.94808800e-02, 1.01311730e-02,\n",
       "       6.28383963e-02, 1.44113773e-02, 1.55001066e-03, 1.85508101e-03,\n",
       "       1.87223715e-03, 2.70076210e-02, 6.38548748e-02, 8.25242226e-02,\n",
       "       2.03756622e-03, 2.26933931e-03, 1.78263983e-02, 2.30278664e-02,\n",
       "       2.54694028e-02, 5.87567291e-02, 7.63731658e-03, 4.35896197e-02,\n",
       "       1.86002059e-02, 7.91490247e-02, 1.40606916e-02, 1.24770070e-02,\n",
       "       2.24970782e-03, 3.15498984e-02, 1.49079734e-03, 1.51608734e-03,\n",
       "       5.91763151e-02, 2.52909163e-02, 1.57736990e-02, 1.81299363e-02,\n",
       "       2.38361801e-02, 1.63304024e-02, 4.35515066e-02, 3.68028657e-02,\n",
       "       6.75279119e-02, 1.38498077e-02, 1.13937801e-02, 9.03718998e-02,\n",
       "       9.92666347e-03, 2.16796289e-02, 2.26499548e-02, 1.77404503e-02,\n",
       "       1.57419335e-03, 1.69401159e-03, 4.40681281e-02, 4.66476021e-02,\n",
       "       1.38760379e-01, 1.74039713e-02, 1.84328565e-03, 2.27379771e-03,\n",
       "       6.75642491e-02, 1.17578511e-01, 2.31528586e-02, 3.18013504e-02,\n",
       "       1.92020092e-03, 7.49154749e-03, 7.35675968e-02, 2.76718990e-02,\n",
       "       5.09371790e-02, 3.25405273e-02, 2.35973884e-02, 3.62420689e-02,\n",
       "       1.17394148e-02, 1.73425431e-02, 1.09219179e-01, 6.14936496e-02,\n",
       "       2.98552094e-02, 9.50819107e-03, 2.56755736e-02, 1.04884033e-01,\n",
       "       8.09867615e-02, 7.20418883e-03, 6.22189240e-03, 5.78712744e-03,\n",
       "       1.80238284e-03, 8.44189160e-02, 3.28386321e-02, 4.52065168e-02,\n",
       "       1.84862887e-02, 9.86947407e-03, 2.30100385e-03, 1.81576740e-03,\n",
       "       9.34656897e-03, 3.78715440e-02, 6.85284412e-03, 1.35168090e-02,\n",
       "       1.26788134e-02, 9.34398522e-03, 4.65546912e-02, 1.83494845e-02,\n",
       "       1.54201341e-02, 1.77656877e-03, 2.40941444e-03, 3.31701401e-02,\n",
       "       2.49046173e-02, 4.09460343e-02, 1.76519724e-03, 1.96545361e-03,\n",
       "       1.56963482e-03, 3.25995168e-02, 1.76129205e-03, 3.35681985e-02,\n",
       "       3.12155606e-02, 2.28120490e-02, 1.46139623e-03, 1.58507982e-02,\n",
       "       7.54175926e-02, 2.87143461e-02, 1.64073500e-02, 1.74453238e-03,\n",
       "       3.59660856e-02, 1.73028238e-03, 8.75069580e-02, 4.16655265e-02,\n",
       "       1.03552046e-02, 1.31991459e-01, 3.76300694e-02, 3.60973867e-02,\n",
       "       3.09314657e-02, 1.77873149e-02, 1.65986436e-02, 5.55268073e-02,\n",
       "       7.80513648e-02, 1.90208068e-03, 1.86100448e-03, 2.13789865e-03,\n",
       "       1.36582828e-02, 2.55640070e-02, 1.84004354e-03, 2.05078989e-03,\n",
       "       1.80882885e-02, 2.83937407e-02, 5.49223691e-02, 3.09542006e-02,\n",
       "       1.75007561e-03, 1.53436430e-03, 2.89491851e-02, 2.25103312e-02,\n",
       "       2.53458437e-02, 1.11554646e-01, 1.55112311e-02, 1.85284681e-02,\n",
       "       2.83690652e-02, 1.80028857e-02, 1.34607906e-02, 2.91753872e-02,\n",
       "       1.20682211e-02, 1.67335974e-02, 2.92359791e-02, 2.76536800e-02,\n",
       "       1.19763714e-02, 3.11682234e-02, 1.40956492e-02, 1.34509750e-02,\n",
       "       2.90899880e-02, 2.80646539e-02, 1.45305835e-02, 1.44152423e-02,\n",
       "       1.20478576e-02, 5.54059255e-02, 7.43749141e-02, 1.57777692e-02,\n",
       "       1.05282014e-01, 2.32254313e-02, 5.43433127e-02, 6.50445429e-02,\n",
       "       6.76217621e-02, 1.90841940e-03, 1.10236585e-01, 1.18378666e-02,\n",
       "       1.54305257e-03, 1.92331456e-03, 2.85738402e-02, 1.09625980e-02,\n",
       "       1.46803971e-02, 8.12200114e-03, 1.79131547e-03, 2.18873828e-03,\n",
       "       9.51461553e-03, 1.93589737e-02, 1.53898053e-02, 6.39423108e-02,\n",
       "       4.00832563e-02, 1.50061984e-03, 3.47964056e-02, 1.12738585e-02,\n",
       "       4.49537289e-02, 2.38158972e-02, 6.38743045e-03, 1.91591428e-03,\n",
       "       1.70697636e-03, 6.23342521e-02, 3.01100915e-02, 2.14840468e-03,\n",
       "       2.71178940e-03, 1.75117238e-03, 8.56590158e-03, 1.07785554e-02,\n",
       "       2.15385395e-02, 5.80533283e-02, 1.72443038e-03, 2.29969664e-02,\n",
       "       2.25419644e-03, 3.83429900e-02, 1.69927866e-02, 5.92666726e-02,\n",
       "       6.77123219e-02, 1.81552858e-03, 1.33042989e-02, 1.66914873e-02,\n",
       "       2.32371084e-03, 2.06808725e-03, 2.76645571e-03, 2.31653013e-03,\n",
       "       2.20446167e-03, 4.99868351e-02, 2.80341135e-02, 2.45336546e-03,\n",
       "       2.96611684e-02, 2.50403485e-03, 2.98405209e-02, 9.37143577e-03,\n",
       "       4.57370071e-02, 1.50802928e-02, 1.23188938e-02, 4.77274239e-02,\n",
       "       3.98071648e-02, 2.83782121e-02, 8.59060437e-02, 1.32005391e-01,\n",
       "       3.87861329e-02, 5.26391802e-02, 7.89410394e-02, 1.69336808e-02,\n",
       "       6.25731906e-02, 1.82391878e-02, 1.81988616e-02, 1.32780885e-02,\n",
       "       1.95094706e-03, 8.44991519e-02, 1.43267589e-02, 9.53209472e-02,\n",
       "       3.15482523e-02, 2.90096294e-02, 2.23575270e-02, 4.55034781e-02,\n",
       "       5.47805601e-02, 1.00868458e-01, 1.44884173e-03, 2.91448454e-03,\n",
       "       5.81761192e-03, 1.55008809e-02, 1.83917220e-01, 1.94134485e-03,\n",
       "       3.31930351e-02, 6.91955998e-02, 1.04994636e-02, 2.13221174e-03,\n",
       "       1.70039055e-03, 5.16885222e-02, 3.84377083e-02, 2.95456307e-02,\n",
       "       1.62595237e-03, 7.61803298e-02, 3.56096624e-02, 2.27597756e-03,\n",
       "       1.65791576e-03, 9.23531310e-03, 9.46018545e-02, 5.39057145e-02,\n",
       "       9.71799483e-03, 3.24708201e-02, 6.94067138e-03, 4.55646422e-02,\n",
       "       1.10352046e-02, 2.17607393e-03, 1.93265256e-03, 3.85140776e-02,\n",
       "       3.50914259e-02, 2.71349178e-02, 1.64281239e-02, 1.45024319e-03,\n",
       "       1.81488232e-03, 5.31753237e-02, 4.76926504e-02, 2.43508314e-02,\n",
       "       5.73478882e-02, 1.28750412e-02, 1.82651010e-03, 1.48391999e-02,\n",
       "       4.56050915e-02, 1.85828687e-03, 2.18381778e-03, 1.90944446e-03,\n",
       "       2.02365541e-03, 2.06639125e-03, 3.01548368e-02, 1.57787843e-03,\n",
       "       1.56056854e-02, 3.06430852e-02, 3.11488191e-02, 2.08130003e-02,\n",
       "       3.19148606e-02, 5.70057056e-02, 2.29903496e-02, 1.92545947e-03,\n",
       "       2.13052398e-03, 3.49320208e-02, 3.42816747e-02, 3.97602335e-02,\n",
       "       2.44110686e-02, 5.05954577e-02, 1.50755756e-02, 2.34374512e-03,\n",
       "       1.29050161e-01, 3.43450435e-02, 1.54028930e-02, 2.98430510e-02,\n",
       "       2.65630680e-02, 1.99422587e-02, 1.45008529e-03, 3.12344362e-02,\n",
       "       1.10126538e-02, 2.16567101e-03, 3.82994221e-02, 2.00270428e-03,\n",
       "       2.42645208e-03, 1.12717670e-03, 2.98823868e-02, 2.17434809e-03,\n",
       "       2.24161795e-03, 1.89686128e-03, 2.55643869e-03, 2.53590503e-02,\n",
       "       2.41544735e-02, 2.99529222e-02, 3.39935583e-02, 4.00890331e-02,\n",
       "       1.36359371e-03, 3.25741283e-02, 1.99732586e-03, 2.73597884e-02,\n",
       "       6.40281348e-03, 2.08934792e-02, 5.47792152e-02, 1.47463564e-03,\n",
       "       5.70540549e-02, 3.56590733e-02, 2.40595052e-02, 2.40624249e-02,\n",
       "       1.94344934e-03, 1.66034961e-03, 1.45904848e-02, 1.62125031e-03,\n",
       "       2.67459932e-03, 1.05185849e-02, 1.93376149e-03, 6.12647725e-02,\n",
       "       2.62086490e-02, 2.02551492e-03, 1.86393483e-02, 4.79111297e-02,\n",
       "       5.00939292e-02, 2.10117939e-02, 2.87981737e-02, 5.27937020e-02,\n",
       "       6.46724118e-02, 9.31444640e-03, 7.96048665e-02, 2.88897670e-02,\n",
       "       9.25554963e-02, 4.91376246e-02, 1.60097267e-03, 1.69709573e-03,\n",
       "       1.84952571e-02, 4.21288196e-02, 9.58514140e-03, 1.70189683e-03,\n",
       "       3.56950289e-02, 1.23633623e-02, 3.86041009e-02, 7.46024769e-03,\n",
       "       2.03977519e-02, 2.14810884e-03, 2.17360826e-02, 1.80168560e-02,\n",
       "       2.02074075e-02, 1.02819253e-02, 1.18147492e-02, 1.86826232e-03,\n",
       "       9.70910521e-03, 1.80064732e-03, 1.12321244e-02, 1.09875859e-02,\n",
       "       2.73969232e-02, 2.76772009e-03, 2.09856971e-03, 3.61160853e-02,\n",
       "       1.69354526e-03, 1.76785007e-02, 6.82818856e-02, 1.60030855e-02,\n",
       "       1.71597510e-03, 2.05731277e-03, 1.99452215e-03, 1.40938191e-03,\n",
       "       1.47123351e-03, 1.95106363e-02, 1.63592598e-03, 1.68547130e-03,\n",
       "       2.64010123e-02, 2.15001333e-02, 2.16177031e-02, 2.74118612e-02,\n",
       "       1.14685900e-02, 9.50471940e-02, 1.76647268e-02, 2.69025991e-02,\n",
       "       1.86500312e-02, 2.21201894e-03, 1.94453414e-03, 5.96319376e-02,\n",
       "       1.41784734e-02, 1.23415763e-02, 2.08195053e-02, 1.24361597e-02,\n",
       "       2.06129103e-02, 1.05188894e-02, 2.86979579e-02, 4.36339945e-02,\n",
       "       2.23704853e-02, 1.13070137e-01, 1.09506282e-01, 9.02982642e-02,\n",
       "       8.61167824e-03, 4.19864547e-02, 1.51720311e-03, 1.43200136e-02,\n",
       "       1.45947570e-02, 4.59603767e-02, 3.55010940e-03, 1.62991605e-02,\n",
       "       1.10932622e-02, 1.69849203e-03, 1.59334726e-02, 2.75460169e-02,\n",
       "       1.94796941e-02, 2.77398642e-02, 2.16048572e-02, 1.65477176e-03,\n",
       "       9.57367750e-03, 1.97592221e-02, 1.58438105e-03, 3.33638195e-02,\n",
       "       1.92414300e-03, 1.87864101e-03, 2.10000657e-03, 1.81429143e-03,\n",
       "       1.09084452e-02, 1.70835937e-02, 1.35541683e-02, 3.09827668e-02,\n",
       "       7.68046563e-02, 8.59526135e-02, 4.56928525e-02, 1.87898959e-02,\n",
       "       2.99194018e-02, 1.73840639e-03, 1.63245979e-03, 2.16024710e-03,\n",
       "       1.85510612e-03, 1.77327839e-03, 2.55500358e-03, 1.00097107e-02,\n",
       "       9.90910936e-03, 1.76544021e-03, 1.03870300e-02, 2.66556655e-02,\n",
       "       2.79897150e-02, 1.08206590e-02, 3.50950169e-02, 1.92709317e-03,\n",
       "       1.71897539e-03, 9.60065610e-03, 8.48840752e-03, 1.13040962e-02,\n",
       "       1.31911021e-02, 1.79177055e-03, 6.60332708e-02, 1.87098415e-03,\n",
       "       2.21797351e-03, 1.83457135e-03, 1.79871990e-02, 2.27605306e-02,\n",
       "       1.04621443e-02, 4.75553438e-02, 1.31859105e-02, 1.16838384e-02,\n",
       "       2.15359733e-02, 1.99457180e-03, 1.45650190e-02, 8.21835033e-02,\n",
       "       7.92874470e-03, 1.79707814e-03, 2.24841165e-02, 1.25143645e-02,\n",
       "       1.99727151e-02, 1.02643538e-02, 2.09414750e-02, 2.19734250e-02,\n",
       "       7.75397588e-02, 2.58520945e-03, 5.18899854e-02, 1.51376830e-03,\n",
       "       7.14404246e-02, 2.06548983e-03, 1.63486510e-03, 1.02418317e-02,\n",
       "       2.22600838e-02, 5.00441237e-02, 5.09841335e-02, 1.13008154e-02,\n",
       "       1.05133290e-01, 1.91501584e-03, 3.01959420e-03, 1.63868341e-02,\n",
       "       2.13165903e-03, 1.84016104e-03, 1.82270051e-03, 3.56883928e-02,\n",
       "       2.51817131e-03, 1.49256040e-03, 1.92241001e-03, 1.87162685e-03,\n",
       "       1.30589413e-02, 1.51200005e-02, 2.00002933e-02, 1.62302783e-02,\n",
       "       6.10686872e-02, 1.74205219e-03, 1.15069973e-02, 9.17032056e-03,\n",
       "       1.50051768e-02, 1.14703138e-02, 1.36592614e-02, 3.28388112e-02,\n",
       "       7.11668966e-03, 2.63008455e-02, 2.20498259e-02, 3.07864606e-02,\n",
       "       2.05546264e-02, 1.84528855e-02, 1.65916002e-03, 1.74430024e-03,\n",
       "       1.31145070e-02, 1.68666256e-02, 5.30747106e-03, 3.61269860e-02,\n",
       "       1.44481689e-02, 3.63549972e-02, 2.53089210e-03, 1.09165208e-02,\n",
       "       9.84693574e-03, 1.64253066e-02, 8.98834717e-03, 1.53919179e-03,\n",
       "       2.91381120e-02, 4.26681912e-02, 4.17861614e-02, 3.79775081e-02,\n",
       "       1.68884835e-02, 6.70188647e-02, 1.39058903e-02, 4.41007429e-02,\n",
       "       5.63292073e-02, 1.72126593e-03, 1.80059384e-03, 2.03540901e-03,\n",
       "       3.96596896e-02, 1.85205040e-03, 2.40245816e-03, 1.36337119e-02,\n",
       "       1.43433696e-02, 2.01206964e-03, 5.61987320e-02, 3.06617056e-02,\n",
       "       1.90600018e-03, 3.50457578e-02, 8.53151643e-03, 1.72781431e-03,\n",
       "       1.75437904e-03, 1.51569675e-03, 7.18349186e-02, 3.00395195e-02,\n",
       "       6.81403194e-03, 1.23556099e-02, 1.18621482e-02, 2.14892007e-03,\n",
       "       1.21897061e-02, 2.02017522e-03, 1.59982346e-02, 1.74808961e-02,\n",
       "       2.67337948e-02, 1.82053314e-02, 1.77063399e-02, 2.51302505e-02,\n",
       "       2.27160915e-02, 2.81709060e-02, 1.23024780e-02, 1.71137361e-02,\n",
       "       1.84184593e-03, 1.80291965e-03, 1.19191207e-02, 1.58904357e-03,\n",
       "       6.17843598e-02, 2.06351453e-03, 6.65006379e-02, 1.37916067e-03,\n",
       "       1.60930592e-03, 2.22862338e-03, 7.70018660e-02, 1.87120558e-03,\n",
       "       9.62852414e-02, 1.96899261e-03, 6.38178285e-02, 1.57068003e-02,\n",
       "       2.34721985e-02, 2.03526298e-03, 1.99775548e-03, 1.78169343e-03,\n",
       "       1.45389183e-02, 2.01535150e-03, 3.30593900e-02, 2.46198555e-02,\n",
       "       1.98846758e-02, 3.44873382e-02, 2.64683997e-02, 1.35419842e-02,\n",
       "       2.20057376e-03, 1.78910331e-03, 1.50670063e-02, 1.42673451e-02,\n",
       "       2.62332594e-02, 1.03235481e-02, 9.64132473e-03, 2.35054179e-03,\n",
       "       2.48753744e-03, 7.48628564e-04, 2.51861671e-02, 2.60753971e-02,\n",
       "       5.72643246e-02, 2.08431805e-02, 1.70350400e-03, 1.56682520e-02,\n",
       "       5.97633589e-02, 3.37653827e-02, 2.14772078e-03, 4.26581434e-02,\n",
       "       7.21116179e-02, 2.57609725e-02])"
      ]
     },
     "execution_count": 26,
     "metadata": {},
     "output_type": "execute_result"
    }
   ],
   "source": [
    "movie_similarities = doc_sim_df.iloc[movie_idx].values\n",
    "movie_similarities"
   ]
  },
  {
   "cell_type": "markdown",
   "metadata": {
    "id": "7Z4U9XqMGofg"
   },
   "source": [
    "### Get top 5 similar movie IDs"
   ]
  },
  {
   "cell_type": "code",
   "execution_count": 27,
   "metadata": {
    "colab": {
     "base_uri": "https://localhost:8080/"
    },
    "executionInfo": {
     "elapsed": 398,
     "status": "ok",
     "timestamp": 1668751508133,
     "user": {
      "displayName": "farrikh alzami",
      "userId": "11964535993149439504"
     },
     "user_tz": -420
    },
    "id": "nCp6LI9OVzBh",
    "outputId": "287a770a-34e1-4c38-9c7c-363bf5cb097a"
   },
   "outputs": [
    {
     "data": {
      "text/plain": [
       "array([  2, 534, 151,  24, 124], dtype=int64)"
      ]
     },
     "execution_count": 27,
     "metadata": {},
     "output_type": "execute_result"
    }
   ],
   "source": [
    "similar_movie_idxs = np.argsort(-movie_similarities)[1:6]\n",
    "similar_movie_idxs"
   ]
  },
  {
   "cell_type": "markdown",
   "metadata": {
    "id": "nf3R8PL_GsFV"
   },
   "source": [
    "### Get top 5 similar movies"
   ]
  },
  {
   "cell_type": "code",
   "execution_count": 28,
   "metadata": {
    "colab": {
     "base_uri": "https://localhost:8080/"
    },
    "executionInfo": {
     "elapsed": 389,
     "status": "ok",
     "timestamp": 1668751511982,
     "user": {
      "displayName": "farrikh alzami",
      "userId": "11964535993149439504"
     },
     "user_tz": -420
    },
    "id": "p45bXWcLVz7V",
    "outputId": "89e1f3ac-2a16-44c7-8ef6-f174b1bc02cf"
   },
   "outputs": [
    {
     "data": {
      "text/plain": [
       "array(['Avatar: The Way of Water', 'G-Force', 'Doctor Strange',\n",
       "       'Iron Man 3', 'Suicide Squad'], dtype=object)"
      ]
     },
     "execution_count": 28,
     "metadata": {},
     "output_type": "execute_result"
    }
   ],
   "source": [
    "similar_movies = movies_list[similar_movie_idxs]\n",
    "similar_movies"
   ]
  },
  {
   "cell_type": "markdown",
   "metadata": {
    "id": "HsEr2msSG0P_"
   },
   "source": [
    "### Buat fungsi rekomendasi film untuk merekomendasikan 5 film serupa teratas untuk film apa pun\n",
    "\n",
    "\n",
    "The movie title, movie title list and document similarity matrix dataframe akan diberikan sebagai input ke fungsi"
   ]
  },
  {
   "cell_type": "code",
   "execution_count": 29,
   "metadata": {
    "id": "ntQfhP_CV0wO"
   },
   "outputs": [],
   "source": [
    "def movie_recommender(movie_title, movies=movies_list, doc_sims=doc_sim_df):\n",
    "    # find movie id\n",
    "    movie_idx = np.where(movies == movie_title)[0][0]\n",
    "    # get movie similarities\n",
    "    movie_similarities = doc_sims.iloc[movie_idx].values\n",
    "    # get top 5 similar movie IDs\n",
    "    similar_movie_idxs = np.argsort(-movie_similarities)[1:6]\n",
    "    # get top 5 movies\n",
    "    similar_movies = movies[similar_movie_idxs]\n",
    "    # return the top 5 movies\n",
    "    return similar_movies"
   ]
  },
  {
   "cell_type": "markdown",
   "metadata": {
    "id": "woWv4gI9G_j8"
   },
   "source": [
    "# misal cari rekomendasi untuk film film berikut"
   ]
  },
  {
   "cell_type": "code",
   "execution_count": 59,
   "metadata": {
    "id": "5tyK3sc9V1sW"
   },
   "outputs": [],
   "source": [
    "popular_movies = ['Barbie']"
   ]
  },
  {
   "cell_type": "code",
   "execution_count": 60,
   "metadata": {
    "colab": {
     "base_uri": "https://localhost:8080/"
    },
    "executionInfo": {
     "elapsed": 4,
     "status": "ok",
     "timestamp": 1668751524302,
     "user": {
      "displayName": "farrikh alzami",
      "userId": "11964535993149439504"
     },
     "user_tz": -420
    },
    "id": "G0UfKTONV22K",
    "outputId": "3c1328de-615a-49a3-9b54-51c764ab1644"
   },
   "outputs": [
    {
     "name": "stdout",
     "output_type": "stream",
     "text": [
      "Movie: Barbie\n",
      "Top 5 recommended Movies: ['The Grinch' 'Over the Hedge' 'Dinosaur' 'Tangled' 'Trolls']\n",
      "\n"
     ]
    }
   ],
   "source": [
    "for movie in popular_movies:\n",
    "    print('Movie:', movie)\n",
    "    print('Top 5 recommended Movies:', movie_recommender(movie_title=movie, movies=movies_list, doc_sims=doc_sim_df))\n",
    "    print()"
   ]
  },
  {
   "cell_type": "markdown",
   "metadata": {
    "id": "hmdn6yPYHMCo"
   },
   "source": [
    "# Rekomendasi Film (other method)"
   ]
  },
  {
   "cell_type": "code",
   "execution_count": 36,
   "metadata": {
    "id": "V5_7kZA6V33t"
   },
   "outputs": [],
   "source": [
    "# Gensim FastText\n",
    "from gensim.models import FastText\n",
    "\n",
    "tokenized_docs = [doc.split() for doc in norm_corpus]\n",
    "ft_model = FastText(tokenized_docs, window=30, min_count=2, workers=4, sg=1)"
   ]
  },
  {
   "cell_type": "markdown",
   "metadata": {
    "id": "wwV4oV_cHfM2"
   },
   "source": [
    "# Hasilkan penyematan tingkat dokumen / Word Embedding\n",
    "\n",
    "Model penyematan kata (word embedding) memberi kita penyematan untuk setiap kata, bagaimana kita dapat menggunakannya untuk tugas ML\\DL hilirisasi? salah satu caranya adalah dengan meratakannya atau menggunakan model sekuensial. Pendekatan yang lebih sederhana adalah dengan rata-rata semua penyematan kata untuk kata-kata dalam dokumen dan menghasilkan penyematan tingkat dokumen dengan panjang tetap (fixed-length document level emebdding)"
   ]
  },
  {
   "cell_type": "code",
   "execution_count": 37,
   "metadata": {
    "id": "BhPCV1CtV9G5"
   },
   "outputs": [],
   "source": [
    "def averaged_word2vec_vectorizer(corpus, model, num_features):\n",
    "    vocabulary = set(model.wv.index_to_key)\n",
    "    \n",
    "    def average_word_vectors(words, model, vocabulary, num_features):\n",
    "        feature_vector = np.zeros((num_features,), dtype=\"float64\")\n",
    "        nwords = 0.\n",
    "        \n",
    "        for word in words:\n",
    "            if word in vocabulary: \n",
    "                nwords = nwords + 1.\n",
    "                feature_vector = np.add(feature_vector, model.wv[word])\n",
    "        if nwords:\n",
    "            feature_vector = np.divide(feature_vector, nwords)\n",
    "\n",
    "        return feature_vector\n",
    "\n",
    "    features = [average_word_vectors(tokenized_sentence, model, vocabulary, num_features)\n",
    "                    for tokenized_sentence in corpus]\n",
    "    return np.array(features)"
   ]
  },
  {
   "cell_type": "code",
   "execution_count": 38,
   "metadata": {
    "colab": {
     "base_uri": "https://localhost:8080/"
    },
    "executionInfo": {
     "elapsed": 782,
     "status": "ok",
     "timestamp": 1668752106985,
     "user": {
      "displayName": "farrikh alzami",
      "userId": "11964535993149439504"
     },
     "user_tz": -420
    },
    "id": "nFqOWpbdV-Ba",
    "outputId": "6f0da3ed-6d5f-4d18-9642-bd45215fa812"
   },
   "outputs": [
    {
     "data": {
      "text/plain": [
       "(942, 100)"
      ]
     },
     "execution_count": 38,
     "metadata": {},
     "output_type": "execute_result"
    }
   ],
   "source": [
    "doc_vecs_ft = averaged_word2vec_vectorizer(tokenized_docs, ft_model, 100)\n",
    "doc_vecs_ft.shape"
   ]
  },
  {
   "cell_type": "markdown",
   "metadata": {
    "id": "vnJmgr6WHwH4"
   },
   "source": [
    "# Dapatkan Rekomendasi Film\n",
    "\n",
    "Memanfaatkan Cos Similarity untuk menghasilkan rekomendasi"
   ]
  },
  {
   "cell_type": "code",
   "execution_count": 39,
   "metadata": {
    "colab": {
     "base_uri": "https://localhost:8080/",
     "height": 299
    },
    "executionInfo": {
     "elapsed": 1184,
     "status": "ok",
     "timestamp": 1668752108166,
     "user": {
      "displayName": "farrikh alzami",
      "userId": "11964535993149439504"
     },
     "user_tz": -420
    },
    "id": "FFGFgWX3V_HT",
    "outputId": "cf488ad3-b6e3-4f4e-f5de-4c34819f46da"
   },
   "outputs": [
    {
     "data": {
      "text/html": [
       "<div>\n",
       "<style scoped>\n",
       "    .dataframe tbody tr th:only-of-type {\n",
       "        vertical-align: middle;\n",
       "    }\n",
       "\n",
       "    .dataframe tbody tr th {\n",
       "        vertical-align: top;\n",
       "    }\n",
       "\n",
       "    .dataframe thead th {\n",
       "        text-align: right;\n",
       "    }\n",
       "</style>\n",
       "<table border=\"1\" class=\"dataframe\">\n",
       "  <thead>\n",
       "    <tr style=\"text-align: right;\">\n",
       "      <th></th>\n",
       "      <th>0</th>\n",
       "      <th>1</th>\n",
       "      <th>2</th>\n",
       "      <th>3</th>\n",
       "      <th>4</th>\n",
       "      <th>5</th>\n",
       "      <th>6</th>\n",
       "      <th>7</th>\n",
       "      <th>8</th>\n",
       "      <th>9</th>\n",
       "      <th>...</th>\n",
       "      <th>932</th>\n",
       "      <th>933</th>\n",
       "      <th>934</th>\n",
       "      <th>935</th>\n",
       "      <th>936</th>\n",
       "      <th>937</th>\n",
       "      <th>938</th>\n",
       "      <th>939</th>\n",
       "      <th>940</th>\n",
       "      <th>941</th>\n",
       "    </tr>\n",
       "  </thead>\n",
       "  <tbody>\n",
       "    <tr>\n",
       "      <th>0</th>\n",
       "      <td>1.000000</td>\n",
       "      <td>0.999985</td>\n",
       "      <td>0.999995</td>\n",
       "      <td>0.999935</td>\n",
       "      <td>0.999984</td>\n",
       "      <td>0.999991</td>\n",
       "      <td>0.999969</td>\n",
       "      <td>0.999976</td>\n",
       "      <td>0.999952</td>\n",
       "      <td>0.999982</td>\n",
       "      <td>...</td>\n",
       "      <td>0.999956</td>\n",
       "      <td>0.999971</td>\n",
       "      <td>0.999920</td>\n",
       "      <td>0.999909</td>\n",
       "      <td>0.999993</td>\n",
       "      <td>0.999944</td>\n",
       "      <td>0.999964</td>\n",
       "      <td>0.999879</td>\n",
       "      <td>0.999952</td>\n",
       "      <td>0.999957</td>\n",
       "    </tr>\n",
       "    <tr>\n",
       "      <th>1</th>\n",
       "      <td>0.999985</td>\n",
       "      <td>1.000000</td>\n",
       "      <td>0.999980</td>\n",
       "      <td>0.999942</td>\n",
       "      <td>0.999983</td>\n",
       "      <td>0.999993</td>\n",
       "      <td>0.999987</td>\n",
       "      <td>0.999987</td>\n",
       "      <td>0.999933</td>\n",
       "      <td>0.999981</td>\n",
       "      <td>...</td>\n",
       "      <td>0.999976</td>\n",
       "      <td>0.999985</td>\n",
       "      <td>0.999955</td>\n",
       "      <td>0.999937</td>\n",
       "      <td>0.999986</td>\n",
       "      <td>0.999948</td>\n",
       "      <td>0.999977</td>\n",
       "      <td>0.999932</td>\n",
       "      <td>0.999970</td>\n",
       "      <td>0.999970</td>\n",
       "    </tr>\n",
       "    <tr>\n",
       "      <th>2</th>\n",
       "      <td>0.999995</td>\n",
       "      <td>0.999980</td>\n",
       "      <td>1.000000</td>\n",
       "      <td>0.999941</td>\n",
       "      <td>0.999984</td>\n",
       "      <td>0.999989</td>\n",
       "      <td>0.999965</td>\n",
       "      <td>0.999975</td>\n",
       "      <td>0.999960</td>\n",
       "      <td>0.999976</td>\n",
       "      <td>...</td>\n",
       "      <td>0.999951</td>\n",
       "      <td>0.999967</td>\n",
       "      <td>0.999919</td>\n",
       "      <td>0.999900</td>\n",
       "      <td>0.999991</td>\n",
       "      <td>0.999956</td>\n",
       "      <td>0.999967</td>\n",
       "      <td>0.999879</td>\n",
       "      <td>0.999949</td>\n",
       "      <td>0.999952</td>\n",
       "    </tr>\n",
       "    <tr>\n",
       "      <th>3</th>\n",
       "      <td>0.999935</td>\n",
       "      <td>0.999942</td>\n",
       "      <td>0.999941</td>\n",
       "      <td>1.000000</td>\n",
       "      <td>0.999905</td>\n",
       "      <td>0.999926</td>\n",
       "      <td>0.999923</td>\n",
       "      <td>0.999925</td>\n",
       "      <td>0.999973</td>\n",
       "      <td>0.999893</td>\n",
       "      <td>...</td>\n",
       "      <td>0.999890</td>\n",
       "      <td>0.999929</td>\n",
       "      <td>0.999909</td>\n",
       "      <td>0.999841</td>\n",
       "      <td>0.999939</td>\n",
       "      <td>0.999969</td>\n",
       "      <td>0.999968</td>\n",
       "      <td>0.999908</td>\n",
       "      <td>0.999892</td>\n",
       "      <td>0.999905</td>\n",
       "    </tr>\n",
       "    <tr>\n",
       "      <th>4</th>\n",
       "      <td>0.999984</td>\n",
       "      <td>0.999983</td>\n",
       "      <td>0.999984</td>\n",
       "      <td>0.999905</td>\n",
       "      <td>1.000000</td>\n",
       "      <td>0.999993</td>\n",
       "      <td>0.999982</td>\n",
       "      <td>0.999987</td>\n",
       "      <td>0.999910</td>\n",
       "      <td>0.999987</td>\n",
       "      <td>...</td>\n",
       "      <td>0.999976</td>\n",
       "      <td>0.999977</td>\n",
       "      <td>0.999937</td>\n",
       "      <td>0.999935</td>\n",
       "      <td>0.999983</td>\n",
       "      <td>0.999941</td>\n",
       "      <td>0.999958</td>\n",
       "      <td>0.999891</td>\n",
       "      <td>0.999974</td>\n",
       "      <td>0.999967</td>\n",
       "    </tr>\n",
       "  </tbody>\n",
       "</table>\n",
       "<p>5 rows × 942 columns</p>\n",
       "</div>"
      ],
      "text/plain": [
       "        0         1         2         3         4         5         6    \\\n",
       "0  1.000000  0.999985  0.999995  0.999935  0.999984  0.999991  0.999969   \n",
       "1  0.999985  1.000000  0.999980  0.999942  0.999983  0.999993  0.999987   \n",
       "2  0.999995  0.999980  1.000000  0.999941  0.999984  0.999989  0.999965   \n",
       "3  0.999935  0.999942  0.999941  1.000000  0.999905  0.999926  0.999923   \n",
       "4  0.999984  0.999983  0.999984  0.999905  1.000000  0.999993  0.999982   \n",
       "\n",
       "        7         8         9    ...       932       933       934       935  \\\n",
       "0  0.999976  0.999952  0.999982  ...  0.999956  0.999971  0.999920  0.999909   \n",
       "1  0.999987  0.999933  0.999981  ...  0.999976  0.999985  0.999955  0.999937   \n",
       "2  0.999975  0.999960  0.999976  ...  0.999951  0.999967  0.999919  0.999900   \n",
       "3  0.999925  0.999973  0.999893  ...  0.999890  0.999929  0.999909  0.999841   \n",
       "4  0.999987  0.999910  0.999987  ...  0.999976  0.999977  0.999937  0.999935   \n",
       "\n",
       "        936       937       938       939       940       941  \n",
       "0  0.999993  0.999944  0.999964  0.999879  0.999952  0.999957  \n",
       "1  0.999986  0.999948  0.999977  0.999932  0.999970  0.999970  \n",
       "2  0.999991  0.999956  0.999967  0.999879  0.999949  0.999952  \n",
       "3  0.999939  0.999969  0.999968  0.999908  0.999892  0.999905  \n",
       "4  0.999983  0.999941  0.999958  0.999891  0.999974  0.999967  \n",
       "\n",
       "[5 rows x 942 columns]"
      ]
     },
     "execution_count": 39,
     "metadata": {},
     "output_type": "execute_result"
    }
   ],
   "source": [
    "doc_sim = cosine_similarity(doc_vecs_ft)\n",
    "doc_sim_df = pd.DataFrame(doc_sim)\n",
    "doc_sim_df.head()"
   ]
  },
  {
   "cell_type": "code",
   "execution_count": 40,
   "metadata": {
    "colab": {
     "base_uri": "https://localhost:8080/"
    },
    "executionInfo": {
     "elapsed": 10,
     "status": "ok",
     "timestamp": 1668752108167,
     "user": {
      "displayName": "farrikh alzami",
      "userId": "11964535993149439504"
     },
     "user_tz": -420
    },
    "id": "DgoeV1VQWAAx",
    "outputId": "165e8af8-da05-410f-ce83-1c67477ea922"
   },
   "outputs": [
    {
     "name": "stdout",
     "output_type": "stream",
     "text": [
      "Movie: Avatar\n",
      "Top 5 recommended Movies: ['Godzilla: King of the Monsters' 'A Quiet Place Part II' '2012'\n",
      " 'Black Panther: Wakanda Forever' 'Avatar: The Way of Water']\n",
      "\n",
      "Movie: Interstellar\n",
      "Top 5 recommended Movies: ['The Martian' 'John Carter' 'Pacific Rim' 'Superman Returns'\n",
      " 'Alien: Covenant']\n",
      "\n",
      "Movie: Deadpool\n",
      "Top 5 recommended Movies: ['The Wolverine' 'Hugo' 'The Green Mile' 'Batman Returns' 'The Nun II']\n",
      "\n",
      "Movie: Jurassic World\n",
      "Top 5 recommended Movies: ['Spider-Man 3' 'Alien: Covenant' 'Jurassic Park'\n",
      " 'Resident Evil: Afterlife' \"Assassin's Creed\"]\n",
      "\n",
      "Movie: Pirates of the Caribbean: The Curse of the Black Pearl\n",
      "Top 5 recommended Movies: ['Casper' \"Pirates of the Caribbean: At World's End\" 'Tomb Raider'\n",
      " 'Star Wars: Episode IV - A New Hope'\n",
      " 'Star Wars: Episode V - The Empire Strikes Back']\n",
      "\n",
      "Movie: Dawn of the Planet of the Apes\n",
      "Top 5 recommended Movies: ['World War Z' 'Transformers: The Last Knight' 'Planet of the Apes'\n",
      " 'Jumper' 'The Day the Earth Stood Still']\n",
      "\n",
      "Movie: The Hunger Games: Mockingjay - Part 1\n",
      "Top 5 recommended Movies: [\"Assassin's Creed\" 'Sherlock Holmes: A Game of Shadows'\n",
      " 'The Hunger Games: Catching Fire' 'Resident Evil: Retribution'\n",
      " 'Spider-Man']\n",
      "\n",
      "Movie: Terminator Genisys\n",
      "Top 5 recommended Movies: ['Terminator Salvation' 'Terminator 3: Rise of the Machines' 'Lucy'\n",
      " 'Divergent' 'Resident Evil: Afterlife']\n",
      "\n",
      "Movie: Captain America: Civil War\n",
      "Top 5 recommended Movies: ['Captain America: The First Avenger' 'The Matrix Reloaded' 'Outbreak'\n",
      " 'Jurassic Park' 'Terminator 3: Rise of the Machines']\n",
      "\n",
      "Movie: The Dark Knight\n",
      "Top 5 recommended Movies: ['Gone in 60 Seconds' 'Batman Begins' 'White House Down' 'Rush Hour 3'\n",
      " 'Wild Wild West']\n",
      "\n",
      "Movie: The Martian\n",
      "Top 5 recommended Movies: ['Interstellar' 'John Carter' 'Ready Player One' 'Superman Returns'\n",
      " 'Alien: Covenant']\n",
      "\n",
      "Movie: Batman v Superman: Dawn of Justice\n",
      "Top 5 recommended Movies: ['Kingsman: The Golden Circle' 'Divergent' 'Ready Player One'\n",
      " 'Green Lantern' 'Spider-Man']\n",
      "\n",
      "Movie: Pulp Fiction\n",
      "Top 5 recommended Movies: ['The Social Network' 'Erin Brockovich' 'Black Swan' 'Beverly Hills Cop'\n",
      " 'Sully']\n",
      "\n",
      "Movie: The Godfather\n"
     ]
    },
    {
     "ename": "IndexError",
     "evalue": "index 0 is out of bounds for axis 0 with size 0",
     "output_type": "error",
     "traceback": [
      "\u001b[1;31m---------------------------------------------------------------------------\u001b[0m",
      "\u001b[1;31mIndexError\u001b[0m                                Traceback (most recent call last)",
      "Input \u001b[1;32mIn [40]\u001b[0m, in \u001b[0;36m<cell line: 1>\u001b[1;34m()\u001b[0m\n\u001b[0;32m      1\u001b[0m \u001b[38;5;28;01mfor\u001b[39;00m movie \u001b[38;5;129;01min\u001b[39;00m popular_movies:\n\u001b[0;32m      2\u001b[0m     \u001b[38;5;28mprint\u001b[39m(\u001b[38;5;124m'\u001b[39m\u001b[38;5;124mMovie:\u001b[39m\u001b[38;5;124m'\u001b[39m, movie)\n\u001b[1;32m----> 3\u001b[0m     \u001b[38;5;28mprint\u001b[39m(\u001b[38;5;124m'\u001b[39m\u001b[38;5;124mTop 5 recommended Movies:\u001b[39m\u001b[38;5;124m'\u001b[39m, \u001b[43mmovie_recommender\u001b[49m\u001b[43m(\u001b[49m\u001b[43mmovie_title\u001b[49m\u001b[38;5;241;43m=\u001b[39;49m\u001b[43mmovie\u001b[49m\u001b[43m,\u001b[49m\u001b[43m \u001b[49m\u001b[43mmovies\u001b[49m\u001b[38;5;241;43m=\u001b[39;49m\u001b[43mmovies_list\u001b[49m\u001b[43m,\u001b[49m\u001b[43m \u001b[49m\u001b[43mdoc_sims\u001b[49m\u001b[38;5;241;43m=\u001b[39;49m\u001b[43mdoc_sim_df\u001b[49m\u001b[43m)\u001b[49m)\n\u001b[0;32m      4\u001b[0m     \u001b[38;5;28mprint\u001b[39m()\n",
      "Input \u001b[1;32mIn [29]\u001b[0m, in \u001b[0;36mmovie_recommender\u001b[1;34m(movie_title, movies, doc_sims)\u001b[0m\n\u001b[0;32m      1\u001b[0m \u001b[38;5;28;01mdef\u001b[39;00m \u001b[38;5;21mmovie_recommender\u001b[39m(movie_title, movies\u001b[38;5;241m=\u001b[39mmovies_list, doc_sims\u001b[38;5;241m=\u001b[39mdoc_sim_df):\n\u001b[0;32m      2\u001b[0m     \u001b[38;5;66;03m# find movie id\u001b[39;00m\n\u001b[1;32m----> 3\u001b[0m     movie_idx \u001b[38;5;241m=\u001b[39m \u001b[43mnp\u001b[49m\u001b[38;5;241;43m.\u001b[39;49m\u001b[43mwhere\u001b[49m\u001b[43m(\u001b[49m\u001b[43mmovies\u001b[49m\u001b[43m \u001b[49m\u001b[38;5;241;43m==\u001b[39;49m\u001b[43m \u001b[49m\u001b[43mmovie_title\u001b[49m\u001b[43m)\u001b[49m\u001b[43m[\u001b[49m\u001b[38;5;241;43m0\u001b[39;49m\u001b[43m]\u001b[49m\u001b[43m[\u001b[49m\u001b[38;5;241;43m0\u001b[39;49m\u001b[43m]\u001b[49m\n\u001b[0;32m      4\u001b[0m     \u001b[38;5;66;03m# get movie similarities\u001b[39;00m\n\u001b[0;32m      5\u001b[0m     movie_similarities \u001b[38;5;241m=\u001b[39m doc_sims\u001b[38;5;241m.\u001b[39miloc[movie_idx]\u001b[38;5;241m.\u001b[39mvalues\n",
      "\u001b[1;31mIndexError\u001b[0m: index 0 is out of bounds for axis 0 with size 0"
     ]
    }
   ],
   "source": [
    "for movie in popular_movies:\n",
    "    print('Movie:', movie)\n",
    "    print('Top 5 recommended Movies:', movie_recommender(movie_title=movie, movies=movies_list, doc_sims=doc_sim_df))\n",
    "    print()"
   ]
  },
  {
   "cell_type": "code",
   "execution_count": null,
   "metadata": {},
   "outputs": [],
   "source": []
  }
 ],
 "metadata": {
  "colab": {
   "authorship_tag": "ABX9TyNKsyeNETQ3CwZB7j+nhbFn",
   "provenance": []
  },
  "kernelspec": {
   "display_name": "Python 3 (ipykernel)",
   "language": "python",
   "name": "python3"
  },
  "language_info": {
   "codemirror_mode": {
    "name": "ipython",
    "version": 3
   },
   "file_extension": ".py",
   "mimetype": "text/x-python",
   "name": "python",
   "nbconvert_exporter": "python",
   "pygments_lexer": "ipython3",
   "version": "3.9.12"
  },
  "toc": {
   "base_numbering": 1,
   "nav_menu": {},
   "number_sections": true,
   "sideBar": true,
   "skip_h1_title": false,
   "title_cell": "Table of Contents",
   "title_sidebar": "Contents",
   "toc_cell": false,
   "toc_position": {},
   "toc_section_display": true,
   "toc_window_display": false
  },
  "varInspector": {
   "cols": {
    "lenName": 16,
    "lenType": 16,
    "lenVar": 40
   },
   "kernels_config": {
    "python": {
     "delete_cmd_postfix": "",
     "delete_cmd_prefix": "del ",
     "library": "var_list.py",
     "varRefreshCmd": "print(var_dic_list())"
    },
    "r": {
     "delete_cmd_postfix": ") ",
     "delete_cmd_prefix": "rm(",
     "library": "var_list.r",
     "varRefreshCmd": "cat(var_dic_list()) "
    }
   },
   "types_to_exclude": [
    "module",
    "function",
    "builtin_function_or_method",
    "instance",
    "_Feature"
   ],
   "window_display": false
  }
 },
 "nbformat": 4,
 "nbformat_minor": 1
}
