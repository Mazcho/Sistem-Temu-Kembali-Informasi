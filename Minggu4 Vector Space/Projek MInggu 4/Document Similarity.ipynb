{
 "cells": [
  {
   "cell_type": "markdown",
   "metadata": {
    "id": "kYQxRWGHVOfu"
   },
   "source": [
    "# Document Similarity"
   ]
  },
  {
   "cell_type": "markdown",
   "metadata": {
    "id": "i5c9r2AZFeRP"
   },
   "source": [
    "# Rekomendasi Film dengan Kemiripan Dokumen\n",
    "\n",
    "Sistem rekomendasi adalah salah satu aplikasi pembelajaran mesin yang populer dan paling banyak diadopsi. Biasanya digunakan untuk merekomendasikan entitas kepada pengguna dan entitas ini dapat berupa apa saja seperti produk, film, layanan, dan sebagainya.\n",
    "\n",
    "Contoh rekomendasi yang populer meliputi,\n",
    "- Amazon menyarankan produk di situs webnya\n",
    "- Amazon Prime, Netflix, Hotstar merekomendasikan film\\acara\n",
    "- YouTube merekomendasikan video untuk ditonton\n",
    "\n",
    "Biasanya sistem pemberi rekomendasi dapat diimplementasikan dalam tiga cara:\n",
    "\n",
    "- Simple Rule-based Recommenders / Rekomendasi Berbasis Aturan Sederhana: Biasanya berdasarkan metrik dan ambang batas global tertentu seperti popularitas film, peringkat global, dll.\n",
    "- Content-based Recommenders / Rekomendasi berbasis konten: Ini didasarkan pada penyediaan entitas serupa berdasarkan entitas minat tertentu. Metadata konten dapat digunakan di sini seperti deskripsi film, genre, pemeran, sutradara, dan sebagainya\n",
    "- Collaborative filtering Recommenders / Pemfilteran kolaboratif Rekomendasi: Di ​​sini tidak diperlukan metadata, tetapi memprediksi rekomendasi dan peringkat berdasarkan peringkat sebelumnya dari berbagai pengguna dan item tertentu.\n",
    "\n",
    "STKI / NLP paling relevan dengan Collaborative filtering Recommenders"
   ]
  },
  {
   "cell_type": "markdown",
   "metadata": {
    "id": "kXftv7OSFsHJ"
   },
   "source": [
    "## install library"
   ]
  },
  {
   "cell_type": "code",
   "execution_count": 1,
   "metadata": {
    "colab": {
     "base_uri": "https://localhost:8080/"
    },
    "executionInfo": {
     "elapsed": 14486,
     "status": "ok",
     "timestamp": 1668751364805,
     "user": {
      "displayName": "farrikh alzami",
      "userId": "11964535993149439504"
     },
     "user_tz": -420
    },
    "id": "o9Ntmc0GVGIA",
    "outputId": "5a17bf3b-04ab-4bee-b74f-f8f817f84afe"
   },
   "outputs": [],
   "source": [
    "# !pip install textsearch\n",
    "# !pip install contractions\n",
    "import nltk\n",
    "# nltk.download('punkt')\n",
    "# nltk.download('stopwords')"
   ]
  },
  {
   "cell_type": "code",
   "execution_count": 2,
   "metadata": {},
   "outputs": [
    {
     "data": {
      "text/plain": [
       "WindowsPath('C:/Users/ASUS/JupyterNotebookFile/GHclone/Sistem-Temu-Kembali-Informasi/Minggu4 Vector Space/Projek MInggu 4')"
      ]
     },
     "execution_count": 2,
     "metadata": {},
     "output_type": "execute_result"
    }
   ],
   "source": [
    "import pathlib\n",
    "pathlib.Path().resolve()"
   ]
  },
  {
   "cell_type": "markdown",
   "metadata": {
    "id": "AqkJZoc8Funn"
   },
   "source": [
    "## load dan view data"
   ]
  },
  {
   "cell_type": "code",
   "execution_count": 3,
   "metadata": {
    "colab": {
     "base_uri": "https://localhost:8080/"
    },
    "executionInfo": {
     "elapsed": 2226,
     "status": "ok",
     "timestamp": 1668751387985,
     "user": {
      "displayName": "farrikh alzami",
      "userId": "11964535993149439504"
     },
     "user_tz": -420
    },
    "id": "NmbIBH8YVLV_",
    "outputId": "cb7ac0d2-6f33-4ac4-b110-7fd1bd6ba85c"
   },
   "outputs": [
    {
     "name": "stdout",
     "output_type": "stream",
     "text": [
      "<class 'pandas.core.frame.DataFrame'>\n",
      "RangeIndex: 1000 entries, 0 to 999\n",
      "Data columns (total 14 columns):\n",
      " #   Column                      Non-Null Count  Dtype \n",
      "---  ------                      --------------  ----- \n",
      " 0   Unnamed: 0                  1000 non-null   int64 \n",
      " 1   Title                       1000 non-null   object\n",
      " 2   Movie Info                  1000 non-null   object\n",
      " 3   Year                        1000 non-null   int64 \n",
      " 4   Distributor                 999 non-null    object\n",
      " 5   Budget (in $)               1000 non-null   object\n",
      " 6   Domestic Opening (in $)     1000 non-null   object\n",
      " 7   Domestic Sales (in $)       1000 non-null   int64 \n",
      " 8   International Sales (in $)  1000 non-null   int64 \n",
      " 9   World Wide Sales (in $)     1000 non-null   int64 \n",
      " 10  Release Date                1000 non-null   object\n",
      " 11  Genre                       1000 non-null   object\n",
      " 12  Running Time                1000 non-null   object\n",
      " 13  License                     943 non-null    object\n",
      "dtypes: int64(5), object(9)\n",
      "memory usage: 109.5+ KB\n"
     ]
    }
   ],
   "source": [
    "import pandas as pd\n",
    "\n",
    "df = pd.read_csv(\"Highest Holywood Grossing Movies.csv\")\n",
    "df.info()"
   ]
  },
  {
   "cell_type": "code",
   "execution_count": 4,
   "metadata": {
    "colab": {
     "base_uri": "https://localhost:8080/",
     "height": 756
    },
    "executionInfo": {
     "elapsed": 7,
     "status": "ok",
     "timestamp": 1668751398690,
     "user": {
      "displayName": "farrikh alzami",
      "userId": "11964535993149439504"
     },
     "user_tz": -420
    },
    "id": "ibqw4SCJVWIO",
    "outputId": "9394c408-b65a-417c-c1b1-47dcb4d760cd"
   },
   "outputs": [
    {
     "data": {
      "text/html": [
       "<div>\n",
       "<style scoped>\n",
       "    .dataframe tbody tr th:only-of-type {\n",
       "        vertical-align: middle;\n",
       "    }\n",
       "\n",
       "    .dataframe tbody tr th {\n",
       "        vertical-align: top;\n",
       "    }\n",
       "\n",
       "    .dataframe thead th {\n",
       "        text-align: right;\n",
       "    }\n",
       "</style>\n",
       "<table border=\"1\" class=\"dataframe\">\n",
       "  <thead>\n",
       "    <tr style=\"text-align: right;\">\n",
       "      <th></th>\n",
       "      <th>Unnamed: 0</th>\n",
       "      <th>Title</th>\n",
       "      <th>Movie Info</th>\n",
       "      <th>Year</th>\n",
       "      <th>Distributor</th>\n",
       "      <th>Budget (in $)</th>\n",
       "      <th>Domestic Opening (in $)</th>\n",
       "      <th>Domestic Sales (in $)</th>\n",
       "      <th>International Sales (in $)</th>\n",
       "      <th>World Wide Sales (in $)</th>\n",
       "      <th>Release Date</th>\n",
       "      <th>Genre</th>\n",
       "      <th>Running Time</th>\n",
       "      <th>License</th>\n",
       "    </tr>\n",
       "  </thead>\n",
       "  <tbody>\n",
       "    <tr>\n",
       "      <th>0</th>\n",
       "      <td>0</td>\n",
       "      <td>Avatar</td>\n",
       "      <td>A paraplegic Marine dispatched to the moon Pan...</td>\n",
       "      <td>2009</td>\n",
       "      <td>Twentieth Century Fox</td>\n",
       "      <td>237000000</td>\n",
       "      <td>77025481</td>\n",
       "      <td>785221649</td>\n",
       "      <td>2138484377</td>\n",
       "      <td>2923706026</td>\n",
       "      <td>16-Dec-09</td>\n",
       "      <td>['Action', 'Adventure', 'Fantasy', 'Sci-Fi']</td>\n",
       "      <td>2 hr 42 min</td>\n",
       "      <td>PG-13</td>\n",
       "    </tr>\n",
       "    <tr>\n",
       "      <th>1</th>\n",
       "      <td>1</td>\n",
       "      <td>Avengers: Endgame</td>\n",
       "      <td>After the devastating events of Avengers: Infi...</td>\n",
       "      <td>2019</td>\n",
       "      <td>Walt Disney Studios Motion Pictures</td>\n",
       "      <td>356000000</td>\n",
       "      <td>357115007</td>\n",
       "      <td>858373000</td>\n",
       "      <td>1941066100</td>\n",
       "      <td>2799439100</td>\n",
       "      <td>24-Apr-19</td>\n",
       "      <td>['Action', 'Adventure', 'Drama', 'Sci-Fi']</td>\n",
       "      <td>3 hr 1 min</td>\n",
       "      <td>PG-13</td>\n",
       "    </tr>\n",
       "    <tr>\n",
       "      <th>2</th>\n",
       "      <td>2</td>\n",
       "      <td>Avatar: The Way of Water</td>\n",
       "      <td>Jake Sully lives with his newfound family form...</td>\n",
       "      <td>2022</td>\n",
       "      <td>20th Century Studios</td>\n",
       "      <td>December 14 2022 (EMEA APAC)</td>\n",
       "      <td>134100226</td>\n",
       "      <td>684075767</td>\n",
       "      <td>1636174514</td>\n",
       "      <td>2320250281</td>\n",
       "      <td>24-Apr-19</td>\n",
       "      <td>['Action', 'Adventure', 'Drama', 'Sci-Fi']</td>\n",
       "      <td>3 hr 1 min</td>\n",
       "      <td>PG-13</td>\n",
       "    </tr>\n",
       "    <tr>\n",
       "      <th>3</th>\n",
       "      <td>3</td>\n",
       "      <td>Titanic</td>\n",
       "      <td>A seventeen-year-old aristocrat falls in love ...</td>\n",
       "      <td>1997</td>\n",
       "      <td>Paramount Pictures</td>\n",
       "      <td>200000000</td>\n",
       "      <td>28638131</td>\n",
       "      <td>674292608</td>\n",
       "      <td>1590450697</td>\n",
       "      <td>2264743305</td>\n",
       "      <td>19-Dec-97</td>\n",
       "      <td>['Drama', 'Romance']</td>\n",
       "      <td>3 hr 14 min</td>\n",
       "      <td>PG-13</td>\n",
       "    </tr>\n",
       "    <tr>\n",
       "      <th>4</th>\n",
       "      <td>4</td>\n",
       "      <td>Star Wars: Episode VII - The Force Awakens</td>\n",
       "      <td>As a new threat to the galaxy rises, Rey, a de...</td>\n",
       "      <td>2015</td>\n",
       "      <td>Walt Disney Studios Motion Pictures</td>\n",
       "      <td>245000000</td>\n",
       "      <td>247966675</td>\n",
       "      <td>936662225</td>\n",
       "      <td>1134647993</td>\n",
       "      <td>2071310218</td>\n",
       "      <td>16-Dec-15</td>\n",
       "      <td>['Action', 'Adventure', 'Sci-Fi']</td>\n",
       "      <td>2 hr 18 min</td>\n",
       "      <td>PG-13</td>\n",
       "    </tr>\n",
       "  </tbody>\n",
       "</table>\n",
       "</div>"
      ],
      "text/plain": [
       "   Unnamed: 0                                       Title  \\\n",
       "0           0                                      Avatar   \n",
       "1           1                           Avengers: Endgame   \n",
       "2           2                    Avatar: The Way of Water   \n",
       "3           3                                     Titanic   \n",
       "4           4  Star Wars: Episode VII - The Force Awakens   \n",
       "\n",
       "                                          Movie Info  Year  \\\n",
       "0  A paraplegic Marine dispatched to the moon Pan...  2009   \n",
       "1  After the devastating events of Avengers: Infi...  2019   \n",
       "2  Jake Sully lives with his newfound family form...  2022   \n",
       "3  A seventeen-year-old aristocrat falls in love ...  1997   \n",
       "4  As a new threat to the galaxy rises, Rey, a de...  2015   \n",
       "\n",
       "                           Distributor                 Budget (in $)  \\\n",
       "0                Twentieth Century Fox                     237000000   \n",
       "1  Walt Disney Studios Motion Pictures                     356000000   \n",
       "2                 20th Century Studios  December 14 2022 (EMEA APAC)   \n",
       "3                   Paramount Pictures                     200000000   \n",
       "4  Walt Disney Studios Motion Pictures                     245000000   \n",
       "\n",
       "  Domestic Opening (in $)  Domestic Sales (in $)  International Sales (in $)  \\\n",
       "0                77025481              785221649                  2138484377   \n",
       "1               357115007              858373000                  1941066100   \n",
       "2               134100226              684075767                  1636174514   \n",
       "3                28638131              674292608                  1590450697   \n",
       "4               247966675              936662225                  1134647993   \n",
       "\n",
       "   World Wide Sales (in $) Release Date  \\\n",
       "0               2923706026    16-Dec-09   \n",
       "1               2799439100    24-Apr-19   \n",
       "2               2320250281    24-Apr-19   \n",
       "3               2264743305    19-Dec-97   \n",
       "4               2071310218    16-Dec-15   \n",
       "\n",
       "                                          Genre Running Time License  \n",
       "0  ['Action', 'Adventure', 'Fantasy', 'Sci-Fi']  2 hr 42 min   PG-13  \n",
       "1    ['Action', 'Adventure', 'Drama', 'Sci-Fi']   3 hr 1 min   PG-13  \n",
       "2    ['Action', 'Adventure', 'Drama', 'Sci-Fi']   3 hr 1 min   PG-13  \n",
       "3                          ['Drama', 'Romance']  3 hr 14 min   PG-13  \n",
       "4             ['Action', 'Adventure', 'Sci-Fi']  2 hr 18 min   PG-13  "
      ]
     },
     "execution_count": 4,
     "metadata": {},
     "output_type": "execute_result"
    }
   ],
   "source": [
    "df.head()"
   ]
  },
  {
   "cell_type": "code",
   "execution_count": 5,
   "metadata": {},
   "outputs": [
    {
     "name": "stdout",
     "output_type": "stream",
     "text": [
      "<class 'pandas.core.frame.DataFrame'>\n",
      "Int64Index: 942 entries, 0 to 999\n",
      "Data columns (total 14 columns):\n",
      " #   Column                      Non-Null Count  Dtype \n",
      "---  ------                      --------------  ----- \n",
      " 0   Unnamed: 0                  942 non-null    int64 \n",
      " 1   Title                       942 non-null    object\n",
      " 2   Movie Info                  942 non-null    object\n",
      " 3   Year                        942 non-null    int64 \n",
      " 4   Distributor                 942 non-null    object\n",
      " 5   Budget (in $)               942 non-null    object\n",
      " 6   Domestic Opening (in $)     942 non-null    object\n",
      " 7   Domestic Sales (in $)       942 non-null    int64 \n",
      " 8   International Sales (in $)  942 non-null    int64 \n",
      " 9   World Wide Sales (in $)     942 non-null    int64 \n",
      " 10  Release Date                942 non-null    object\n",
      " 11  Genre                       942 non-null    object\n",
      " 12  Running Time                942 non-null    object\n",
      " 13  License                     942 non-null    object\n",
      "dtypes: int64(5), object(9)\n",
      "memory usage: 110.4+ KB\n"
     ]
    }
   ],
   "source": [
    "df.dropna(axis=0,inplace=True)\n",
    "df.info()"
   ]
  },
  {
   "cell_type": "code",
   "execution_count": 6,
   "metadata": {
    "colab": {
     "base_uri": "https://localhost:8080/"
    },
    "executionInfo": {
     "elapsed": 7,
     "status": "ok",
     "timestamp": 1668751412816,
     "user": {
      "displayName": "farrikh alzami",
      "userId": "11964535993149439504"
     },
     "user_tz": -420
    },
    "id": "jphrq6CGVYwh",
    "outputId": "6439c3b9-ce8c-4f76-e546-aec59c69611b"
   },
   "outputs": [],
   "source": [
    "df_new = df.copy()\n",
    "df_new = df_new[['Title', 'Year','Movie Info']] #- Genre\n",
    "# df_new['description'] = df_new['Movie Info'].map(str) + ' ' + 'Genre are: '+df_new['Genre']\n",
    "# df_new.dropna(inplace=True)\n",
    "# # df = df.sort_values(by=['popularity'], ascending=False)\n",
    "# df_new.info()"
   ]
  },
  {
   "cell_type": "code",
   "execution_count": 7,
   "metadata": {
    "colab": {
     "base_uri": "https://localhost:8080/",
     "height": 206
    },
    "executionInfo": {
     "elapsed": 5,
     "status": "ok",
     "timestamp": 1668751420462,
     "user": {
      "displayName": "farrikh alzami",
      "userId": "11964535993149439504"
     },
     "user_tz": -420
    },
    "id": "EGttDhkyVcnN",
    "outputId": "f0559949-5d18-4728-d50b-6aeb8a912bf5"
   },
   "outputs": [
    {
     "data": {
      "text/html": [
       "<div>\n",
       "<style scoped>\n",
       "    .dataframe tbody tr th:only-of-type {\n",
       "        vertical-align: middle;\n",
       "    }\n",
       "\n",
       "    .dataframe tbody tr th {\n",
       "        vertical-align: top;\n",
       "    }\n",
       "\n",
       "    .dataframe thead th {\n",
       "        text-align: right;\n",
       "    }\n",
       "</style>\n",
       "<table border=\"1\" class=\"dataframe\">\n",
       "  <thead>\n",
       "    <tr style=\"text-align: right;\">\n",
       "      <th></th>\n",
       "      <th>Title</th>\n",
       "      <th>Year</th>\n",
       "      <th>Movie Info</th>\n",
       "    </tr>\n",
       "  </thead>\n",
       "  <tbody>\n",
       "    <tr>\n",
       "      <th>0</th>\n",
       "      <td>Avatar</td>\n",
       "      <td>2009</td>\n",
       "      <td>A paraplegic Marine dispatched to the moon Pan...</td>\n",
       "    </tr>\n",
       "    <tr>\n",
       "      <th>1</th>\n",
       "      <td>Avengers: Endgame</td>\n",
       "      <td>2019</td>\n",
       "      <td>After the devastating events of Avengers: Infi...</td>\n",
       "    </tr>\n",
       "    <tr>\n",
       "      <th>2</th>\n",
       "      <td>Avatar: The Way of Water</td>\n",
       "      <td>2022</td>\n",
       "      <td>Jake Sully lives with his newfound family form...</td>\n",
       "    </tr>\n",
       "    <tr>\n",
       "      <th>3</th>\n",
       "      <td>Titanic</td>\n",
       "      <td>1997</td>\n",
       "      <td>A seventeen-year-old aristocrat falls in love ...</td>\n",
       "    </tr>\n",
       "    <tr>\n",
       "      <th>4</th>\n",
       "      <td>Star Wars: Episode VII - The Force Awakens</td>\n",
       "      <td>2015</td>\n",
       "      <td>As a new threat to the galaxy rises, Rey, a de...</td>\n",
       "    </tr>\n",
       "  </tbody>\n",
       "</table>\n",
       "</div>"
      ],
      "text/plain": [
       "                                        Title  Year  \\\n",
       "0                                      Avatar  2009   \n",
       "1                           Avengers: Endgame  2019   \n",
       "2                    Avatar: The Way of Water  2022   \n",
       "3                                     Titanic  1997   \n",
       "4  Star Wars: Episode VII - The Force Awakens  2015   \n",
       "\n",
       "                                          Movie Info  \n",
       "0  A paraplegic Marine dispatched to the moon Pan...  \n",
       "1  After the devastating events of Avengers: Infi...  \n",
       "2  Jake Sully lives with his newfound family form...  \n",
       "3  A seventeen-year-old aristocrat falls in love ...  \n",
       "4  As a new threat to the galaxy rises, Rey, a de...  "
      ]
     },
     "execution_count": 7,
     "metadata": {},
     "output_type": "execute_result"
    }
   ],
   "source": [
    "df_new.head()"
   ]
  },
  {
   "cell_type": "code",
   "execution_count": 10,
   "metadata": {},
   "outputs": [],
   "source": [
    "df_new.rename(columns={\"Movie Info\":\"description\"}, inplace=True)"
   ]
  },
  {
   "cell_type": "code",
   "execution_count": 11,
   "metadata": {},
   "outputs": [
    {
     "data": {
      "text/html": [
       "<div>\n",
       "<style scoped>\n",
       "    .dataframe tbody tr th:only-of-type {\n",
       "        vertical-align: middle;\n",
       "    }\n",
       "\n",
       "    .dataframe tbody tr th {\n",
       "        vertical-align: top;\n",
       "    }\n",
       "\n",
       "    .dataframe thead th {\n",
       "        text-align: right;\n",
       "    }\n",
       "</style>\n",
       "<table border=\"1\" class=\"dataframe\">\n",
       "  <thead>\n",
       "    <tr style=\"text-align: right;\">\n",
       "      <th></th>\n",
       "      <th>Title</th>\n",
       "      <th>Year</th>\n",
       "      <th>description</th>\n",
       "    </tr>\n",
       "  </thead>\n",
       "  <tbody>\n",
       "    <tr>\n",
       "      <th>0</th>\n",
       "      <td>Avatar</td>\n",
       "      <td>2009</td>\n",
       "      <td>A paraplegic Marine dispatched to the moon Pan...</td>\n",
       "    </tr>\n",
       "    <tr>\n",
       "      <th>1</th>\n",
       "      <td>Avengers: Endgame</td>\n",
       "      <td>2019</td>\n",
       "      <td>After the devastating events of Avengers: Infi...</td>\n",
       "    </tr>\n",
       "    <tr>\n",
       "      <th>2</th>\n",
       "      <td>Avatar: The Way of Water</td>\n",
       "      <td>2022</td>\n",
       "      <td>Jake Sully lives with his newfound family form...</td>\n",
       "    </tr>\n",
       "    <tr>\n",
       "      <th>3</th>\n",
       "      <td>Titanic</td>\n",
       "      <td>1997</td>\n",
       "      <td>A seventeen-year-old aristocrat falls in love ...</td>\n",
       "    </tr>\n",
       "    <tr>\n",
       "      <th>4</th>\n",
       "      <td>Star Wars: Episode VII - The Force Awakens</td>\n",
       "      <td>2015</td>\n",
       "      <td>As a new threat to the galaxy rises, Rey, a de...</td>\n",
       "    </tr>\n",
       "    <tr>\n",
       "      <th>...</th>\n",
       "      <td>...</td>\n",
       "      <td>...</td>\n",
       "      <td>...</td>\n",
       "    </tr>\n",
       "    <tr>\n",
       "      <th>995</th>\n",
       "      <td>Sweet Home Alabama</td>\n",
       "      <td>2002</td>\n",
       "      <td>A young woman who has reinvented herself as a ...</td>\n",
       "    </tr>\n",
       "    <tr>\n",
       "      <th>996</th>\n",
       "      <td>Daddy's Home 2</td>\n",
       "      <td>2017</td>\n",
       "      <td>Having finally gotten used to each other's exi...</td>\n",
       "    </tr>\n",
       "    <tr>\n",
       "      <th>997</th>\n",
       "      <td>Hacksaw Ridge</td>\n",
       "      <td>2016</td>\n",
       "      <td>World War II American Army Medic Desmond T. Do...</td>\n",
       "    </tr>\n",
       "    <tr>\n",
       "      <th>998</th>\n",
       "      <td>Deja Vu</td>\n",
       "      <td>2006</td>\n",
       "      <td>After a ferry is bombed in New Orleans, an A.T...</td>\n",
       "    </tr>\n",
       "    <tr>\n",
       "      <th>999</th>\n",
       "      <td>M3GAN</td>\n",
       "      <td>2022</td>\n",
       "      <td>A robotics engineer at a toy company builds a ...</td>\n",
       "    </tr>\n",
       "  </tbody>\n",
       "</table>\n",
       "<p>942 rows × 3 columns</p>\n",
       "</div>"
      ],
      "text/plain": [
       "                                          Title  Year  \\\n",
       "0                                        Avatar  2009   \n",
       "1                             Avengers: Endgame  2019   \n",
       "2                      Avatar: The Way of Water  2022   \n",
       "3                                       Titanic  1997   \n",
       "4    Star Wars: Episode VII - The Force Awakens  2015   \n",
       "..                                          ...   ...   \n",
       "995                          Sweet Home Alabama  2002   \n",
       "996                              Daddy's Home 2  2017   \n",
       "997                               Hacksaw Ridge  2016   \n",
       "998                                     Deja Vu  2006   \n",
       "999                                       M3GAN  2022   \n",
       "\n",
       "                                           description  \n",
       "0    A paraplegic Marine dispatched to the moon Pan...  \n",
       "1    After the devastating events of Avengers: Infi...  \n",
       "2    Jake Sully lives with his newfound family form...  \n",
       "3    A seventeen-year-old aristocrat falls in love ...  \n",
       "4    As a new threat to the galaxy rises, Rey, a de...  \n",
       "..                                                 ...  \n",
       "995  A young woman who has reinvented herself as a ...  \n",
       "996  Having finally gotten used to each other's exi...  \n",
       "997  World War II American Army Medic Desmond T. Do...  \n",
       "998  After a ferry is bombed in New Orleans, an A.T...  \n",
       "999  A robotics engineer at a toy company builds a ...  \n",
       "\n",
       "[942 rows x 3 columns]"
      ]
     },
     "execution_count": 11,
     "metadata": {},
     "output_type": "execute_result"
    }
   ],
   "source": [
    "df_new"
   ]
  },
  {
   "cell_type": "code",
   "execution_count": 12,
   "metadata": {},
   "outputs": [
    {
     "data": {
      "text/plain": [
       "'A greedy film producer assembles a team of moviemakers and sets out for the infamous Skull Island, where they find more than just cannibalistic natives.'"
      ]
     },
     "execution_count": 12,
     "metadata": {},
     "output_type": "execute_result"
    }
   ],
   "source": [
    "df_new.iloc[200].description"
   ]
  },
  {
   "cell_type": "markdown",
   "metadata": {
    "id": "60vwITLaGCxO"
   },
   "source": [
    "# Bangun Sistem Rekomendasi Film\n",
    "\n",
    "Tahapan\n",
    "- Pre Processing\n",
    "- Feature Engineering\n",
    "- Komputasi Doc Similarity\n",
    "- Proses Retrieve\n",
    "- proses rekomendasi film\n",
    "\n",
    "\n",
    "## Kemiripan Dokumen / document similarity\n",
    "\n",
    "Ada berbagai cara untuk menghitung kesamaan antara dua item dokumen. Salah satu ukuran yang paling banyak digunakan adalah __cosine similarity__ .\n",
    "\n",
    "### Cosine Similarity\n",
    "\n",
    "Cosine Similarity digunakan untuk menghitung skor numerik untuk menunjukkan kesamaan antara dua dokumen teks. Secara matematis, ini didefinisikan sebagai berikut:\n",
    "\n",
    "$$ cosinus(x,y) = \\frac{x. y^\\intercal}{||x||.||y||} $$"
   ]
  },
  {
   "cell_type": "code",
   "execution_count": 13,
   "metadata": {
    "colab": {
     "base_uri": "https://localhost:8080/"
    },
    "executionInfo": {
     "elapsed": 3582,
     "status": "ok",
     "timestamp": 1668751482462,
     "user": {
      "displayName": "farrikh alzami",
      "userId": "11964535993149439504"
     },
     "user_tz": -420
    },
    "id": "jhmh3aAqVk9X",
    "outputId": "14d715b2-aace-4eba-cd92-fa4dce2a647c"
   },
   "outputs": [
    {
     "data": {
      "text/plain": [
       "942"
      ]
     },
     "execution_count": 13,
     "metadata": {},
     "output_type": "execute_result"
    }
   ],
   "source": [
    "import nltk\n",
    "import re\n",
    "import numpy as np\n",
    "import contractions\n",
    "\n",
    "stop_words = nltk.corpus.stopwords.words('english')\n",
    "\n",
    "def normalize_document(doc):\n",
    "    # lower case and remove special characters\\whitespaces\n",
    "    doc = re.sub(r'[^a-zA-Z0-9\\s]', '', doc, re.I|re.A)\n",
    "    doc = doc.lower()\n",
    "    doc = doc.strip()\n",
    "    doc = contractions.fix(doc)\n",
    "    # tokenize document\n",
    "    tokens = nltk.word_tokenize(doc)\n",
    "    #filter stopwords out of document\n",
    "    filtered_tokens = [token for token in tokens if token not in stop_words]\n",
    "    # re-create document from filtered tokens\n",
    "    doc = ' '.join(filtered_tokens)\n",
    "    return doc\n",
    "\n",
    "normalize_corpus = np.vectorize(normalize_document)\n",
    "\n",
    "norm_corpus = normalize_corpus(list(df_new['description']))\n",
    "len(norm_corpus)"
   ]
  },
  {
   "cell_type": "markdown",
   "metadata": {
    "id": "Njr1PJAyGI3T"
   },
   "source": [
    "## Extrak TF-IDF"
   ]
  },
  {
   "cell_type": "code",
   "execution_count": 14,
   "metadata": {
    "colab": {
     "base_uri": "https://localhost:8080/"
    },
    "executionInfo": {
     "elapsed": 1128,
     "status": "ok",
     "timestamp": 1668751484503,
     "user": {
      "displayName": "farrikh alzami",
      "userId": "11964535993149439504"
     },
     "user_tz": -420
    },
    "id": "q81rt1hlVs2l",
    "outputId": "966c8a65-19d5-473e-e1c9-b6248ce7c606"
   },
   "outputs": [
    {
     "data": {
      "text/plain": [
       "(942, 2740)"
      ]
     },
     "execution_count": 14,
     "metadata": {},
     "output_type": "execute_result"
    }
   ],
   "source": [
    "from sklearn.feature_extraction.text import TfidfVectorizer\n",
    "\n",
    "tf = TfidfVectorizer(ngram_range=(1, 2), min_df=2)\n",
    "tfidf_matrix = tf.fit_transform(norm_corpus)\n",
    "tfidf_matrix.shape"
   ]
  },
  {
   "cell_type": "markdown",
   "metadata": {
    "id": "buWfXVACGMlI"
   },
   "source": [
    "## Compute Pairwise Document Similarity"
   ]
  },
  {
   "cell_type": "code",
   "execution_count": 15,
   "metadata": {
    "colab": {
     "base_uri": "https://localhost:8080/",
     "height": 279
    },
    "executionInfo": {
     "elapsed": 1078,
     "status": "ok",
     "timestamp": 1668751490801,
     "user": {
      "displayName": "farrikh alzami",
      "userId": "11964535993149439504"
     },
     "user_tz": -420
    },
    "id": "htSj1WBPVt3p",
    "outputId": "f6ad2633-877e-49cd-bff7-f7f90d5a06c4"
   },
   "outputs": [
    {
     "data": {
      "text/html": [
       "<div>\n",
       "<style scoped>\n",
       "    .dataframe tbody tr th:only-of-type {\n",
       "        vertical-align: middle;\n",
       "    }\n",
       "\n",
       "    .dataframe tbody tr th {\n",
       "        vertical-align: top;\n",
       "    }\n",
       "\n",
       "    .dataframe thead th {\n",
       "        text-align: right;\n",
       "    }\n",
       "</style>\n",
       "<table border=\"1\" class=\"dataframe\">\n",
       "  <thead>\n",
       "    <tr style=\"text-align: right;\">\n",
       "      <th></th>\n",
       "      <th>0</th>\n",
       "      <th>1</th>\n",
       "      <th>2</th>\n",
       "      <th>3</th>\n",
       "      <th>4</th>\n",
       "      <th>5</th>\n",
       "      <th>6</th>\n",
       "      <th>7</th>\n",
       "      <th>8</th>\n",
       "      <th>9</th>\n",
       "      <th>...</th>\n",
       "      <th>932</th>\n",
       "      <th>933</th>\n",
       "      <th>934</th>\n",
       "      <th>935</th>\n",
       "      <th>936</th>\n",
       "      <th>937</th>\n",
       "      <th>938</th>\n",
       "      <th>939</th>\n",
       "      <th>940</th>\n",
       "      <th>941</th>\n",
       "    </tr>\n",
       "  </thead>\n",
       "  <tbody>\n",
       "    <tr>\n",
       "      <th>0</th>\n",
       "      <td>1.000000</td>\n",
       "      <td>0.0</td>\n",
       "      <td>0.216635</td>\n",
       "      <td>0.0</td>\n",
       "      <td>0.000000</td>\n",
       "      <td>0.000000</td>\n",
       "      <td>0.00000</td>\n",
       "      <td>0.00000</td>\n",
       "      <td>0.0</td>\n",
       "      <td>0.000000</td>\n",
       "      <td>...</td>\n",
       "      <td>0.038791</td>\n",
       "      <td>0.000000</td>\n",
       "      <td>0.0</td>\n",
       "      <td>0.0</td>\n",
       "      <td>0.000000</td>\n",
       "      <td>0.036070</td>\n",
       "      <td>0.000000</td>\n",
       "      <td>0.051412</td>\n",
       "      <td>0.062036</td>\n",
       "      <td>0.0</td>\n",
       "    </tr>\n",
       "    <tr>\n",
       "      <th>1</th>\n",
       "      <td>0.000000</td>\n",
       "      <td>1.0</td>\n",
       "      <td>0.000000</td>\n",
       "      <td>0.0</td>\n",
       "      <td>0.000000</td>\n",
       "      <td>0.394828</td>\n",
       "      <td>0.02186</td>\n",
       "      <td>0.00000</td>\n",
       "      <td>0.0</td>\n",
       "      <td>0.000000</td>\n",
       "      <td>...</td>\n",
       "      <td>0.000000</td>\n",
       "      <td>0.000000</td>\n",
       "      <td>0.0</td>\n",
       "      <td>0.0</td>\n",
       "      <td>0.000000</td>\n",
       "      <td>0.000000</td>\n",
       "      <td>0.000000</td>\n",
       "      <td>0.027225</td>\n",
       "      <td>0.000000</td>\n",
       "      <td>0.0</td>\n",
       "    </tr>\n",
       "    <tr>\n",
       "      <th>2</th>\n",
       "      <td>0.216635</td>\n",
       "      <td>0.0</td>\n",
       "      <td>1.000000</td>\n",
       "      <td>0.0</td>\n",
       "      <td>0.046471</td>\n",
       "      <td>0.015747</td>\n",
       "      <td>0.00000</td>\n",
       "      <td>0.00000</td>\n",
       "      <td>0.0</td>\n",
       "      <td>0.051040</td>\n",
       "      <td>...</td>\n",
       "      <td>0.000000</td>\n",
       "      <td>0.012022</td>\n",
       "      <td>0.0</td>\n",
       "      <td>0.0</td>\n",
       "      <td>0.038190</td>\n",
       "      <td>0.042753</td>\n",
       "      <td>0.017341</td>\n",
       "      <td>0.035461</td>\n",
       "      <td>0.000000</td>\n",
       "      <td>0.0</td>\n",
       "    </tr>\n",
       "    <tr>\n",
       "      <th>3</th>\n",
       "      <td>0.000000</td>\n",
       "      <td>0.0</td>\n",
       "      <td>0.000000</td>\n",
       "      <td>1.0</td>\n",
       "      <td>0.000000</td>\n",
       "      <td>0.000000</td>\n",
       "      <td>0.00000</td>\n",
       "      <td>0.00000</td>\n",
       "      <td>0.0</td>\n",
       "      <td>0.000000</td>\n",
       "      <td>...</td>\n",
       "      <td>0.000000</td>\n",
       "      <td>0.000000</td>\n",
       "      <td>0.0</td>\n",
       "      <td>0.0</td>\n",
       "      <td>0.000000</td>\n",
       "      <td>0.000000</td>\n",
       "      <td>0.000000</td>\n",
       "      <td>0.000000</td>\n",
       "      <td>0.000000</td>\n",
       "      <td>0.0</td>\n",
       "    </tr>\n",
       "    <tr>\n",
       "      <th>4</th>\n",
       "      <td>0.000000</td>\n",
       "      <td>0.0</td>\n",
       "      <td>0.046471</td>\n",
       "      <td>0.0</td>\n",
       "      <td>1.000000</td>\n",
       "      <td>0.020390</td>\n",
       "      <td>0.00000</td>\n",
       "      <td>0.01596</td>\n",
       "      <td>0.0</td>\n",
       "      <td>0.017841</td>\n",
       "      <td>...</td>\n",
       "      <td>0.000000</td>\n",
       "      <td>0.015566</td>\n",
       "      <td>0.0</td>\n",
       "      <td>0.0</td>\n",
       "      <td>0.240443</td>\n",
       "      <td>0.040398</td>\n",
       "      <td>0.022455</td>\n",
       "      <td>0.000000</td>\n",
       "      <td>0.051223</td>\n",
       "      <td>0.0</td>\n",
       "    </tr>\n",
       "  </tbody>\n",
       "</table>\n",
       "<p>5 rows × 942 columns</p>\n",
       "</div>"
      ],
      "text/plain": [
       "        0    1         2    3         4         5        6        7    8    \\\n",
       "0  1.000000  0.0  0.216635  0.0  0.000000  0.000000  0.00000  0.00000  0.0   \n",
       "1  0.000000  1.0  0.000000  0.0  0.000000  0.394828  0.02186  0.00000  0.0   \n",
       "2  0.216635  0.0  1.000000  0.0  0.046471  0.015747  0.00000  0.00000  0.0   \n",
       "3  0.000000  0.0  0.000000  1.0  0.000000  0.000000  0.00000  0.00000  0.0   \n",
       "4  0.000000  0.0  0.046471  0.0  1.000000  0.020390  0.00000  0.01596  0.0   \n",
       "\n",
       "        9    ...       932       933  934  935       936       937       938  \\\n",
       "0  0.000000  ...  0.038791  0.000000  0.0  0.0  0.000000  0.036070  0.000000   \n",
       "1  0.000000  ...  0.000000  0.000000  0.0  0.0  0.000000  0.000000  0.000000   \n",
       "2  0.051040  ...  0.000000  0.012022  0.0  0.0  0.038190  0.042753  0.017341   \n",
       "3  0.000000  ...  0.000000  0.000000  0.0  0.0  0.000000  0.000000  0.000000   \n",
       "4  0.017841  ...  0.000000  0.015566  0.0  0.0  0.240443  0.040398  0.022455   \n",
       "\n",
       "        939       940  941  \n",
       "0  0.051412  0.062036  0.0  \n",
       "1  0.027225  0.000000  0.0  \n",
       "2  0.035461  0.000000  0.0  \n",
       "3  0.000000  0.000000  0.0  \n",
       "4  0.000000  0.051223  0.0  \n",
       "\n",
       "[5 rows x 942 columns]"
      ]
     },
     "execution_count": 15,
     "metadata": {},
     "output_type": "execute_result"
    }
   ],
   "source": [
    "from sklearn.metrics.pairwise import cosine_similarity\n",
    "\n",
    "doc_sim = cosine_similarity(tfidf_matrix)\n",
    "doc_sim_df = pd.DataFrame(doc_sim)\n",
    "doc_sim_df.head()"
   ]
  },
  {
   "cell_type": "markdown",
   "metadata": {
    "id": "06tyYXABGOY2"
   },
   "source": [
    "## mendapatkan title / judul movies"
   ]
  },
  {
   "cell_type": "code",
   "execution_count": 16,
   "metadata": {
    "colab": {
     "base_uri": "https://localhost:8080/"
    },
    "executionInfo": {
     "elapsed": 505,
     "status": "ok",
     "timestamp": 1668751494332,
     "user": {
      "displayName": "farrikh alzami",
      "userId": "11964535993149439504"
     },
     "user_tz": -420
    },
    "id": "AkQ1-OjFVvdw",
    "outputId": "2d58ea43-412b-4bc6-b132-d3d13a036092"
   },
   "outputs": [
    {
     "data": {
      "text/plain": [
       "(array(['Avatar', 'Avengers: Endgame', 'Avatar: The Way of Water',\n",
       "        'Titanic', 'Star Wars: Episode VII - The Force Awakens',\n",
       "        'Avengers: Infinity War', 'Spider-Man: No Way Home',\n",
       "        'Jurassic World', 'The Lion King', 'The Avengers', 'Furious 7',\n",
       "        'Top Gun: Maverick', 'Frozen II', 'Barbie',\n",
       "        'Avengers: Age of Ultron', 'The Super Mario Bros. Movie',\n",
       "        'Black Panther', 'Harry Potter and the Deathly Hallows: Part 2',\n",
       "        'Star Wars: Episode VIII - The Last Jedi',\n",
       "        'Jurassic World: Fallen Kingdom', 'Frozen', 'Beauty and the Beast',\n",
       "        'Incredibles 2', 'The Fate of the Furious', 'Iron Man 3',\n",
       "        'Minions', 'Captain America: Civil War', 'Aquaman',\n",
       "        'The Lord of the Rings: The Return of the King', 'Skyfall',\n",
       "        'Spider-Man: Far from Home', 'Captain Marvel',\n",
       "        'Transformers: Dark of the Moon', 'Jurassic Park',\n",
       "        'Transformers: Age of Extinction', 'The Dark Knight Rises',\n",
       "        'Star Wars: Episode IX - The Rise of Skywalker', 'Joker',\n",
       "        'Toy Story 4', 'Toy Story 3',\n",
       "        \"Pirates of the Caribbean: Dead Man's Chest\",\n",
       "        'Rogue One: A Star Wars Story', 'Aladdin',\n",
       "        'Pirates of the Caribbean: On Stranger Tides', 'Despicable Me 3',\n",
       "        'Finding Dory', 'Star Wars: Episode I - The Phantom Menace',\n",
       "        'Zootopia', 'Alice in Wonderland',\n",
       "        \"Harry Potter and the Sorcerer's Stone\",\n",
       "        'The Hobbit: An Unexpected Journey', 'The Dark Knight',\n",
       "        'Jurassic World Dominion', 'Jumanji: Welcome to the Jungle',\n",
       "        'Harry Potter and the Deathly Hallows: Part 1', 'Despicable Me 2',\n",
       "        'The Lion King', 'The Jungle Book',\n",
       "        'The Hobbit: The Battle of the Five Armies',\n",
       "        \"Pirates of the Caribbean: At World's End\",\n",
       "        'The Hobbit: The Desolation of Smaug',\n",
       "        'Doctor Strange in the Multiverse of Madness',\n",
       "        'The Lord of the Rings: The Two Towers',\n",
       "        'Harry Potter and the Order of the Phoenix', 'Finding Nemo',\n",
       "        'Minions: The Rise of Gru',\n",
       "        'Harry Potter and the Half-Blood Prince', 'Shrek 2', 'Oppenheimer',\n",
       "        'Harry Potter and the Chamber of Secrets', 'Bohemian Rhapsody',\n",
       "        'The Battle at Lake Changjin',\n",
       "        'The Lord of the Rings: The Fellowship of the Ring',\n",
       "        'Harry Potter and the Goblet of Fire', 'Spider-Man 3',\n",
       "        'The Secret Life of Pets', 'Ice Age: Dawn of the Dinosaurs',\n",
       "        'Spectre', 'Spider-Man: Homecoming', 'Ice Age: Continental Drift',\n",
       "        'Batman v Superman: Dawn of Justice', 'Wolf Warrior 2',\n",
       "        'Star Wars: Episode III - Revenge of the Sith',\n",
       "        'The Hunger Games: Catching Fire',\n",
       "        'Guardians of the Galaxy Vol. 2', 'Black Panther: Wakanda Forever',\n",
       "        'Inside Out', 'Venom', 'Thor: Ragnarok',\n",
       "        'The Twilight Saga: Breaking Dawn - Part 2',\n",
       "        'Guardians of the Galaxy Vol. 3', 'Inception',\n",
       "        'Transformers: Revenge of the Fallen', 'Spider-Man',\n",
       "        'Wonder Woman', 'Hi, Mom', 'Independence Day', 'Coco',\n",
       "        'Fantastic Beasts and Where to Find Them', 'Shrek the Third',\n",
       "        'Jumanji: The Next Level',\n",
       "        'Harry Potter and the Prisoner of Azkaban',\n",
       "        'Pirates of the Caribbean: Dead Men Tell No Tales',\n",
       "        'E.T. the Extra-Terrestrial', 'Mission: Impossible - Fallout',\n",
       "        '2012', 'Indiana Jones and the Kingdom of the Crystal Skull',\n",
       "        'Spider-Man 2', 'Fast & Furious 6', 'Deadpool 2', 'Deadpool',\n",
       "        'Star Wars: Episode IV - A New Hope', 'No Time to Die',\n",
       "        'Guardians of the Galaxy', 'The Batman', 'Thor: Love and Thunder',\n",
       "        'Fast & Furious Presents: Hobbs & Shaw', 'The Da Vinci Code',\n",
       "        'Maleficent', 'The Amazing Spider-Man',\n",
       "        'The Hunger Games: Mockingjay - Part 1', 'Shrek Forever After',\n",
       "        'Gravity', \"Madagascar 3: Europe's Most Wanted\", 'Suicide Squad',\n",
       "        'X-Men: Days of Future Past',\n",
       "        'The Chronicles of Narnia: The Lion, the Witch and the Wardrobe',\n",
       "        'Monsters University', 'The Matrix Reloaded', 'Up', 'Ne Zha',\n",
       "        'F9: The Fast Saga', 'Captain America: The Winter Soldier',\n",
       "        'The Twilight Saga: Breaking Dawn - Part 1',\n",
       "        'The Twilight Saga: New Moon', 'Dawn of the Planet of the Apes',\n",
       "        'Transformers', 'The Amazing Spider-Man 2', 'Fast X',\n",
       "        'Interstellar', 'It', 'The Wandering Earth',\n",
       "        'The Twilight Saga: Eclipse',\n",
       "        'Mission: Impossible - Ghost Protocol', 'Mamma Mia!',\n",
       "        'The Hunger Games', 'Spider-Man: Across the Spider-Verse', 'Moana',\n",
       "        'Detective Chinatown 3', 'Mission: Impossible - Rogue Nation',\n",
       "        'Forrest Gump', 'Doctor Strange', 'The Sixth Sense',\n",
       "        'Man of Steel', 'Ice Age: The Meltdown', 'Kung Fu Panda 2',\n",
       "        'Justice League', 'Big Hero 6',\n",
       "        'Fantastic Beasts: The Crimes of Grindelwald',\n",
       "        'Pirates of the Caribbean: The Curse of the Black Pearl',\n",
       "        'Men in Black 3', 'Star Wars: Episode II - Attack of the Clones',\n",
       "        'The Hunger Games: Mockingjay - Part 2', 'Thor: The Dark World',\n",
       "        'Sing', 'Kung Fu Panda', 'The Incredibles', 'The Martian',\n",
       "        'Hancock', 'Water Gate Bridge', 'Fast Five', 'Iron Man 2',\n",
       "        'Ratatouille', 'Ant-Man and the Wasp',\n",
       "        'How to Train Your Dragon 2', 'Logan',\n",
       "        'The Lost World: Jurassic Park', 'Casino Royale',\n",
       "        'The Passion of the Christ', 'Life of Pi', 'Ready Player One',\n",
       "        'Transformers: The Last Knight', 'Madagascar: Escape 2 Africa',\n",
       "        'War of the Worlds', 'Tangled', 'Quantum of Solace',\n",
       "        'Men in Black', 'The Croods', 'The Hangover Part II', 'Iron Man',\n",
       "        'I Am Legend', 'Monsters, Inc.', 'Operation Red Sea',\n",
       "        'Night at the Museum', 'Fifty Shades of Grey',\n",
       "        'The Little Mermaid',\n",
       "        'Mission: Impossible - Dead Reckoning Part One',\n",
       "        'Kong: Skull Island', 'The Smurfs', 'Cars 2', 'King Kong',\n",
       "        'Puss in Boots', 'The Mermaid', 'Armageddon',\n",
       "        'The Day After Tomorrow', 'Ted', 'American Sniper',\n",
       "        'Mission: Impossible II', 'Detective Chinatown 2',\n",
       "        'X-Men: Apocalypse', 'Sherlock Holmes: A Game of Shadows',\n",
       "        'Despicable Me', 'Cinderella', 'Madagascar', 'World War Z',\n",
       "        'Brave', 'Star Wars: Episode V - The Empire Strikes Back',\n",
       "        'The Simpsons Movie', 'The Revenant', 'The Meg',\n",
       "        'Ralph Breaks the Internet',\n",
       "        'Hotel Transylvania 3: Summer Vacation', 'The Boss Baby',\n",
       "        'Dunkirk', 'The Grinch', 'Godzilla',\n",
       "        'How to Train Your Dragon: The Hidden World', 'Sherlock Holmes',\n",
       "        'Meet the Fockers', 'Kung Fu Panda 3',\n",
       "        'Terminator 2: Judgment Day', 'Ant-Man',\n",
       "        'Venom: Let There Be Carnage', 'Gladiator', 'Rio 2', 'Troy',\n",
       "        'How to Train Your Dragon', 'Oz the Great and Powerful',\n",
       "        'Clash of the Titans', 'Maleficent: Mistress of Evil',\n",
       "        'War for the Planet of the Apes', 'Shrek', 'Mr. & Mrs. Smith',\n",
       "        'Elemental', 'Angels & Demons', 'Teenage Mutant Ninja Turtles',\n",
       "        'Bruce Almighty', \"The King's Speech\", 'Rio',\n",
       "        'Saving Private Ryan', 'Rise of the Planet of the Apes',\n",
       "        'Puss in Boots: The Last Wish', 'Hotel Transylvania 2',\n",
       "        'Star Wars: Episode VI - Return of the Jedi',\n",
       "        'Charlie and the Chocolate Factory',\n",
       "        'Indiana Jones and the Last Crusade', 'San Andreas',\n",
       "        'It Chapter Two', 'La La Land', 'Wreck-It Ralph',\n",
       "        'Godzilla vs. Kong', 'The Hangover', 'Lucy', 'The Lego Movie',\n",
       "        'Bumblebee', 'Star Trek Into Darkness', 'The Matrix',\n",
       "        'Pretty Woman', 'X-Men: The Last Stand', 'Moon Man',\n",
       "        'National Treasure: Book of Secrets', 'Mission: Impossible', '300',\n",
       "        'The Last Samurai', 'Demon Slayer the Movie: Mugen Train',\n",
       "        'Dying to Survive', \"Ocean's Eleven\", 'My People, My Country',\n",
       "        'Pokémon: Detective Pikachu', 'Thor', 'Pearl Harbor', 'Tarzan',\n",
       "        'Men in Black II', 'The Bourne Ultimatum', 'The Mummy Returns',\n",
       "        'Alvin and the Chipmunks: The Squeakquel', 'Les Misérables',\n",
       "        'The Exorcist', 'Mrs. Doubtfire', 'Terminator Genisys', 'Warcraft',\n",
       "        'Transformers: Rise of the Beasts', 'A Star Is Born',\n",
       "        'The Greatest Showman', 'Terminator 3: Rise of the Machines',\n",
       "        'Shang-Chi and the Legend of the Ten Rings', 'Die Another Day',\n",
       "        'The Secret Life of Pets 2', 'Cast Away', 'Rampage',\n",
       "        'The Matrix Revolutions', 'The Intouchables',\n",
       "        'John Wick: Chapter 4', 'Bad Boys for Life', 'Django Unchained',\n",
       "        'The Chronicles of Narnia: Prince Caspian', 'Sex and the City',\n",
       "        'The Captain', 'The Mummy',\n",
       "        'The Chronicles of Narnia: The Voyage of the Dawn Treader',\n",
       "        'Jason Bourne', 'The Wolverine', 'Kingsman: The Secret Service',\n",
       "        'Night at the Museum: Battle of the Smithsonian', 'Pacific Rim',\n",
       "        'Kingsman: The Golden Circle', 'The Mummy',\n",
       "        'Ice Age: Collision Course', 'Twilight', 'Sing 2', 'Signs', 'X2',\n",
       "        'Fantastic Beasts: The Secrets of Dumbledore', 'Uncharted',\n",
       "        'The Wolf of Wall Street', 'Sonic the Hedgehog 2',\n",
       "        'Alita: Battle Angel', 'The Mummy: Tomb of the Dragon Emperor',\n",
       "        'Prometheus', 'Gone with the Wind', 'Mamma Mia! Here We Go Again',\n",
       "        'Eternals', 'Dune', 'TRON: Legacy', 'Mission: Impossible III',\n",
       "        'Snow White and the Huntsman', 'Grease', 'Toy Story', 'Black Adam',\n",
       "        'Solo: A Star Wars Story', 'Superman Returns', 'Meg 2: The Trench',\n",
       "        'Raiders of the Lost Ark', 'Independence Day: Resurgence',\n",
       "        'Live Free or Die Hard', 'Monster Hunt',\n",
       "        'Godzilla: King of the Monsters', 'Home', 'Star Trek', '1917',\n",
       "        'Happy Feet', 'Spider-Man: Into the Spider-Verse', 'Cars 3',\n",
       "        'Ice Age', 'Indiana Jones and the Dial of Destiny', 'Your Name.',\n",
       "        'Fifty Shades Darker', 'Monsters vs. Aliens', 'Mad Max: Fury Road',\n",
       "        'Black Widow', 'Godzilla', 'True Lies', 'Slumdog Millionaire',\n",
       "        'Once Upon a Time in Hollywood', 'Taken 2',\n",
       "        'G.I. Joe: Retaliation', 'Shark Tale', 'What Women Want',\n",
       "        'The Adventures of Tintin', 'Batman Begins',\n",
       "        'Penguins of Madagascar', 'X-Men Origins: Wolverine',\n",
       "        'The Golden Compass', 'Fifty Shades Freed', 'Hitch',\n",
       "        'Terminator Salvation', 'Captain America: The First Avenger',\n",
       "        'Edge of Tomorrow', \"There's Something About Mary\", 'Gone Girl',\n",
       "        'The Fugitive', 'Jurassic Park III', 'My Big Fat Greek Wedding',\n",
       "        'Shazam!', 'Hello Mr. Billionaire', 'Die Hard with a Vengeance',\n",
       "        'The Nun', 'Alvin and the Chipmunks', 'Tenet', 'Notting Hill',\n",
       "        'Night at the Museum: Secret of the Tomb', \"Ocean's Twelve\",\n",
       "        'Planet of the Apes', 'The Hangover Part III',\n",
       "        'The World Is Not Enough', 'Monster Hunt 2', 'Fast & Furious',\n",
       "        'Noah', 'The Karate Kid', 'Home Alone 2: Lost in New York',\n",
       "        'Hotel Transylvania', 'Minority Report', 'Top Gun',\n",
       "        'Spirited Away', 'The Legend of Tarzan', 'American Beauty',\n",
       "        'Apollo 13', 'The Great Gatsby', 'Dumbo', 'I, Robot',\n",
       "        'Basic Instinct', 'Murder on the Orient Express',\n",
       "        'X-Men: First Class', 'The Angry Birds Movie', 'GoldenEye',\n",
       "        'Catch Me If You Can', 'Now You See Me', 'Hannibal', 'The Mask',\n",
       "        'Peter Rabbit', 'Speed', 'Dinosaur', 'Mary Poppins Returns',\n",
       "        'Deep Impact', 'The Lorax', 'The Maze Runner', 'The Smurfs 2',\n",
       "        'National Treasure', 'Rush Hour 2', 'Trolls',\n",
       "        'xXx: Return of Xander Cage', 'Pocahontas',\n",
       "        'How the Grinch Stole Christmas', 'Star Trek Beyond',\n",
       "        'Alvin and the Chipmunks: Chipwrecked', 'Wanted',\n",
       "        'The Flintstones', 'A Quiet Place', 'Enchanted', 'Over the Hedge',\n",
       "        '300: Rise of an Empire', 'Batman Forever',\n",
       "        'Prince of Persia: The Sands of Time',\n",
       "        'The Curious Case of Benjamin Button',\n",
       "        'Journey 2: The Mysterious Island', 'The Rock', 'The Great Wall',\n",
       "        'Now You See Me 2', 'Never Say Die', \"Bridget Jones's Diary\",\n",
       "        'Fantastic Four', '22 Jump Street', 'Meet the Parents',\n",
       "        'Black Swan', 'The Perfect Storm',\n",
       "        'John Wick: Chapter 3 - Parabellum', 'Crocodile Dundee',\n",
       "        'Crazy Alien', 'Se7en', 'The Devil Wears Prada', 'Taken 3',\n",
       "        'A Christmas Carol', 'The SpongeBob Movie: Sponge Out of Water',\n",
       "        \"Schindler's List\", 'Megamind', 'The Conjuring 2', 'Green Book',\n",
       "        'Lethal Weapon 3', 'Robin Hood', 'Inglourious Basterds',\n",
       "        '101 Dalmatians', 'The Conjuring', 'Fatal Attraction',\n",
       "        'Sonic the Hedgehog', 'The Last Airbender', 'The Proposal',\n",
       "        'A Beautiful Mind', 'Beverly Hills Cop', 'Air Force One', 'Wonder',\n",
       "        'The Expendables 2', 'Chicken Little', 'As Good as It Gets',\n",
       "        'Austin Powers: The Spy Who Shagged Me', 'Knives Out',\n",
       "        'Maze Runner: The Scorch Trials',\n",
       "        'Resident Evil: The Final Chapter', 'The Lego Batman Movie',\n",
       "        \"Ocean's Thirteen\", 'Little Fockers', 'Bolt', 'Ransom',\n",
       "        'Runaway Bride', 'The Blind Side',\n",
       "        'The Ex-File 3: Return of the Exes', 'The Fault in Our Stars',\n",
       "        'The Pursuit of Happyness', 'Rise of the Guardians',\n",
       "        'Close Encounters of the Third Kind', 'Chicago',\n",
       "        'Annabelle: Creation', 'Bridesmaids', 'Skyscraper',\n",
       "        'A Good Day to Die Hard', 'Mulan', 'Dangal', 'Passengers',\n",
       "        'Battleship', 'Liar Liar', 'G.I. Joe: The Rise of Cobra',\n",
       "        'Wrath of the Titans', 'Fantastic Four: Rise of the Silver Surfer',\n",
       "        'Superman', 'Rocky IV', 'Rambo: First Blood Part II',\n",
       "        'Resident Evil: Afterlife', 'Van Helsing', 'Stuart Little',\n",
       "        'Beverly Hills Cop II', 'Alice Through the Looking Glass',\n",
       "        \"My Best Friend's Wedding\", 'Real Steel', \"Ocean's Eight\",\n",
       "        'A Quiet Place Part II', 'The Divergent Series: Insurgent',\n",
       "        \"Look Who's Talking\", 'Austin Powers in Goldmember',\n",
       "        \"Miss Peregrine's Home for Peculiar Children\", 'X-Men',\n",
       "        'Ferdinand', 'Shutter Island', 'Doctor Dolittle', 'Bee Movie',\n",
       "        'Salt', 'G-Force', 'The Departed', 'What Lies Beneath',\n",
       "        'Pacific Rim: Uprising', 'The Bourne Supremacy',\n",
       "        'Sex and the City 2', 'Shakespeare in Love', 'Divergent',\n",
       "        'Coming to America', 'Elvis', 'Wedding Crashers',\n",
       "        'Maze Runner: The Death Cure', 'Casper', 'American Pie 2',\n",
       "        'Pitch Perfect 2', 'The Green Mile', 'Oblivion', 'Elysium',\n",
       "        'Lethal Weapon 4', 'John Carter', 'Turbo', 'Paddington',\n",
       "        'The Tourist', 'Split', 'Scary Movie', 'xXx', 'The Bourne Legacy',\n",
       "        'Mr. Peabody & Sherman', 'Scooby-Doo', 'Lincoln', 'Creed III',\n",
       "        'Lara Croft: Tomb Raider', 'Tomb Raider', 'The Expendables',\n",
       "        'Cloudy with a Chance of Meatballs 2', 'The Nutty Professor',\n",
       "        'Jerry Maguire', 'Bad Boys II', 'Lilo & Stitch', 'Grown Ups',\n",
       "        'Neighbors', 'The Firm', \"We're the Millers\", 'Gran Torino',\n",
       "        '10,000 BC', 'American Gangster', 'The Flash', 'Epic',\n",
       "        'Exodus: Gods and Kings', 'Blade Runner 2049', 'Bambi',\n",
       "        'Batman Returns', 'Indecent Proposal', \"Something's Gotta Give\",\n",
       "        'Bridget Jones: The Edge of Reason', 'The Incredible Hulk',\n",
       "        'Waterworld', 'The Truman Show', \"Charlie's Angels\",\n",
       "        'The Fifth Element', 'Jumanji', 'Parasite', 'Borat', 'Robots',\n",
       "        'Knight and Day', 'Terminator: Dark Fate', 'The Lone Ranger',\n",
       "        'Super 8', 'Halloween', \"Charlie's Angels: Full Throttle\",\n",
       "        'Rush Hour 3', 'The Full Monty', 'Annabelle', 'Encanto',\n",
       "        'The Village', 'Lost in Hong Kong', 'Erin Brockovich', 'Us',\n",
       "        'Pegasus', 'Get Out', 'Marley & Me', 'Cliffhanger',\n",
       "        'Baahubali 2: The Conclusion', 'Babe',\n",
       "        'Men in Black: International', 'Wild Hogs',\n",
       "        'High School Musical 3: Senior Year', 'Dark Phoenix', 'True Grit',\n",
       "        'Dolittle', 'Bean', 'American Hustle', 'Enemy of the State',\n",
       "        \"You've Got Mail\", 'Eragon', 'Brother Bear', 'The Mask of Zorro',\n",
       "        'The Bad Guys', 'The Ring', 'The Blair Witch Project',\n",
       "        'Unbreakable', 'Love Actually',\n",
       "        'Journey to the West: The Demons Strike Back', 'Glass',\n",
       "        'Grown Ups 2', 'The Peanuts Movie', 'Rango',\n",
       "        'Four Weddings and a Funeral', 'Face/Off',\n",
       "        'Teenage Mutant Ninja Turtles: Out of the Shadows', 'Dark Shadows',\n",
       "        'Hulk', 'The Bravest', 'Pixels', 'Hercules', 'Rush Hour',\n",
       "        'Journey to the Center of the Earth', 'After Earth',\n",
       "        'A Few Good Men', 'Cloudy with a Chance of Meatballs', '8 Mile',\n",
       "        \"Daddy's Home\", 'RoboCop', 'Eraser', 'Alien: Covenant', 'Sully',\n",
       "        \"Assassin's Creed\", 'Click', 'Legend of Deification', 'Planes',\n",
       "        'Resident Evil: Retribution', 'Crazy Rich Asians',\n",
       "        'Batman & Robin', \"Howl's Moving Castle\", \"Gulliver's Travels\",\n",
       "        'Gone in 60 Seconds', 'Saturday Night Fever',\n",
       "        'Silver Linings Playbook', '2 Fast 2 Furious', 'Hidden Figures',\n",
       "        'A.I. Artificial Intelligence', 'Dead Poets Society', 'Spy',\n",
       "        'American Pie', 'American Reunion', 'Big Daddy',\n",
       "        'Alvin and the Chipmunks: The Road Chip', 'The Imitation Game',\n",
       "        'Cruella', 'The Day the Earth Stood Still', 'American Wedding',\n",
       "        'The Girl with the Dragon Tattoo', 'Juno', 'Argo',\n",
       "        \"Mr. Bean's Holiday\", 'The English Patient', 'Sister Act',\n",
       "        'Annabelle Comes Home', 'Constantine', 'Get Smart', 'Space Jam',\n",
       "        'Life Is Beautiful', 'The Heat', 'Ghostbusters', 'Ghost Rider',\n",
       "        'Goodbye Mr. Loser', 'Paddington 2', 'Sleepless in Seattle',\n",
       "        'Lethal Weapon 2', 'The Green Hornet', 'Out of Africa', 'Elf',\n",
       "        'Youth', 'Baby Driver', 'Immortals', 'Taken',\n",
       "        'Percy Jackson & the Olympians: The Lightning Thief', 'Lightyear',\n",
       "        'Hansel & Gretel: Witch Hunters',\n",
       "        'Valerian and the City of a Thousand Planets', 'Good Will Hunting',\n",
       "        'Better Days', 'Ford v Ferrari', 'Jumper', 'The Social Network',\n",
       "        'Con Air', 'Interview with the Vampire: The Vampire Chronicles',\n",
       "        'Flightplan', 'Yes Man', 'Non-Stop', 'Honey, I Shrunk the Kids',\n",
       "        'Fahrenheit 9/11', 'Wild Wild West', 'My Country, My Parents',\n",
       "        'Geostorm', 'Presumed Innocent', 'Jungle Cruise', 'Scary Movie 3',\n",
       "        'Collateral', 'Inferno', 'Knocked Up', 'Green Lantern',\n",
       "        'What Happens in Vegas', \"It's Complicated\", 'The Terminal',\n",
       "        'Little Women', 'Captain Phillips', 'The Prince of Egypt',\n",
       "        'Jack Reacher', 'Kingdom of Heaven', 'The Emoji Movie', 'Smile',\n",
       "        'Too Cool to Kill', 'Dracula Untold', 'Central Intelligence',\n",
       "        'Million Dollar Baby', 'The Help', \"Valentine's Day\",\n",
       "        'Bad Teacher', 'A Little Red Flower', 'The Croods: A New Age',\n",
       "        'Clear and Present Danger', 'One Hundred and One Dalmatians',\n",
       "        'Ted 2', \"Bram Stoker's Dracula\", 'Vertical Limit',\n",
       "        'Ghostbusters II', 'The Patriot', \"The Sorcerer's Apprentice\",\n",
       "        'Just Go with It', 'The Expendables 3', 'Creed II', 'Smallfoot',\n",
       "        'Public Enemies', 'The Bourne Identity', 'Disclosure',\n",
       "        'Crouching Tiger, Hidden Dragon', 'Pulp Fiction', 'The Aviator',\n",
       "        'Braveheart', 'Into the Woods', 'Bedtime Stories',\n",
       "        'Miss Congeniality', 'Sound of Freedom', 'Entrapment',\n",
       "        'Ace Ventura: When Nature Calls', 'End of Days',\n",
       "        \"Bridget Jones's Baby\", 'Fury', 'Battle Los Angeles', 'Australia',\n",
       "        'Due Date', 'Master and Commander: The Far Side of the World',\n",
       "        'A Series of Unfortunate Events', 'The Little Mermaid',\n",
       "        'Nice View', 'District 9', 'Moonraker', 'The Others',\n",
       "        'Horrible Bosses', 'Us and Them', 'Red Dragon', 'Tomorrowland',\n",
       "        'Me Before You', 'Dungeons & Dragons: Honor Among Thieves',\n",
       "        'Safe House', 'S.W.A.T.', 'DC League of Super-Pets',\n",
       "        'The Fast and the Furious', 'Traffic', 'Paranormal Activity 3',\n",
       "        'Philadelphia', 'The Conjuring: The Devil Made Me Do It',\n",
       "        'Sleepy Hollow', 'The Holiday', 'The Jungle Book', 'Raging Fire',\n",
       "        'London Has Fallen', 'The Break-Up', 'Journey to the West',\n",
       "        'The Ugly Truth', 'JFK', 'Birds of Prey', 'White House Down',\n",
       "        \"A Dog's Purpose\", 'Ponyo', 'Fun with Dick and Jane',\n",
       "        'Eat Pray Love', 'The Addams Family', 'Ghostbusters: Afterlife',\n",
       "        \"You Don't Mess with the Zohan\", 'The Nun II', 'Hairspray',\n",
       "        'King Arthur', 'Yogi Bear', 'Everest', 'Vanilla Sky', 'Arrival',\n",
       "        'Need for Speed', 'Garfield', 'Patch Adams',\n",
       "        'Straight Outta Compton', '21 Jump Street', 'Valkyrie',\n",
       "        'Open Season', 'Cats & Dogs', 'Percy Jackson: Sea of Monsters',\n",
       "        'The Lego Movie 2: The Second Part', 'Two Weeks Notice', 'RED',\n",
       "        'Shock Wave 2', 'City of Angels', 'The Pacifier', '50 First Dates',\n",
       "        'Total Recall', 'The Island', 'The Impossible', 'Lost in Thailand',\n",
       "        'Christopher Robin', 'Jack the Giant Slayer',\n",
       "        'Smurfs: The Lost Village', 'Chinese Doctors',\n",
       "        'Spy Kids 3: Game Over', 'Panic Room', 'The Other Woman',\n",
       "        'Stargate', 'Beowulf', 'The Vow', 'Anger Management',\n",
       "        'Tropic Thunder', 'Rocketman', 'The Pelican Brief',\n",
       "        'The Shape of Water', 'The BFG', 'Downton Abbey', 'The Intern',\n",
       "        'The Sum of All Fears', 'Gangs of New York', 'The Post',\n",
       "        'The Monkey King 2', 'Paranormal Activity', 'Weathering with You',\n",
       "        'The Lost City', 'The Equalizer', 'Sheep Without a Shepherd',\n",
       "        'The Longest Yard', 'The Santa Clause', 'Cheaper by the Dozen',\n",
       "        'The Equalizer 2', 'Abominable', 'Hollow Man', 'Outbreak',\n",
       "        'The White Storm 2: Drug Lords', 'The X Files', 'Breakup Buddies',\n",
       "        'The Secret Life of Walter Mitty', 'Project Gutenberg', 'Jaws 2',\n",
       "        '12 Years a Slave', 'Heat', \"Mr. Popper's Penguins\", 'The Grudge',\n",
       "        'One Piece Film: Red', 'I Now Pronounce You Chuck & Larry',\n",
       "        'The Horse Whisperer', 'Walk the Line', 'Jian Bing Man',\n",
       "        'The Final Destination', 'Atlantis: The Lost Empire', 'Inside Man',\n",
       "        'The Waterboy', 'Hugo', 'Pitch Perfect 3', 'Watchmen',\n",
       "        'The Birdcage', 'Moulin Rouge!', 'Snow White and the Seven Dwarfs',\n",
       "        'Ode to My Father', 'Hop', 'Bad Moms', 'Jupiter Ascending',\n",
       "        'Knowing', 'Storks', 'Stand by Me Doraemon',\n",
       "        \"The Hitman's Bodyguard\", 'Paul Blart: Mall Cop', \"Wayne's World\",\n",
       "        'Maverick', 'Mirror Mirror', 'The Man in the Iron Mask',\n",
       "        'Cape Fear', 'The Haunted Mansion',\n",
       "        \"The Monkey King: Havoc in Heaven's Palace\",\n",
       "        'While You Were Sleeping', 'The Bridges of Madison County',\n",
       "        'From Vegas to Macau III', 'Poseidon', 'The First Wives Club',\n",
       "        'Cliff Walkers', 'Scooby-Doo 2: Monsters Unleashed',\n",
       "        'Road to Perdition', 'Kill Bill: Vol. 1', 'The Scorpion King',\n",
       "        'Sweet Home Alabama', \"Daddy's Home 2\", 'Hacksaw Ridge', 'Deja Vu',\n",
       "        'M3GAN'], dtype=object),\n",
       " (942,))"
      ]
     },
     "execution_count": 16,
     "metadata": {},
     "output_type": "execute_result"
    }
   ],
   "source": [
    "movies_list = df['Title'].values\n",
    "movies_list, movies_list.shape"
   ]
  },
  {
   "cell_type": "markdown",
   "metadata": {
    "id": "oYnMl5HVGY3v"
   },
   "source": [
    "## Temukan Film Serupa Teratas untuk Contoh Film\n",
    "\n",
    "Mari ambil __Minions__ film paling populer dari kerangka data di atas dan coba temukan film paling mirip yang dapat direkomendasikan"
   ]
  },
  {
   "cell_type": "markdown",
   "metadata": {
    "id": "Jb0zYhQGGdXs"
   },
   "source": [
    "### ambil movie ID"
   ]
  },
  {
   "cell_type": "code",
   "execution_count": 17,
   "metadata": {
    "colab": {
     "base_uri": "https://localhost:8080/"
    },
    "executionInfo": {
     "elapsed": 3,
     "status": "ok",
     "timestamp": 1668751497820,
     "user": {
      "displayName": "farrikh alzami",
      "userId": "11964535993149439504"
     },
     "user_tz": -420
    },
    "id": "2-0eF9d5VwcD",
    "outputId": "d820533c-708d-4458-e725-c782a5c270ac"
   },
   "outputs": [
    {
     "data": {
      "text/plain": [
       "0"
      ]
     },
     "execution_count": 17,
     "metadata": {},
     "output_type": "execute_result"
    }
   ],
   "source": [
    "movie_idx = np.where(movies_list == 'Avatar')[0][0]\n",
    "movie_idx"
   ]
  },
  {
   "cell_type": "markdown",
   "metadata": {
    "id": "N5ANO-GxGg0D"
   },
   "source": [
    "### ambil similarities"
   ]
  },
  {
   "cell_type": "code",
   "execution_count": 18,
   "metadata": {
    "colab": {
     "base_uri": "https://localhost:8080/"
    },
    "executionInfo": {
     "elapsed": 3,
     "status": "ok",
     "timestamp": 1668751504352,
     "user": {
      "displayName": "farrikh alzami",
      "userId": "11964535993149439504"
     },
     "user_tz": -420
    },
    "id": "50qG66H4VxaO",
    "outputId": "05804a11-ac11-4536-9103-380d1eec0f4c"
   },
   "outputs": [
    {
     "data": {
      "text/plain": [
       "array([1.        , 0.        , 0.21663452, 0.        , 0.        ,\n",
       "       0.        , 0.        , 0.        , 0.        , 0.        ,\n",
       "       0.        , 0.03288377, 0.        , 0.03460356, 0.        ,\n",
       "       0.        , 0.        , 0.        , 0.        , 0.        ,\n",
       "       0.02814405, 0.        , 0.06389041, 0.02462479, 0.13096412,\n",
       "       0.02095977, 0.        , 0.        , 0.02139398, 0.        ,\n",
       "       0.08111821, 0.04219829, 0.07197649, 0.06699368, 0.        ,\n",
       "       0.        , 0.        , 0.        , 0.01921193, 0.03903629,\n",
       "       0.        , 0.0392738 , 0.        , 0.        , 0.        ,\n",
       "       0.        , 0.        , 0.        , 0.01793481, 0.02568271,\n",
       "       0.02970357, 0.        , 0.        , 0.        , 0.02060315,\n",
       "       0.        , 0.        , 0.        , 0.        , 0.        ,\n",
       "       0.        , 0.        , 0.        , 0.        , 0.043991  ,\n",
       "       0.        , 0.        , 0.        , 0.        , 0.        ,\n",
       "       0.        , 0.        , 0.        , 0.        , 0.02264034,\n",
       "       0.        , 0.02053415, 0.        , 0.        , 0.01933169,\n",
       "       0.01961653, 0.        , 0.        , 0.        , 0.        ,\n",
       "       0.06718753, 0.        , 0.        , 0.01970212, 0.        ,\n",
       "       0.04022391, 0.        , 0.        , 0.        , 0.05086508,\n",
       "       0.        , 0.        , 0.        , 0.        , 0.        ,\n",
       "       0.        , 0.        , 0.        , 0.03967413, 0.04189293,\n",
       "       0.        , 0.03891263, 0.        , 0.        , 0.        ,\n",
       "       0.04543149, 0.        , 0.        , 0.        , 0.        ,\n",
       "       0.        , 0.        , 0.        , 0.        , 0.        ,\n",
       "       0.        , 0.        , 0.        , 0.        , 0.06484746,\n",
       "       0.        , 0.        , 0.        , 0.        , 0.        ,\n",
       "       0.07861735, 0.        , 0.01764307, 0.        , 0.        ,\n",
       "       0.        , 0.        , 0.        , 0.        , 0.03697914,\n",
       "       0.        , 0.01403602, 0.        , 0.        , 0.        ,\n",
       "       0.        , 0.05776649, 0.        , 0.        , 0.04270622,\n",
       "       0.        , 0.03073882, 0.        , 0.05254198, 0.        ,\n",
       "       0.        , 0.        , 0.        , 0.        , 0.        ,\n",
       "       0.        , 0.        , 0.        , 0.        , 0.04075614,\n",
       "       0.        , 0.0238869 , 0.03624636, 0.        , 0.        ,\n",
       "       0.        , 0.01873241, 0.        , 0.03322874, 0.03068657,\n",
       "       0.        , 0.        , 0.03110767, 0.        , 0.        ,\n",
       "       0.02059044, 0.        , 0.        , 0.        , 0.0237865 ,\n",
       "       0.        , 0.        , 0.03051649, 0.        , 0.05984789,\n",
       "       0.        , 0.        , 0.08268878, 0.        , 0.        ,\n",
       "       0.02190422, 0.        , 0.        , 0.02259788, 0.04335215,\n",
       "       0.        , 0.        , 0.        , 0.        , 0.        ,\n",
       "       0.        , 0.03054879, 0.        , 0.        , 0.02279434,\n",
       "       0.        , 0.        , 0.        , 0.        , 0.02340061,\n",
       "       0.        , 0.        , 0.        , 0.        , 0.12881434,\n",
       "       0.        , 0.        , 0.        , 0.01857699, 0.        ,\n",
       "       0.02546106, 0.02255195, 0.        , 0.        , 0.03577228,\n",
       "       0.        , 0.01706675, 0.03662751, 0.        , 0.        ,\n",
       "       0.        , 0.0400762 , 0.        , 0.        , 0.        ,\n",
       "       0.        , 0.        , 0.        , 0.        , 0.        ,\n",
       "       0.04121262, 0.        , 0.        , 0.        , 0.06388365,\n",
       "       0.        , 0.        , 0.        , 0.        , 0.02708311,\n",
       "       0.        , 0.        , 0.        , 0.        , 0.        ,\n",
       "       0.        , 0.        , 0.        , 0.        , 0.01830489,\n",
       "       0.02061965, 0.        , 0.        , 0.03681455, 0.08496519,\n",
       "       0.        , 0.        , 0.        , 0.        , 0.04132503,\n",
       "       0.        , 0.        , 0.        , 0.03092888, 0.04176439,\n",
       "       0.        , 0.        , 0.        , 0.        , 0.        ,\n",
       "       0.        , 0.        , 0.        , 0.        , 0.        ,\n",
       "       0.        , 0.        , 0.        , 0.        , 0.        ,\n",
       "       0.        , 0.        , 0.06218572, 0.        , 0.        ,\n",
       "       0.        , 0.05617644, 0.        , 0.        , 0.        ,\n",
       "       0.        , 0.        , 0.        , 0.        , 0.01537777,\n",
       "       0.        , 0.        , 0.        , 0.        , 0.01788267,\n",
       "       0.01887124, 0.        , 0.        , 0.        , 0.1003626 ,\n",
       "       0.        , 0.        , 0.        , 0.        , 0.        ,\n",
       "       0.        , 0.        , 0.        , 0.14527176, 0.        ,\n",
       "       0.        , 0.        , 0.08172495, 0.1011006 , 0.        ,\n",
       "       0.        , 0.        , 0.        , 0.08724565, 0.        ,\n",
       "       0.02093161, 0.        , 0.        , 0.        , 0.        ,\n",
       "       0.        , 0.        , 0.        , 0.        , 0.        ,\n",
       "       0.02542238, 0.03910548, 0.02051405, 0.        , 0.        ,\n",
       "       0.        , 0.        , 0.03099544, 0.        , 0.        ,\n",
       "       0.        , 0.        , 0.        , 0.        , 0.        ,\n",
       "       0.        , 0.        , 0.        , 0.        , 0.        ,\n",
       "       0.02139715, 0.        , 0.        , 0.        , 0.        ,\n",
       "       0.        , 0.        , 0.        , 0.        , 0.        ,\n",
       "       0.        , 0.        , 0.        , 0.        , 0.        ,\n",
       "       0.        , 0.        , 0.        , 0.07823906, 0.03322601,\n",
       "       0.        , 0.        , 0.        , 0.        , 0.07208251,\n",
       "       0.0210885 , 0.        , 0.11745556, 0.03260428, 0.03203686,\n",
       "       0.02149334, 0.        , 0.        , 0.04408154, 0.04622399,\n",
       "       0.        , 0.        , 0.        , 0.        , 0.        ,\n",
       "       0.        , 0.        , 0.        , 0.        , 0.03727481,\n",
       "       0.03471023, 0.        , 0.        , 0.        , 0.        ,\n",
       "       0.        , 0.04360278, 0.        , 0.        , 0.01850224,\n",
       "       0.        , 0.        , 0.        , 0.        , 0.        ,\n",
       "       0.        , 0.        , 0.        , 0.        , 0.        ,\n",
       "       0.        , 0.02170441, 0.02225476, 0.        , 0.        ,\n",
       "       0.        , 0.03427014, 0.02017851, 0.        , 0.04520754,\n",
       "       0.        , 0.        , 0.        , 0.        , 0.        ,\n",
       "       0.        , 0.        , 0.        , 0.        , 0.        ,\n",
       "       0.        , 0.        , 0.        , 0.        , 0.        ,\n",
       "       0.        , 0.        , 0.        , 0.07799641, 0.02704017,\n",
       "       0.        , 0.04210121, 0.        , 0.02303587, 0.02079908,\n",
       "       0.        , 0.        , 0.        , 0.        , 0.        ,\n",
       "       0.        , 0.        , 0.        , 0.        , 0.        ,\n",
       "       0.        , 0.        , 0.        , 0.        , 0.        ,\n",
       "       0.        , 0.        , 0.        , 0.        , 0.        ,\n",
       "       0.        , 0.        , 0.        , 0.        , 0.        ,\n",
       "       0.        , 0.        , 0.02171127, 0.        , 0.        ,\n",
       "       0.03267013, 0.        , 0.        , 0.        , 0.03800455,\n",
       "       0.        , 0.        , 0.        , 0.        , 0.        ,\n",
       "       0.02345256, 0.        , 0.        , 0.02123427, 0.04703646,\n",
       "       0.        , 0.        , 0.        , 0.        , 0.        ,\n",
       "       0.        , 0.09719237, 0.        , 0.09868786, 0.        ,\n",
       "       0.        , 0.        , 0.03634346, 0.02333587, 0.10650266,\n",
       "       0.        , 0.        , 0.        , 0.        , 0.13275081,\n",
       "       0.        , 0.0389748 , 0.        , 0.        , 0.        ,\n",
       "       0.        , 0.02200139, 0.        , 0.        , 0.        ,\n",
       "       0.04616626, 0.        , 0.        , 0.        , 0.        ,\n",
       "       0.05726562, 0.04244642, 0.        , 0.        , 0.        ,\n",
       "       0.03431052, 0.        , 0.        , 0.        , 0.01901179,\n",
       "       0.        , 0.        , 0.        , 0.        , 0.        ,\n",
       "       0.        , 0.        , 0.        , 0.        , 0.        ,\n",
       "       0.        , 0.        , 0.        , 0.        , 0.        ,\n",
       "       0.        , 0.        , 0.        , 0.        , 0.        ,\n",
       "       0.01667173, 0.        , 0.        , 0.        , 0.        ,\n",
       "       0.04109348, 0.        , 0.        , 0.        , 0.        ,\n",
       "       0.        , 0.        , 0.        , 0.03417995, 0.        ,\n",
       "       0.        , 0.13923855, 0.02396177, 0.        , 0.        ,\n",
       "       0.        , 0.        , 0.        , 0.        , 0.        ,\n",
       "       0.        , 0.04458838, 0.        , 0.        , 0.        ,\n",
       "       0.03203109, 0.        , 0.        , 0.        , 0.        ,\n",
       "       0.        , 0.        , 0.        , 0.        , 0.        ,\n",
       "       0.        , 0.        , 0.        , 0.        , 0.        ,\n",
       "       0.02187801, 0.04895091, 0.        , 0.03168449, 0.        ,\n",
       "       0.        , 0.        , 0.        , 0.        , 0.        ,\n",
       "       0.        , 0.        , 0.        , 0.        , 0.06499261,\n",
       "       0.        , 0.        , 0.        , 0.        , 0.04492818,\n",
       "       0.        , 0.        , 0.        , 0.        , 0.        ,\n",
       "       0.01987333, 0.        , 0.10364191, 0.        , 0.        ,\n",
       "       0.        , 0.        , 0.03519026, 0.        , 0.        ,\n",
       "       0.        , 0.        , 0.03060872, 0.        , 0.        ,\n",
       "       0.        , 0.        , 0.        , 0.        , 0.        ,\n",
       "       0.        , 0.        , 0.        , 0.        , 0.        ,\n",
       "       0.        , 0.01952857, 0.        , 0.        , 0.03831076,\n",
       "       0.        , 0.01825415, 0.07509511, 0.        , 0.        ,\n",
       "       0.        , 0.        , 0.        , 0.        , 0.02160785,\n",
       "       0.        , 0.        , 0.        , 0.        , 0.        ,\n",
       "       0.        , 0.        , 0.05341642, 0.        , 0.        ,\n",
       "       0.        , 0.        , 0.        , 0.05751604, 0.        ,\n",
       "       0.        , 0.        , 0.        , 0.        , 0.        ,\n",
       "       0.        , 0.0324263 , 0.        , 0.03168706, 0.        ,\n",
       "       0.        , 0.        , 0.        , 0.        , 0.        ,\n",
       "       0.        , 0.04324564, 0.        , 0.        , 0.        ,\n",
       "       0.        , 0.        , 0.01868669, 0.        , 0.        ,\n",
       "       0.        , 0.        , 0.        , 0.        , 0.        ,\n",
       "       0.        , 0.        , 0.        , 0.        , 0.        ,\n",
       "       0.        , 0.        , 0.        , 0.        , 0.        ,\n",
       "       0.03860526, 0.        , 0.        , 0.02221652, 0.        ,\n",
       "       0.        , 0.        , 0.        , 0.        , 0.        ,\n",
       "       0.        , 0.        , 0.        , 0.        , 0.        ,\n",
       "       0.        , 0.        , 0.        , 0.        , 0.        ,\n",
       "       0.        , 0.        , 0.        , 0.        , 0.        ,\n",
       "       0.02580766, 0.        , 0.        , 0.        , 0.        ,\n",
       "       0.        , 0.        , 0.04337593, 0.        , 0.        ,\n",
       "       0.        , 0.        , 0.        , 0.04881548, 0.        ,\n",
       "       0.        , 0.        , 0.        , 0.        , 0.        ,\n",
       "       0.        , 0.        , 0.08780281, 0.        , 0.05859569,\n",
       "       0.        , 0.04160953, 0.        , 0.        , 0.        ,\n",
       "       0.        , 0.03462511, 0.04657641, 0.        , 0.04764217,\n",
       "       0.        , 0.        , 0.        , 0.        , 0.        ,\n",
       "       0.        , 0.02725571, 0.        , 0.        , 0.        ,\n",
       "       0.        , 0.        , 0.        , 0.        , 0.        ,\n",
       "       0.06728521, 0.        , 0.        , 0.        , 0.        ,\n",
       "       0.        , 0.        , 0.        , 0.        , 0.        ,\n",
       "       0.        , 0.02396094, 0.        , 0.        , 0.        ,\n",
       "       0.        , 0.        , 0.01964753, 0.        , 0.        ,\n",
       "       0.        , 0.        , 0.        , 0.        , 0.        ,\n",
       "       0.        , 0.        , 0.        , 0.        , 0.        ,\n",
       "       0.        , 0.        , 0.        , 0.        , 0.        ,\n",
       "       0.02907722, 0.02496768, 0.        , 0.        , 0.        ,\n",
       "       0.        , 0.        , 0.        , 0.        , 0.        ,\n",
       "       0.        , 0.06563074, 0.01897112, 0.        , 0.03709915,\n",
       "       0.        , 0.        , 0.        , 0.        , 0.08225167,\n",
       "       0.03251215, 0.        , 0.        , 0.        , 0.        ,\n",
       "       0.        , 0.        , 0.        , 0.        , 0.        ,\n",
       "       0.        , 0.        , 0.        , 0.        , 0.        ,\n",
       "       0.        , 0.        , 0.        , 0.        , 0.        ,\n",
       "       0.        , 0.07178718, 0.        , 0.07377894, 0.        ,\n",
       "       0.        , 0.        , 0.        , 0.        , 0.12035105,\n",
       "       0.        , 0.07129415, 0.        , 0.        , 0.        ,\n",
       "       0.        , 0.        , 0.        , 0.        , 0.        ,\n",
       "       0.        , 0.        , 0.        , 0.01935428, 0.        ,\n",
       "       0.        , 0.        , 0.        , 0.        , 0.        ,\n",
       "       0.        , 0.        , 0.        , 0.        , 0.        ,\n",
       "       0.        , 0.        , 0.03879085, 0.        , 0.        ,\n",
       "       0.        , 0.        , 0.03607037, 0.        , 0.05141242,\n",
       "       0.06203585, 0.        ])"
      ]
     },
     "execution_count": 18,
     "metadata": {},
     "output_type": "execute_result"
    }
   ],
   "source": [
    "movie_similarities = doc_sim_df.iloc[movie_idx].values\n",
    "movie_similarities"
   ]
  },
  {
   "cell_type": "markdown",
   "metadata": {
    "id": "7Z4U9XqMGofg"
   },
   "source": [
    "### Get top 5 similar movie IDs"
   ]
  },
  {
   "cell_type": "code",
   "execution_count": 19,
   "metadata": {
    "colab": {
     "base_uri": "https://localhost:8080/"
    },
    "executionInfo": {
     "elapsed": 398,
     "status": "ok",
     "timestamp": 1668751508133,
     "user": {
      "displayName": "farrikh alzami",
      "userId": "11964535993149439504"
     },
     "user_tz": -420
    },
    "id": "nCp6LI9OVzBh",
    "outputId": "287a770a-34e1-4c38-9c7c-363bf5cb097a"
   },
   "outputs": [
    {
     "data": {
      "text/plain": [
       "array([  2, 328, 596, 534,  24], dtype=int64)"
      ]
     },
     "execution_count": 19,
     "metadata": {},
     "output_type": "execute_result"
    }
   ],
   "source": [
    "similar_movie_idxs = np.argsort(-movie_similarities)[1:6]\n",
    "similar_movie_idxs"
   ]
  },
  {
   "cell_type": "markdown",
   "metadata": {
    "id": "nf3R8PL_GsFV"
   },
   "source": [
    "### Get top 5 similar movies"
   ]
  },
  {
   "cell_type": "code",
   "execution_count": 20,
   "metadata": {
    "colab": {
     "base_uri": "https://localhost:8080/"
    },
    "executionInfo": {
     "elapsed": 389,
     "status": "ok",
     "timestamp": 1668751511982,
     "user": {
      "displayName": "farrikh alzami",
      "userId": "11964535993149439504"
     },
     "user_tz": -420
    },
    "id": "p45bXWcLVz7V",
    "outputId": "89e1f3ac-2a16-44c7-8ef6-f174b1bc02cf"
   },
   "outputs": [
    {
     "data": {
      "text/plain": [
       "array(['Avatar: The Way of Water', 'Prometheus', 'Borat', 'G-Force',\n",
       "       'Iron Man 3'], dtype=object)"
      ]
     },
     "execution_count": 20,
     "metadata": {},
     "output_type": "execute_result"
    }
   ],
   "source": [
    "similar_movies = movies_list[similar_movie_idxs]\n",
    "similar_movies"
   ]
  },
  {
   "cell_type": "markdown",
   "metadata": {
    "id": "HsEr2msSG0P_"
   },
   "source": [
    "### Buat fungsi rekomendasi film untuk merekomendasikan 5 film serupa teratas untuk film apa pun\n",
    "\n",
    "\n",
    "The movie title, movie title list and document similarity matrix dataframe akan diberikan sebagai input ke fungsi"
   ]
  },
  {
   "cell_type": "code",
   "execution_count": 21,
   "metadata": {
    "id": "ntQfhP_CV0wO"
   },
   "outputs": [],
   "source": [
    "def movie_recommender(movie_title, movies=movies_list, doc_sims=doc_sim_df):\n",
    "    # find movie id\n",
    "    movie_idx = np.where(movies == movie_title)[0][0]\n",
    "    # get movie similarities\n",
    "    movie_similarities = doc_sims.iloc[movie_idx].values\n",
    "    # get top 5 similar movie IDs\n",
    "    similar_movie_idxs = np.argsort(-movie_similarities)[1:6]\n",
    "    # get top 5 movies\n",
    "    similar_movies = movies[similar_movie_idxs]\n",
    "    # return the top 5 movies\n",
    "    return similar_movies"
   ]
  },
  {
   "cell_type": "markdown",
   "metadata": {
    "id": "woWv4gI9G_j8"
   },
   "source": [
    "# misal cari rekomendasi untuk film film berikut"
   ]
  },
  {
   "cell_type": "code",
   "execution_count": 36,
   "metadata": {
    "id": "5tyK3sc9V1sW"
   },
   "outputs": [],
   "source": [
    "popular_movies = ['Barbie','Frozen II', \"Minions\",\"Pirates of the Caribbean: The Curse of the Black Pearl\",\"Fast & Furious 6\"]"
   ]
  },
  {
   "cell_type": "code",
   "execution_count": 37,
   "metadata": {
    "colab": {
     "base_uri": "https://localhost:8080/"
    },
    "executionInfo": {
     "elapsed": 4,
     "status": "ok",
     "timestamp": 1668751524302,
     "user": {
      "displayName": "farrikh alzami",
      "userId": "11964535993149439504"
     },
     "user_tz": -420
    },
    "id": "G0UfKTONV22K",
    "outputId": "3c1328de-615a-49a3-9b54-51c764ab1644"
   },
   "outputs": [
    {
     "name": "stdout",
     "output_type": "stream",
     "text": [
      "Movie: Barbie\n",
      "Top 5 recommended Movies: ['Batman v Superman: Dawn of Justice' 'Black Adam' 'The Incredibles'\n",
      " 'Spirited Away' 'Arrival']\n",
      "\n",
      "Movie: Frozen II\n",
      "Top 5 recommended Movies: ['Journey to the Center of the Earth' 'Ghostbusters: Afterlife'\n",
      " 'White House Down' 'The Super Mario Bros. Movie'\n",
      " 'A Series of Unfortunate Events']\n",
      "\n",
      "Movie: Minions\n",
      "Top 5 recommended Movies: ['Divergent' 'Arrival' 'London Has Fallen' 'Resident Evil: Afterlife'\n",
      " 'The Terminal']\n",
      "\n",
      "Movie: Pirates of the Caribbean: The Curse of the Black Pearl\n",
      "Top 5 recommended Movies: ['Pirates of the Caribbean: Dead Men Tell No Tales'\n",
      " 'Pirates of the Caribbean: On Stranger Tides'\n",
      " \"Pirates of the Caribbean: At World's End\" 'White House Down' 'Taken']\n",
      "\n",
      "Movie: Fast & Furious 6\n",
      "Top 5 recommended Movies: ['Fast & Furious' 'X-Men Origins: Wolverine'\n",
      " 'Mission: Impossible - Rogue Nation' 'RED' 'Deadpool 2']\n",
      "\n"
     ]
    }
   ],
   "source": [
    "for movie in popular_movies:\n",
    "    print('Movie:', movie)\n",
    "    print('Top 5 recommended Movies:', movie_recommender(movie_title=movie, movies=movies_list, doc_sims=doc_sim_df))\n",
    "    print()"
   ]
  },
  {
   "cell_type": "markdown",
   "metadata": {
    "id": "hmdn6yPYHMCo"
   },
   "source": [
    "# Rekomendasi Film (other method)"
   ]
  },
  {
   "cell_type": "code",
   "execution_count": 38,
   "metadata": {
    "id": "V5_7kZA6V33t"
   },
   "outputs": [],
   "source": [
    "# Gensim FastText\n",
    "from gensim.models import FastText\n",
    "\n",
    "tokenized_docs = [doc.split() for doc in norm_corpus]\n",
    "ft_model = FastText(tokenized_docs, window=30, min_count=2, workers=4, sg=1)"
   ]
  },
  {
   "cell_type": "markdown",
   "metadata": {
    "id": "wwV4oV_cHfM2"
   },
   "source": [
    "# Hasilkan penyematan tingkat dokumen / Word Embedding\n",
    "\n",
    "Model penyematan kata (word embedding) memberi kita penyematan untuk setiap kata, bagaimana kita dapat menggunakannya untuk tugas ML\\DL hilirisasi? salah satu caranya adalah dengan meratakannya atau menggunakan model sekuensial. Pendekatan yang lebih sederhana adalah dengan rata-rata semua penyematan kata untuk kata-kata dalam dokumen dan menghasilkan penyematan tingkat dokumen dengan panjang tetap (fixed-length document level emebdding)"
   ]
  },
  {
   "cell_type": "code",
   "execution_count": 39,
   "metadata": {
    "id": "BhPCV1CtV9G5"
   },
   "outputs": [],
   "source": [
    "def averaged_word2vec_vectorizer(corpus, model, num_features):\n",
    "    vocabulary = set(model.wv.index_to_key)\n",
    "    \n",
    "    def average_word_vectors(words, model, vocabulary, num_features):\n",
    "        feature_vector = np.zeros((num_features,), dtype=\"float64\")\n",
    "        nwords = 0.\n",
    "        \n",
    "        for word in words:\n",
    "            if word in vocabulary: \n",
    "                nwords = nwords + 1.\n",
    "                feature_vector = np.add(feature_vector, model.wv[word])\n",
    "        if nwords:\n",
    "            feature_vector = np.divide(feature_vector, nwords)\n",
    "\n",
    "        return feature_vector\n",
    "\n",
    "    features = [average_word_vectors(tokenized_sentence, model, vocabulary, num_features)\n",
    "                    for tokenized_sentence in corpus]\n",
    "    return np.array(features)"
   ]
  },
  {
   "cell_type": "code",
   "execution_count": 40,
   "metadata": {
    "colab": {
     "base_uri": "https://localhost:8080/"
    },
    "executionInfo": {
     "elapsed": 782,
     "status": "ok",
     "timestamp": 1668752106985,
     "user": {
      "displayName": "farrikh alzami",
      "userId": "11964535993149439504"
     },
     "user_tz": -420
    },
    "id": "nFqOWpbdV-Ba",
    "outputId": "6f0da3ed-6d5f-4d18-9642-bd45215fa812"
   },
   "outputs": [
    {
     "data": {
      "text/plain": [
       "(942, 100)"
      ]
     },
     "execution_count": 40,
     "metadata": {},
     "output_type": "execute_result"
    }
   ],
   "source": [
    "doc_vecs_ft = averaged_word2vec_vectorizer(tokenized_docs, ft_model, 100)\n",
    "doc_vecs_ft.shape"
   ]
  },
  {
   "cell_type": "markdown",
   "metadata": {
    "id": "vnJmgr6WHwH4"
   },
   "source": [
    "# Dapatkan Rekomendasi Film\n",
    "\n",
    "Memanfaatkan Cos Similarity untuk menghasilkan rekomendasi"
   ]
  },
  {
   "cell_type": "code",
   "execution_count": 41,
   "metadata": {
    "colab": {
     "base_uri": "https://localhost:8080/",
     "height": 299
    },
    "executionInfo": {
     "elapsed": 1184,
     "status": "ok",
     "timestamp": 1668752108166,
     "user": {
      "displayName": "farrikh alzami",
      "userId": "11964535993149439504"
     },
     "user_tz": -420
    },
    "id": "FFGFgWX3V_HT",
    "outputId": "cf488ad3-b6e3-4f4e-f5de-4c34819f46da"
   },
   "outputs": [
    {
     "data": {
      "text/html": [
       "<div>\n",
       "<style scoped>\n",
       "    .dataframe tbody tr th:only-of-type {\n",
       "        vertical-align: middle;\n",
       "    }\n",
       "\n",
       "    .dataframe tbody tr th {\n",
       "        vertical-align: top;\n",
       "    }\n",
       "\n",
       "    .dataframe thead th {\n",
       "        text-align: right;\n",
       "    }\n",
       "</style>\n",
       "<table border=\"1\" class=\"dataframe\">\n",
       "  <thead>\n",
       "    <tr style=\"text-align: right;\">\n",
       "      <th></th>\n",
       "      <th>0</th>\n",
       "      <th>1</th>\n",
       "      <th>2</th>\n",
       "      <th>3</th>\n",
       "      <th>4</th>\n",
       "      <th>5</th>\n",
       "      <th>6</th>\n",
       "      <th>7</th>\n",
       "      <th>8</th>\n",
       "      <th>9</th>\n",
       "      <th>...</th>\n",
       "      <th>932</th>\n",
       "      <th>933</th>\n",
       "      <th>934</th>\n",
       "      <th>935</th>\n",
       "      <th>936</th>\n",
       "      <th>937</th>\n",
       "      <th>938</th>\n",
       "      <th>939</th>\n",
       "      <th>940</th>\n",
       "      <th>941</th>\n",
       "    </tr>\n",
       "  </thead>\n",
       "  <tbody>\n",
       "    <tr>\n",
       "      <th>0</th>\n",
       "      <td>1.000000</td>\n",
       "      <td>0.999994</td>\n",
       "      <td>0.999994</td>\n",
       "      <td>0.999986</td>\n",
       "      <td>0.999990</td>\n",
       "      <td>0.999995</td>\n",
       "      <td>0.999992</td>\n",
       "      <td>0.999990</td>\n",
       "      <td>0.999991</td>\n",
       "      <td>0.999991</td>\n",
       "      <td>...</td>\n",
       "      <td>0.999992</td>\n",
       "      <td>0.999990</td>\n",
       "      <td>0.999987</td>\n",
       "      <td>0.999985</td>\n",
       "      <td>0.999991</td>\n",
       "      <td>0.999982</td>\n",
       "      <td>0.999991</td>\n",
       "      <td>0.999991</td>\n",
       "      <td>0.999992</td>\n",
       "      <td>0.999984</td>\n",
       "    </tr>\n",
       "    <tr>\n",
       "      <th>1</th>\n",
       "      <td>0.999994</td>\n",
       "      <td>1.000000</td>\n",
       "      <td>0.999990</td>\n",
       "      <td>0.999986</td>\n",
       "      <td>0.999988</td>\n",
       "      <td>0.999995</td>\n",
       "      <td>0.999993</td>\n",
       "      <td>0.999987</td>\n",
       "      <td>0.999991</td>\n",
       "      <td>0.999988</td>\n",
       "      <td>...</td>\n",
       "      <td>0.999990</td>\n",
       "      <td>0.999988</td>\n",
       "      <td>0.999988</td>\n",
       "      <td>0.999983</td>\n",
       "      <td>0.999991</td>\n",
       "      <td>0.999981</td>\n",
       "      <td>0.999991</td>\n",
       "      <td>0.999992</td>\n",
       "      <td>0.999989</td>\n",
       "      <td>0.999980</td>\n",
       "    </tr>\n",
       "    <tr>\n",
       "      <th>2</th>\n",
       "      <td>0.999994</td>\n",
       "      <td>0.999990</td>\n",
       "      <td>1.000000</td>\n",
       "      <td>0.999987</td>\n",
       "      <td>0.999994</td>\n",
       "      <td>0.999995</td>\n",
       "      <td>0.999991</td>\n",
       "      <td>0.999990</td>\n",
       "      <td>0.999988</td>\n",
       "      <td>0.999990</td>\n",
       "      <td>...</td>\n",
       "      <td>0.999991</td>\n",
       "      <td>0.999988</td>\n",
       "      <td>0.999986</td>\n",
       "      <td>0.999987</td>\n",
       "      <td>0.999991</td>\n",
       "      <td>0.999986</td>\n",
       "      <td>0.999990</td>\n",
       "      <td>0.999990</td>\n",
       "      <td>0.999991</td>\n",
       "      <td>0.999985</td>\n",
       "    </tr>\n",
       "    <tr>\n",
       "      <th>3</th>\n",
       "      <td>0.999986</td>\n",
       "      <td>0.999986</td>\n",
       "      <td>0.999987</td>\n",
       "      <td>1.000000</td>\n",
       "      <td>0.999983</td>\n",
       "      <td>0.999988</td>\n",
       "      <td>0.999989</td>\n",
       "      <td>0.999984</td>\n",
       "      <td>0.999990</td>\n",
       "      <td>0.999979</td>\n",
       "      <td>...</td>\n",
       "      <td>0.999987</td>\n",
       "      <td>0.999988</td>\n",
       "      <td>0.999982</td>\n",
       "      <td>0.999982</td>\n",
       "      <td>0.999985</td>\n",
       "      <td>0.999984</td>\n",
       "      <td>0.999983</td>\n",
       "      <td>0.999985</td>\n",
       "      <td>0.999988</td>\n",
       "      <td>0.999983</td>\n",
       "    </tr>\n",
       "    <tr>\n",
       "      <th>4</th>\n",
       "      <td>0.999990</td>\n",
       "      <td>0.999988</td>\n",
       "      <td>0.999994</td>\n",
       "      <td>0.999983</td>\n",
       "      <td>1.000000</td>\n",
       "      <td>0.999993</td>\n",
       "      <td>0.999989</td>\n",
       "      <td>0.999990</td>\n",
       "      <td>0.999987</td>\n",
       "      <td>0.999989</td>\n",
       "      <td>...</td>\n",
       "      <td>0.999990</td>\n",
       "      <td>0.999986</td>\n",
       "      <td>0.999982</td>\n",
       "      <td>0.999984</td>\n",
       "      <td>0.999991</td>\n",
       "      <td>0.999988</td>\n",
       "      <td>0.999988</td>\n",
       "      <td>0.999988</td>\n",
       "      <td>0.999991</td>\n",
       "      <td>0.999978</td>\n",
       "    </tr>\n",
       "  </tbody>\n",
       "</table>\n",
       "<p>5 rows × 942 columns</p>\n",
       "</div>"
      ],
      "text/plain": [
       "        0         1         2         3         4         5         6    \\\n",
       "0  1.000000  0.999994  0.999994  0.999986  0.999990  0.999995  0.999992   \n",
       "1  0.999994  1.000000  0.999990  0.999986  0.999988  0.999995  0.999993   \n",
       "2  0.999994  0.999990  1.000000  0.999987  0.999994  0.999995  0.999991   \n",
       "3  0.999986  0.999986  0.999987  1.000000  0.999983  0.999988  0.999989   \n",
       "4  0.999990  0.999988  0.999994  0.999983  1.000000  0.999993  0.999989   \n",
       "\n",
       "        7         8         9    ...       932       933       934       935  \\\n",
       "0  0.999990  0.999991  0.999991  ...  0.999992  0.999990  0.999987  0.999985   \n",
       "1  0.999987  0.999991  0.999988  ...  0.999990  0.999988  0.999988  0.999983   \n",
       "2  0.999990  0.999988  0.999990  ...  0.999991  0.999988  0.999986  0.999987   \n",
       "3  0.999984  0.999990  0.999979  ...  0.999987  0.999988  0.999982  0.999982   \n",
       "4  0.999990  0.999987  0.999989  ...  0.999990  0.999986  0.999982  0.999984   \n",
       "\n",
       "        936       937       938       939       940       941  \n",
       "0  0.999991  0.999982  0.999991  0.999991  0.999992  0.999984  \n",
       "1  0.999991  0.999981  0.999991  0.999992  0.999989  0.999980  \n",
       "2  0.999991  0.999986  0.999990  0.999990  0.999991  0.999985  \n",
       "3  0.999985  0.999984  0.999983  0.999985  0.999988  0.999983  \n",
       "4  0.999991  0.999988  0.999988  0.999988  0.999991  0.999978  \n",
       "\n",
       "[5 rows x 942 columns]"
      ]
     },
     "execution_count": 41,
     "metadata": {},
     "output_type": "execute_result"
    }
   ],
   "source": [
    "doc_sim = cosine_similarity(doc_vecs_ft)\n",
    "doc_sim_df = pd.DataFrame(doc_sim)\n",
    "doc_sim_df.head()"
   ]
  },
  {
   "cell_type": "code",
   "execution_count": 42,
   "metadata": {
    "colab": {
     "base_uri": "https://localhost:8080/"
    },
    "executionInfo": {
     "elapsed": 10,
     "status": "ok",
     "timestamp": 1668752108167,
     "user": {
      "displayName": "farrikh alzami",
      "userId": "11964535993149439504"
     },
     "user_tz": -420
    },
    "id": "DgoeV1VQWAAx",
    "outputId": "165e8af8-da05-410f-ce83-1c67477ea922"
   },
   "outputs": [
    {
     "name": "stdout",
     "output_type": "stream",
     "text": [
      "Movie: Barbie\n",
      "Top 5 recommended Movies: ['Batman v Superman: Dawn of Justice' 'Black Adam' 'The Incredibles'\n",
      " 'Arrival' 'Spirited Away']\n",
      "\n",
      "Movie: Frozen II\n",
      "Top 5 recommended Movies: ['Journey to the Center of the Earth' 'Ghostbusters: Afterlife'\n",
      " 'White House Down' 'The Super Mario Bros. Movie'\n",
      " 'Transformers: Revenge of the Fallen']\n",
      "\n",
      "Movie: Minions\n",
      "Top 5 recommended Movies: ['Divergent' 'Arrival' 'London Has Fallen' 'Resident Evil: Afterlife'\n",
      " 'The Terminal']\n",
      "\n",
      "Movie: Pirates of the Caribbean: The Curse of the Black Pearl\n",
      "Top 5 recommended Movies: ['Pirates of the Caribbean: Dead Men Tell No Tales'\n",
      " 'Pirates of the Caribbean: On Stranger Tides'\n",
      " \"Pirates of the Caribbean: At World's End\" 'White House Down'\n",
      " 'Disclosure']\n",
      "\n",
      "Movie: Fast & Furious 6\n",
      "Top 5 recommended Movies: ['Fast & Furious' 'X-Men Origins: Wolverine'\n",
      " 'Mission: Impossible - Rogue Nation' 'RED' 'Deadpool 2']\n",
      "\n"
     ]
    }
   ],
   "source": [
    "for movie in popular_movies:\n",
    "    print('Movie:', movie)\n",
    "    print('Top 5 recommended Movies:', movie_recommender(movie_title=movie, movies=movies_list, doc_sims=doc_sim_df))\n",
    "    print()"
   ]
  },
  {
   "cell_type": "code",
   "execution_count": null,
   "metadata": {},
   "outputs": [],
   "source": []
  }
 ],
 "metadata": {
  "colab": {
   "authorship_tag": "ABX9TyNKsyeNETQ3CwZB7j+nhbFn",
   "provenance": []
  },
  "kernelspec": {
   "display_name": "Python 3 (ipykernel)",
   "language": "python",
   "name": "python3"
  },
  "language_info": {
   "codemirror_mode": {
    "name": "ipython",
    "version": 3
   },
   "file_extension": ".py",
   "mimetype": "text/x-python",
   "name": "python",
   "nbconvert_exporter": "python",
   "pygments_lexer": "ipython3",
   "version": "3.9.12"
  },
  "toc": {
   "base_numbering": 1,
   "nav_menu": {},
   "number_sections": true,
   "sideBar": true,
   "skip_h1_title": false,
   "title_cell": "Table of Contents",
   "title_sidebar": "Contents",
   "toc_cell": false,
   "toc_position": {},
   "toc_section_display": true,
   "toc_window_display": false
  },
  "varInspector": {
   "cols": {
    "lenName": 16,
    "lenType": 16,
    "lenVar": 40
   },
   "kernels_config": {
    "python": {
     "delete_cmd_postfix": "",
     "delete_cmd_prefix": "del ",
     "library": "var_list.py",
     "varRefreshCmd": "print(var_dic_list())"
    },
    "r": {
     "delete_cmd_postfix": ") ",
     "delete_cmd_prefix": "rm(",
     "library": "var_list.r",
     "varRefreshCmd": "cat(var_dic_list()) "
    }
   },
   "types_to_exclude": [
    "module",
    "function",
    "builtin_function_or_method",
    "instance",
    "_Feature"
   ],
   "window_display": false
  }
 },
 "nbformat": 4,
 "nbformat_minor": 1
}
