{
 "cells": [
  {
   "cell_type": "code",
   "execution_count": 1,
   "id": "a577b124",
   "metadata": {
    "execution": {
     "iopub.execute_input": "2022-09-27T15:34:23.911164Z",
     "iopub.status.busy": "2022-09-27T15:34:23.910657Z",
     "iopub.status.idle": "2022-09-27T15:34:24.894441Z",
     "shell.execute_reply": "2022-09-27T15:34:24.893442Z"
    },
    "papermill": {
     "duration": 0.994643,
     "end_time": "2022-09-27T15:34:24.896916",
     "exception": false,
     "start_time": "2022-09-27T15:34:23.902273",
     "status": "completed"
    },
    "tags": []
   },
   "outputs": [],
   "source": [
    "import pandas as pd\n",
    "import numpy as np\n",
    "import warnings\n",
    "from sklearn.feature_extraction.text import TfidfVectorizer\n",
    "from sklearn.metrics.pairwise import cosine_similarity\n",
    "import re\n",
    "\n",
    "warnings.filterwarnings(\"ignore\")"
   ]
  },
  {
   "cell_type": "code",
   "execution_count": 2,
   "id": "15cae333",
   "metadata": {
    "execution": {
     "iopub.execute_input": "2022-09-27T15:34:24.933593Z",
     "iopub.status.busy": "2022-09-27T15:34:24.932983Z",
     "iopub.status.idle": "2022-09-27T15:34:25.016181Z",
     "shell.execute_reply": "2022-09-27T15:34:25.015313Z"
    },
    "papermill": {
     "duration": 0.093411,
     "end_time": "2022-09-27T15:34:25.018473",
     "exception": false,
     "start_time": "2022-09-27T15:34:24.925062",
     "status": "completed"
    },
    "tags": []
   },
   "outputs": [
    {
     "data": {
      "text/html": [
       "<div>\n",
       "<style scoped>\n",
       "    .dataframe tbody tr th:only-of-type {\n",
       "        vertical-align: middle;\n",
       "    }\n",
       "\n",
       "    .dataframe tbody tr th {\n",
       "        vertical-align: top;\n",
       "    }\n",
       "\n",
       "    .dataframe thead th {\n",
       "        text-align: right;\n",
       "    }\n",
       "</style>\n",
       "<table border=\"1\" class=\"dataframe\">\n",
       "  <thead>\n",
       "    <tr style=\"text-align: right;\">\n",
       "      <th></th>\n",
       "      <th>bookID</th>\n",
       "      <th>title</th>\n",
       "      <th>authors</th>\n",
       "      <th>average_rating</th>\n",
       "      <th>isbn</th>\n",
       "      <th>isbn13</th>\n",
       "      <th>language_code</th>\n",
       "      <th>num_pages</th>\n",
       "      <th>ratings_count</th>\n",
       "      <th>text_reviews_count</th>\n",
       "      <th>publication_date</th>\n",
       "      <th>publisher</th>\n",
       "      <th>Unnamed: 12</th>\n",
       "    </tr>\n",
       "  </thead>\n",
       "  <tbody>\n",
       "    <tr>\n",
       "      <th>0</th>\n",
       "      <td>1</td>\n",
       "      <td>Harry Potter and the Half-Blood Prince (Harry ...</td>\n",
       "      <td>J.K. Rowling/Mary GrandPrÃ©</td>\n",
       "      <td>4.57</td>\n",
       "      <td>439785960</td>\n",
       "      <td>9.78044E+12</td>\n",
       "      <td>eng</td>\n",
       "      <td>652</td>\n",
       "      <td>2095690</td>\n",
       "      <td>27591</td>\n",
       "      <td>9/16/2006</td>\n",
       "      <td>Scholastic Inc.</td>\n",
       "      <td>NaN</td>\n",
       "    </tr>\n",
       "    <tr>\n",
       "      <th>1</th>\n",
       "      <td>2</td>\n",
       "      <td>Harry Potter and the Order of the Phoenix (Har...</td>\n",
       "      <td>J.K. Rowling/Mary GrandPrÃ©</td>\n",
       "      <td>4.49</td>\n",
       "      <td>439358078</td>\n",
       "      <td>9.78044E+12</td>\n",
       "      <td>eng</td>\n",
       "      <td>870</td>\n",
       "      <td>2153167</td>\n",
       "      <td>29221</td>\n",
       "      <td>9/1/2004</td>\n",
       "      <td>Scholastic Inc.</td>\n",
       "      <td>NaN</td>\n",
       "    </tr>\n",
       "    <tr>\n",
       "      <th>2</th>\n",
       "      <td>4</td>\n",
       "      <td>Harry Potter and the Chamber of Secrets (Harry...</td>\n",
       "      <td>J.K. Rowling</td>\n",
       "      <td>4.42</td>\n",
       "      <td>439554896</td>\n",
       "      <td>9.78044E+12</td>\n",
       "      <td>eng</td>\n",
       "      <td>352</td>\n",
       "      <td>6333</td>\n",
       "      <td>244</td>\n",
       "      <td>11/1/2003</td>\n",
       "      <td>Scholastic</td>\n",
       "      <td>NaN</td>\n",
       "    </tr>\n",
       "    <tr>\n",
       "      <th>3</th>\n",
       "      <td>5</td>\n",
       "      <td>Harry Potter and the Prisoner of Azkaban (Harr...</td>\n",
       "      <td>J.K. Rowling/Mary GrandPrÃ©</td>\n",
       "      <td>4.56</td>\n",
       "      <td>043965548X</td>\n",
       "      <td>9.78044E+12</td>\n",
       "      <td>eng</td>\n",
       "      <td>435</td>\n",
       "      <td>2339585</td>\n",
       "      <td>36325</td>\n",
       "      <td>5/1/2004</td>\n",
       "      <td>Scholastic Inc.</td>\n",
       "      <td>NaN</td>\n",
       "    </tr>\n",
       "    <tr>\n",
       "      <th>4</th>\n",
       "      <td>8</td>\n",
       "      <td>Harry Potter Boxed Set  Books 1-5 (Harry Potte...</td>\n",
       "      <td>J.K. Rowling/Mary GrandPrÃ©</td>\n",
       "      <td>4.78</td>\n",
       "      <td>439682584</td>\n",
       "      <td>9.78044E+12</td>\n",
       "      <td>eng</td>\n",
       "      <td>2690</td>\n",
       "      <td>41428</td>\n",
       "      <td>164</td>\n",
       "      <td>9/13/2004</td>\n",
       "      <td>Scholastic</td>\n",
       "      <td>NaN</td>\n",
       "    </tr>\n",
       "  </tbody>\n",
       "</table>\n",
       "</div>"
      ],
      "text/plain": [
       "   bookID                                              title  \\\n",
       "0       1  Harry Potter and the Half-Blood Prince (Harry ...   \n",
       "1       2  Harry Potter and the Order of the Phoenix (Har...   \n",
       "2       4  Harry Potter and the Chamber of Secrets (Harry...   \n",
       "3       5  Harry Potter and the Prisoner of Azkaban (Harr...   \n",
       "4       8  Harry Potter Boxed Set  Books 1-5 (Harry Potte...   \n",
       "\n",
       "                       authors average_rating        isbn       isbn13  \\\n",
       "0  J.K. Rowling/Mary GrandPrÃ©           4.57   439785960  9.78044E+12   \n",
       "1  J.K. Rowling/Mary GrandPrÃ©           4.49   439358078  9.78044E+12   \n",
       "2                 J.K. Rowling           4.42   439554896  9.78044E+12   \n",
       "3  J.K. Rowling/Mary GrandPrÃ©           4.56  043965548X  9.78044E+12   \n",
       "4  J.K. Rowling/Mary GrandPrÃ©           4.78   439682584  9.78044E+12   \n",
       "\n",
       "  language_code   num_pages  ratings_count  text_reviews_count  \\\n",
       "0           eng         652        2095690               27591   \n",
       "1           eng         870        2153167               29221   \n",
       "2           eng         352           6333                 244   \n",
       "3           eng         435        2339585               36325   \n",
       "4           eng        2690          41428                 164   \n",
       "\n",
       "  publication_date        publisher Unnamed: 12  \n",
       "0        9/16/2006  Scholastic Inc.         NaN  \n",
       "1         9/1/2004  Scholastic Inc.         NaN  \n",
       "2        11/1/2003       Scholastic         NaN  \n",
       "3         5/1/2004  Scholastic Inc.         NaN  \n",
       "4        9/13/2004       Scholastic         NaN  "
      ]
     },
     "execution_count": 2,
     "metadata": {},
     "output_type": "execute_result"
    }
   ],
   "source": [
    "books  = pd.read_csv(\"books.csv\")\n",
    "books.head()"
   ]
  },
  {
   "cell_type": "code",
   "execution_count": 3,
   "id": "53a3bf75",
   "metadata": {
    "execution": {
     "iopub.execute_input": "2022-09-27T15:34:25.035228Z",
     "iopub.status.busy": "2022-09-27T15:34:25.034883Z",
     "iopub.status.idle": "2022-09-27T15:34:25.040324Z",
     "shell.execute_reply": "2022-09-27T15:34:25.039221Z"
    },
    "papermill": {
     "duration": 0.01564,
     "end_time": "2022-09-27T15:34:25.042291",
     "exception": false,
     "start_time": "2022-09-27T15:34:25.026651",
     "status": "completed"
    },
    "tags": []
   },
   "outputs": [
    {
     "name": "stdout",
     "output_type": "stream",
     "text": [
      "dataset shape: (11127, 13)\n"
     ]
    }
   ],
   "source": [
    "print('dataset shape:', books.shape)"
   ]
  },
  {
   "cell_type": "code",
   "execution_count": 4,
   "id": "4dbe3cd5",
   "metadata": {
    "execution": {
     "iopub.execute_input": "2022-09-27T15:34:25.058490Z",
     "iopub.status.busy": "2022-09-27T15:34:25.057463Z",
     "iopub.status.idle": "2022-09-27T15:34:25.064712Z",
     "shell.execute_reply": "2022-09-27T15:34:25.063929Z"
    },
    "papermill": {
     "duration": 0.01739,
     "end_time": "2022-09-27T15:34:25.066655",
     "exception": false,
     "start_time": "2022-09-27T15:34:25.049265",
     "status": "completed"
    },
    "tags": []
   },
   "outputs": [
    {
     "data": {
      "text/plain": [
       "Index(['bookID', 'title', 'authors', 'average_rating', 'isbn', 'isbn13',\n",
       "       'language_code', '  num_pages', 'ratings_count', 'text_reviews_count',\n",
       "       'publication_date', 'publisher', 'Unnamed: 12'],\n",
       "      dtype='object')"
      ]
     },
     "execution_count": 4,
     "metadata": {},
     "output_type": "execute_result"
    }
   ],
   "source": [
    "books.keys()"
   ]
  },
  {
   "cell_type": "code",
   "execution_count": 5,
   "id": "ea5e627c",
   "metadata": {
    "execution": {
     "iopub.execute_input": "2022-09-27T15:34:25.098211Z",
     "iopub.status.busy": "2022-09-27T15:34:25.097116Z",
     "iopub.status.idle": "2022-09-27T15:34:25.123137Z",
     "shell.execute_reply": "2022-09-27T15:34:25.122046Z"
    },
    "papermill": {
     "duration": 0.036403,
     "end_time": "2022-09-27T15:34:25.124946",
     "exception": false,
     "start_time": "2022-09-27T15:34:25.088543",
     "status": "completed"
    },
    "tags": []
   },
   "outputs": [
    {
     "name": "stdout",
     "output_type": "stream",
     "text": [
      "<class 'pandas.core.frame.DataFrame'>\n",
      "RangeIndex: 11127 entries, 0 to 11126\n",
      "Data columns (total 13 columns):\n",
      " #   Column              Non-Null Count  Dtype \n",
      "---  ------              --------------  ----- \n",
      " 0   bookID              11127 non-null  int64 \n",
      " 1   title               11127 non-null  object\n",
      " 2   authors             11127 non-null  object\n",
      " 3   average_rating      11127 non-null  object\n",
      " 4   isbn                11127 non-null  object\n",
      " 5   isbn13              11127 non-null  object\n",
      " 6   language_code       11127 non-null  object\n",
      " 7     num_pages         11127 non-null  object\n",
      " 8   ratings_count       11127 non-null  int64 \n",
      " 9   text_reviews_count  11127 non-null  int64 \n",
      " 10  publication_date    11127 non-null  object\n",
      " 11  publisher           11127 non-null  object\n",
      " 12  Unnamed: 12         4 non-null      object\n",
      "dtypes: int64(3), object(10)\n",
      "memory usage: 1.1+ MB\n"
     ]
    }
   ],
   "source": [
    "books.info()"
   ]
  },
  {
   "cell_type": "code",
   "execution_count": 6,
   "id": "b5f6fd28",
   "metadata": {
    "execution": {
     "iopub.execute_input": "2022-09-27T15:34:25.169362Z",
     "iopub.status.busy": "2022-09-27T15:34:25.167994Z",
     "iopub.status.idle": "2022-09-27T15:34:25.278129Z",
     "shell.execute_reply": "2022-09-27T15:34:25.276810Z"
    },
    "papermill": {
     "duration": 0.121007,
     "end_time": "2022-09-27T15:34:25.280628",
     "exception": false,
     "start_time": "2022-09-27T15:34:25.159621",
     "status": "completed"
    },
    "tags": []
   },
   "outputs": [],
   "source": [
    "vectorizer = TfidfVectorizer()\n",
    "X_new = vectorizer.fit_transform([x.lower() for x in books['title']])"
   ]
  },
  {
   "cell_type": "code",
   "execution_count": 7,
   "id": "0bda604a",
   "metadata": {
    "execution": {
     "iopub.execute_input": "2022-09-27T15:34:25.310625Z",
     "iopub.status.busy": "2022-09-27T15:34:25.309727Z",
     "iopub.status.idle": "2022-09-27T15:34:25.318008Z",
     "shell.execute_reply": "2022-09-27T15:34:25.317076Z"
    },
    "papermill": {
     "duration": 0.01845,
     "end_time": "2022-09-27T15:34:25.320057",
     "exception": false,
     "start_time": "2022-09-27T15:34:25.301607",
     "status": "completed"
    },
    "tags": []
   },
   "outputs": [],
   "source": [
    "query = 'blood'\n",
    "query_vec = vectorizer.transform([query])\n",
    "similarity = cosine_similarity(query_vec, X_new).flatten()"
   ]
  },
  {
   "cell_type": "code",
   "execution_count": 8,
   "id": "26e737da",
   "metadata": {
    "execution": {
     "iopub.execute_input": "2022-09-27T15:34:25.335940Z",
     "iopub.status.busy": "2022-09-27T15:34:25.335586Z",
     "iopub.status.idle": "2022-09-27T15:34:25.346698Z",
     "shell.execute_reply": "2022-09-27T15:34:25.346020Z"
    },
    "papermill": {
     "duration": 0.021263,
     "end_time": "2022-09-27T15:34:25.348547",
     "exception": false,
     "start_time": "2022-09-27T15:34:25.327284",
     "status": "completed"
    },
    "tags": []
   },
   "outputs": [
    {
     "data": {
      "text/plain": [
       "2698      In Cold Blood\n",
       "3417      In Cold Blood\n",
       "708       In Cold Blood\n",
       "1144     Innocent Blood\n",
       "8507    Blood and Smoke\n",
       "Name: title, dtype: object"
      ]
     },
     "execution_count": 8,
     "metadata": {},
     "output_type": "execute_result"
    }
   ],
   "source": [
    "test = np.argsort(-similarity) # sorting descending and get the index\n",
    "result = books.iloc[test]\n",
    "result['title'].head()"
   ]
  },
  {
   "cell_type": "code",
   "execution_count": 9,
   "id": "78c62a27",
   "metadata": {
    "execution": {
     "iopub.execute_input": "2022-09-27T15:34:25.379833Z",
     "iopub.status.busy": "2022-09-27T15:34:25.379198Z",
     "iopub.status.idle": "2022-09-27T15:34:25.384334Z",
     "shell.execute_reply": "2022-09-27T15:34:25.383750Z"
    },
    "papermill": {
     "duration": 0.015275,
     "end_time": "2022-09-27T15:34:25.385861",
     "exception": false,
     "start_time": "2022-09-27T15:34:25.370586",
     "status": "completed"
    },
    "tags": []
   },
   "outputs": [
    {
     "data": {
      "text/plain": [
       "11127"
      ]
     },
     "execution_count": 9,
     "metadata": {},
     "output_type": "execute_result"
    }
   ],
   "source": [
    "len(result)"
   ]
  },
  {
   "cell_type": "code",
   "execution_count": 10,
   "id": "2e00487d",
   "metadata": {
    "execution": {
     "iopub.execute_input": "2022-09-27T15:34:25.460722Z",
     "iopub.status.busy": "2022-09-27T15:34:25.460379Z",
     "iopub.status.idle": "2022-09-27T15:34:25.468276Z",
     "shell.execute_reply": "2022-09-27T15:34:25.467592Z"
    },
    "papermill": {
     "duration": 0.018288,
     "end_time": "2022-09-27T15:34:25.469957",
     "exception": false,
     "start_time": "2022-09-27T15:34:25.451669",
     "status": "completed"
    },
    "tags": []
   },
   "outputs": [
    {
     "data": {
      "text/plain": [
       "708       In Cold Blood\n",
       "2698      In Cold Blood\n",
       "3417      In Cold Blood\n",
       "1144     Innocent Blood\n",
       "8507    Blood and Smoke\n",
       "Name: title, dtype: object"
      ]
     },
     "execution_count": 10,
     "metadata": {},
     "output_type": "execute_result"
    }
   ],
   "source": [
    "match_idx = np.where(similarity != 0)[0]\n",
    "indices = np.argsort(-similarity[match_idx])\n",
    "correct_indices = match_idx[indices]\n",
    "result = books.iloc[correct_indices]\n",
    "\n",
    "result['title'].head()"
   ]
  },
  {
   "cell_type": "code",
   "execution_count": 11,
   "id": "0f64511b",
   "metadata": {
    "execution": {
     "iopub.execute_input": "2022-09-27T15:34:25.486492Z",
     "iopub.status.busy": "2022-09-27T15:34:25.485941Z",
     "iopub.status.idle": "2022-09-27T15:34:25.491210Z",
     "shell.execute_reply": "2022-09-27T15:34:25.490578Z"
    },
    "papermill": {
     "duration": 0.01541,
     "end_time": "2022-09-27T15:34:25.492876",
     "exception": false,
     "start_time": "2022-09-27T15:34:25.477466",
     "status": "completed"
    },
    "tags": []
   },
   "outputs": [
    {
     "data": {
      "text/plain": [
       "40"
      ]
     },
     "execution_count": 11,
     "metadata": {},
     "output_type": "execute_result"
    }
   ],
   "source": [
    "len(result)"
   ]
  },
  {
   "cell_type": "code",
   "execution_count": 13,
   "id": "5b42e44a",
   "metadata": {},
   "outputs": [
    {
     "name": "stdout",
     "output_type": "stream",
     "text": [
      "Ada nilai non-numerik dalam kolom 'average_rating' atau 'ratings_count'\n"
     ]
    }
   ],
   "source": [
    "# Konversi kolom 'average_rating' dan 'ratings_count' menjadi tipe data numerik\n",
    "books['average_rating'] = pd.to_numeric(books['average_rating'], errors='coerce')\n",
    "books['ratings_count'] = pd.to_numeric(books['ratings_count'], errors='coerce')\n",
    "\n",
    "# Cek apakah terdapat nilai-nilai non-numerik (NaN) setelah konversi\n",
    "if books['average_rating'].isna().any() or books['ratings_count'].isna().any():\n",
    "    print(\"Ada nilai non-numerik dalam kolom 'average_rating' atau 'ratings_count'\")\n",
    "else:\n",
    "    # Hitung 'score' dengan np.log\n",
    "    books['score'] = np.log(books['average_rating'] * books['ratings_count'])\n"
   ]
  },
  {
   "cell_type": "code",
   "execution_count": 16,
   "id": "9fa78198",
   "metadata": {
    "execution": {
     "iopub.execute_input": "2022-09-27T15:34:25.539348Z",
     "iopub.status.busy": "2022-09-27T15:34:25.538725Z",
     "iopub.status.idle": "2022-09-27T15:34:25.545095Z",
     "shell.execute_reply": "2022-09-27T15:34:25.543919Z"
    },
    "papermill": {
     "duration": 0.017395,
     "end_time": "2022-09-27T15:34:25.547379",
     "exception": false,
     "start_time": "2022-09-27T15:34:25.529984",
     "status": "completed"
    },
    "tags": []
   },
   "outputs": [],
   "source": [
    "books['score'] = np.log(books['average_rating'] *  books['ratings_count'])"
   ]
  },
  {
   "cell_type": "code",
   "execution_count": 17,
   "id": "33beb026",
   "metadata": {
    "execution": {
     "iopub.execute_input": "2022-09-27T15:34:25.632487Z",
     "iopub.status.busy": "2022-09-27T15:34:25.631886Z",
     "iopub.status.idle": "2022-09-27T15:34:25.639606Z",
     "shell.execute_reply": "2022-09-27T15:34:25.638545Z"
    },
    "papermill": {
     "duration": 0.019569,
     "end_time": "2022-09-27T15:34:25.642163",
     "exception": false,
     "start_time": "2022-09-27T15:34:25.622594",
     "status": "completed"
    },
    "tags": []
   },
   "outputs": [],
   "source": [
    "def search_engine(word, limit=5):\n",
    "    word = re.sub('[^a-zA-Z0-9 ]','', word.lower()) # match everyting that's not alphabet and digit and remove it\n",
    "    query_vec = vectorizer.transform([word])\n",
    "    similarity = cosine_similarity(query_vec, X_new).flatten()\n",
    "    \n",
    "    filtered = np.where(similarity != 0)[0]\n",
    "    indices = np.argsort(-similarity[filtered])\n",
    "    correct_indices = filtered[indices]\n",
    "    result = books.iloc[correct_indices]\n",
    "    \n",
    "    if not len(result):\n",
    "        return 'result not found'\n",
    "    \n",
    "    overall =  result['score'] *  similarity[correct_indices] \n",
    "    \n",
    "    return result.loc[overall.sort_values(ascending=False).index].head(limit)"
   ]
  },
  {
   "cell_type": "code",
   "execution_count": 18,
   "id": "eff26cc0",
   "metadata": {
    "execution": {
     "iopub.execute_input": "2022-09-27T15:34:25.660885Z",
     "iopub.status.busy": "2022-09-27T15:34:25.659782Z",
     "iopub.status.idle": "2022-09-27T15:34:25.679529Z",
     "shell.execute_reply": "2022-09-27T15:34:25.678297Z"
    },
    "papermill": {
     "duration": 0.031462,
     "end_time": "2022-09-27T15:34:25.681592",
     "exception": false,
     "start_time": "2022-09-27T15:34:25.650130",
     "status": "completed"
    },
    "tags": []
   },
   "outputs": [
    {
     "data": {
      "text/html": [
       "<div>\n",
       "<style scoped>\n",
       "    .dataframe tbody tr th:only-of-type {\n",
       "        vertical-align: middle;\n",
       "    }\n",
       "\n",
       "    .dataframe tbody tr th {\n",
       "        vertical-align: top;\n",
       "    }\n",
       "\n",
       "    .dataframe thead th {\n",
       "        text-align: right;\n",
       "    }\n",
       "</style>\n",
       "<table border=\"1\" class=\"dataframe\">\n",
       "  <thead>\n",
       "    <tr style=\"text-align: right;\">\n",
       "      <th></th>\n",
       "      <th>bookID</th>\n",
       "      <th>title</th>\n",
       "      <th>authors</th>\n",
       "      <th>average_rating</th>\n",
       "      <th>isbn</th>\n",
       "      <th>isbn13</th>\n",
       "      <th>language_code</th>\n",
       "      <th>num_pages</th>\n",
       "      <th>ratings_count</th>\n",
       "      <th>text_reviews_count</th>\n",
       "      <th>publication_date</th>\n",
       "      <th>publisher</th>\n",
       "      <th>Unnamed: 12</th>\n",
       "      <th>score</th>\n",
       "    </tr>\n",
       "  </thead>\n",
       "  <tbody>\n",
       "    <tr>\n",
       "      <th>6169</th>\n",
       "      <td>23228</td>\n",
       "      <td>Boy Meets Boy</td>\n",
       "      <td>David Levithan</td>\n",
       "      <td>3.84</td>\n",
       "      <td>375832998</td>\n",
       "      <td>9.78038E+12</td>\n",
       "      <td>eng</td>\n",
       "      <td>185</td>\n",
       "      <td>59799</td>\n",
       "      <td>3373</td>\n",
       "      <td>5/10/2005</td>\n",
       "      <td>Alfred A. Knopf</td>\n",
       "      <td>NaN</td>\n",
       "      <td>12.344217</td>\n",
       "    </tr>\n",
       "    <tr>\n",
       "      <th>3145</th>\n",
       "      <td>11553</td>\n",
       "      <td>Boy's Life</td>\n",
       "      <td>Robert R. McCammon</td>\n",
       "      <td>4.35</td>\n",
       "      <td>671743058</td>\n",
       "      <td>9.78067E+12</td>\n",
       "      <td>eng</td>\n",
       "      <td>580</td>\n",
       "      <td>17540</td>\n",
       "      <td>1740</td>\n",
       "      <td>5/1/1992</td>\n",
       "      <td>Pocket Books</td>\n",
       "      <td>NaN</td>\n",
       "      <td>11.242415</td>\n",
       "    </tr>\n",
       "    <tr>\n",
       "      <th>3117</th>\n",
       "      <td>11466</td>\n",
       "      <td>This Boy's Life</td>\n",
       "      <td>Tobias Wolff</td>\n",
       "      <td>3.98</td>\n",
       "      <td>802136680</td>\n",
       "      <td>9.7808E+12</td>\n",
       "      <td>eng</td>\n",
       "      <td>304</td>\n",
       "      <td>22828</td>\n",
       "      <td>1304</td>\n",
       "      <td>1/20/2000</td>\n",
       "      <td>Grove Press</td>\n",
       "      <td>NaN</td>\n",
       "      <td>11.417025</td>\n",
       "    </tr>\n",
       "    <tr>\n",
       "      <th>3232</th>\n",
       "      <td>11824</td>\n",
       "      <td>The Whipping Boy</td>\n",
       "      <td>Sid Fleischman/Peter SÃ­s</td>\n",
       "      <td>3.57</td>\n",
       "      <td>60521228</td>\n",
       "      <td>9.78006E+12</td>\n",
       "      <td>eng</td>\n",
       "      <td>90</td>\n",
       "      <td>21191</td>\n",
       "      <td>1162</td>\n",
       "      <td>4/15/2003</td>\n",
       "      <td>Greenwillow Books</td>\n",
       "      <td>NaN</td>\n",
       "      <td>11.233897</td>\n",
       "    </tr>\n",
       "    <tr>\n",
       "      <th>2299</th>\n",
       "      <td>8252</td>\n",
       "      <td>Farmer Boy (Little House  #2)</td>\n",
       "      <td>Laura Ingalls Wilder/Garth Williams</td>\n",
       "      <td>4.07</td>\n",
       "      <td>60885386</td>\n",
       "      <td>9.78006E+12</td>\n",
       "      <td>eng</td>\n",
       "      <td>357</td>\n",
       "      <td>45778</td>\n",
       "      <td>1286</td>\n",
       "      <td>1/1/2007</td>\n",
       "      <td>HarperTrophy</td>\n",
       "      <td>NaN</td>\n",
       "      <td>12.135202</td>\n",
       "    </tr>\n",
       "  </tbody>\n",
       "</table>\n",
       "</div>"
      ],
      "text/plain": [
       "      bookID                          title  \\\n",
       "6169   23228                  Boy Meets Boy   \n",
       "3145   11553                     Boy's Life   \n",
       "3117   11466                This Boy's Life   \n",
       "3232   11824               The Whipping Boy   \n",
       "2299    8252  Farmer Boy (Little House  #2)   \n",
       "\n",
       "                                  authors  average_rating       isbn  \\\n",
       "6169                       David Levithan            3.84  375832998   \n",
       "3145                   Robert R. McCammon            4.35  671743058   \n",
       "3117                         Tobias Wolff            3.98  802136680   \n",
       "3232            Sid Fleischman/Peter SÃ­s            3.57   60521228   \n",
       "2299  Laura Ingalls Wilder/Garth Williams            4.07   60885386   \n",
       "\n",
       "           isbn13 language_code   num_pages  ratings_count  \\\n",
       "6169  9.78038E+12           eng         185          59799   \n",
       "3145  9.78067E+12           eng         580          17540   \n",
       "3117   9.7808E+12           eng         304          22828   \n",
       "3232  9.78006E+12           eng          90          21191   \n",
       "2299  9.78006E+12           eng         357          45778   \n",
       "\n",
       "      text_reviews_count publication_date          publisher Unnamed: 12  \\\n",
       "6169                3373        5/10/2005    Alfred A. Knopf         NaN   \n",
       "3145                1740         5/1/1992       Pocket Books         NaN   \n",
       "3117                1304        1/20/2000        Grove Press         NaN   \n",
       "3232                1162        4/15/2003  Greenwillow Books         NaN   \n",
       "2299                1286         1/1/2007       HarperTrophy         NaN   \n",
       "\n",
       "          score  \n",
       "6169  12.344217  \n",
       "3145  11.242415  \n",
       "3117  11.417025  \n",
       "3232  11.233897  \n",
       "2299  12.135202  "
      ]
     },
     "execution_count": 18,
     "metadata": {},
     "output_type": "execute_result"
    }
   ],
   "source": [
    "search_engine('boy')"
   ]
  },
  {
   "cell_type": "code",
   "execution_count": 19,
   "id": "94ac9480",
   "metadata": {
    "execution": {
     "iopub.execute_input": "2022-09-27T15:34:25.699374Z",
     "iopub.status.busy": "2022-09-27T15:34:25.698834Z",
     "iopub.status.idle": "2022-09-27T15:34:25.716389Z",
     "shell.execute_reply": "2022-09-27T15:34:25.715230Z"
    },
    "papermill": {
     "duration": 0.02846,
     "end_time": "2022-09-27T15:34:25.718258",
     "exception": false,
     "start_time": "2022-09-27T15:34:25.689798",
     "status": "completed"
    },
    "tags": []
   },
   "outputs": [
    {
     "data": {
      "text/html": [
       "<div>\n",
       "<style scoped>\n",
       "    .dataframe tbody tr th:only-of-type {\n",
       "        vertical-align: middle;\n",
       "    }\n",
       "\n",
       "    .dataframe tbody tr th {\n",
       "        vertical-align: top;\n",
       "    }\n",
       "\n",
       "    .dataframe thead th {\n",
       "        text-align: right;\n",
       "    }\n",
       "</style>\n",
       "<table border=\"1\" class=\"dataframe\">\n",
       "  <thead>\n",
       "    <tr style=\"text-align: right;\">\n",
       "      <th></th>\n",
       "      <th>bookID</th>\n",
       "      <th>title</th>\n",
       "      <th>authors</th>\n",
       "      <th>average_rating</th>\n",
       "      <th>isbn</th>\n",
       "      <th>isbn13</th>\n",
       "      <th>language_code</th>\n",
       "      <th>num_pages</th>\n",
       "      <th>ratings_count</th>\n",
       "      <th>text_reviews_count</th>\n",
       "      <th>publication_date</th>\n",
       "      <th>publisher</th>\n",
       "      <th>Unnamed: 12</th>\n",
       "      <th>score</th>\n",
       "    </tr>\n",
       "  </thead>\n",
       "  <tbody>\n",
       "    <tr>\n",
       "      <th>1478</th>\n",
       "      <td>5157</td>\n",
       "      <td>Black and Blue</td>\n",
       "      <td>Anna Quindlen</td>\n",
       "      <td>3.88</td>\n",
       "      <td>385333137</td>\n",
       "      <td>9.78039E+12</td>\n",
       "      <td>eng</td>\n",
       "      <td>288</td>\n",
       "      <td>75494</td>\n",
       "      <td>1386</td>\n",
       "      <td>8/25/2010</td>\n",
       "      <td>Delta Publishing</td>\n",
       "      <td>NaN</td>\n",
       "      <td>12.587644</td>\n",
       "    </tr>\n",
       "    <tr>\n",
       "      <th>4737</th>\n",
       "      <td>17020</td>\n",
       "      <td>13 Little Blue Envelopes (Little Blue Envelope...</td>\n",
       "      <td>Maureen Johnson</td>\n",
       "      <td>3.64</td>\n",
       "      <td>60541431</td>\n",
       "      <td>9.78006E+12</td>\n",
       "      <td>eng</td>\n",
       "      <td>322</td>\n",
       "      <td>70689</td>\n",
       "      <td>4067</td>\n",
       "      <td>12/21/2010</td>\n",
       "      <td>HarperCollins Publishers</td>\n",
       "      <td>NaN</td>\n",
       "      <td>12.458029</td>\n",
       "    </tr>\n",
       "    <tr>\n",
       "      <th>1085</th>\n",
       "      <td>3685</td>\n",
       "      <td>Black Beauty</td>\n",
       "      <td>Anna Sewell</td>\n",
       "      <td>3.96</td>\n",
       "      <td>439228905</td>\n",
       "      <td>9.78044E+12</td>\n",
       "      <td>eng</td>\n",
       "      <td>245</td>\n",
       "      <td>208684</td>\n",
       "      <td>3358</td>\n",
       "      <td>3/1/2003</td>\n",
       "      <td>Scholastic Paperbacks</td>\n",
       "      <td>NaN</td>\n",
       "      <td>13.624820</td>\n",
       "    </tr>\n",
       "    <tr>\n",
       "      <th>864</th>\n",
       "      <td>2873</td>\n",
       "      <td>The Virgin Blue</td>\n",
       "      <td>Tracy Chevalier</td>\n",
       "      <td>3.66</td>\n",
       "      <td>452284449</td>\n",
       "      <td>9.78045E+12</td>\n",
       "      <td>eng</td>\n",
       "      <td>304</td>\n",
       "      <td>26029</td>\n",
       "      <td>1588</td>\n",
       "      <td>6/24/2003</td>\n",
       "      <td>Penguin Books</td>\n",
       "      <td>NaN</td>\n",
       "      <td>11.464430</td>\n",
       "    </tr>\n",
       "    <tr>\n",
       "      <th>3558</th>\n",
       "      <td>12936</td>\n",
       "      <td>Gathering Blue (The Giver  #2)</td>\n",
       "      <td>Lois Lowry</td>\n",
       "      <td>3.82</td>\n",
       "      <td>385732562</td>\n",
       "      <td>9.78039E+12</td>\n",
       "      <td>eng</td>\n",
       "      <td>240</td>\n",
       "      <td>132584</td>\n",
       "      <td>9341</td>\n",
       "      <td>9/25/2000</td>\n",
       "      <td>Delacorte Press</td>\n",
       "      <td>NaN</td>\n",
       "      <td>13.135222</td>\n",
       "    </tr>\n",
       "  </tbody>\n",
       "</table>\n",
       "</div>"
      ],
      "text/plain": [
       "      bookID                                              title  \\\n",
       "1478    5157                                     Black and Blue   \n",
       "4737   17020  13 Little Blue Envelopes (Little Blue Envelope...   \n",
       "1085    3685                                       Black Beauty   \n",
       "864     2873                                    The Virgin Blue   \n",
       "3558   12936                     Gathering Blue (The Giver  #2)   \n",
       "\n",
       "              authors  average_rating       isbn       isbn13 language_code  \\\n",
       "1478    Anna Quindlen            3.88  385333137  9.78039E+12           eng   \n",
       "4737  Maureen Johnson            3.64   60541431  9.78006E+12           eng   \n",
       "1085      Anna Sewell            3.96  439228905  9.78044E+12           eng   \n",
       "864   Tracy Chevalier            3.66  452284449  9.78045E+12           eng   \n",
       "3558       Lois Lowry            3.82  385732562  9.78039E+12           eng   \n",
       "\n",
       "       num_pages  ratings_count  text_reviews_count publication_date  \\\n",
       "1478         288          75494                1386        8/25/2010   \n",
       "4737         322          70689                4067       12/21/2010   \n",
       "1085         245         208684                3358         3/1/2003   \n",
       "864          304          26029                1588        6/24/2003   \n",
       "3558         240         132584                9341        9/25/2000   \n",
       "\n",
       "                     publisher Unnamed: 12      score  \n",
       "1478          Delta Publishing         NaN  12.587644  \n",
       "4737  HarperCollins Publishers         NaN  12.458029  \n",
       "1085     Scholastic Paperbacks         NaN  13.624820  \n",
       "864              Penguin Books         NaN  11.464430  \n",
       "3558           Delacorte Press         NaN  13.135222  "
      ]
     },
     "execution_count": 19,
     "metadata": {},
     "output_type": "execute_result"
    }
   ],
   "source": [
    "search_engine('black blue')"
   ]
  },
  {
   "cell_type": "code",
   "execution_count": 20,
   "id": "36c8c2dd",
   "metadata": {
    "execution": {
     "iopub.execute_input": "2022-09-27T15:34:25.736679Z",
     "iopub.status.busy": "2022-09-27T15:34:25.736129Z",
     "iopub.status.idle": "2022-09-27T15:34:25.744818Z",
     "shell.execute_reply": "2022-09-27T15:34:25.743835Z"
    },
    "papermill": {
     "duration": 0.019863,
     "end_time": "2022-09-27T15:34:25.746475",
     "exception": false,
     "start_time": "2022-09-27T15:34:25.726612",
     "status": "completed"
    },
    "tags": []
   },
   "outputs": [
    {
     "data": {
      "text/plain": [
       "'result not found'"
      ]
     },
     "execution_count": 20,
     "metadata": {},
     "output_type": "execute_result"
    }
   ],
   "source": [
    "search_engine('blob')"
   ]
  }
 ],
 "metadata": {
  "kernelspec": {
   "display_name": "Python 3 (ipykernel)",
   "language": "python",
   "name": "python3"
  },
  "language_info": {
   "codemirror_mode": {
    "name": "ipython",
    "version": 3
   },
   "file_extension": ".py",
   "mimetype": "text/x-python",
   "name": "python",
   "nbconvert_exporter": "python",
   "pygments_lexer": "ipython3",
   "version": "3.9.12"
  },
  "papermill": {
   "default_parameters": {},
   "duration": 10.308137,
   "end_time": "2022-09-27T15:34:26.507615",
   "environment_variables": {},
   "exception": null,
   "input_path": "__notebook__.ipynb",
   "output_path": "__notebook__.ipynb",
   "parameters": {},
   "start_time": "2022-09-27T15:34:16.199478",
   "version": "2.3.4"
  },
  "toc": {
   "base_numbering": 1,
   "nav_menu": {},
   "number_sections": true,
   "sideBar": true,
   "skip_h1_title": false,
   "title_cell": "Table of Contents",
   "title_sidebar": "Contents",
   "toc_cell": false,
   "toc_position": {},
   "toc_section_display": true,
   "toc_window_display": false
  },
  "varInspector": {
   "cols": {
    "lenName": 16,
    "lenType": 16,
    "lenVar": 40
   },
   "kernels_config": {
    "python": {
     "delete_cmd_postfix": "",
     "delete_cmd_prefix": "del ",
     "library": "var_list.py",
     "varRefreshCmd": "print(var_dic_list())"
    },
    "r": {
     "delete_cmd_postfix": ") ",
     "delete_cmd_prefix": "rm(",
     "library": "var_list.r",
     "varRefreshCmd": "cat(var_dic_list()) "
    }
   },
   "types_to_exclude": [
    "module",
    "function",
    "builtin_function_or_method",
    "instance",
    "_Feature"
   ],
   "window_display": false
  }
 },
 "nbformat": 4,
 "nbformat_minor": 5
}
