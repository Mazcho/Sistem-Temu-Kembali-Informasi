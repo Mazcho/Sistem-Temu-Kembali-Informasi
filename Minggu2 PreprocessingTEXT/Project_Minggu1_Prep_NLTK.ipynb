{
 "cells": [
  {
   "cell_type": "markdown",
   "id": "9fa9334c",
   "metadata": {},
   "source": [
    "Preprocesing Text menggunakan NLTK"
   ]
  },
  {
   "cell_type": "markdown",
   "id": "7c124664",
   "metadata": {},
   "source": [
    "Nicholaus Verdhy || A11.2020.12447"
   ]
  },
  {
   "cell_type": "markdown",
   "id": "d97d3409",
   "metadata": {},
   "source": [
    "# Penjelasan Singkat mengenai NLTK"
   ]
  },
  {
   "cell_type": "markdown",
   "id": "d6925e75",
   "metadata": {},
   "source": [
    "NLTK adalah kumpulan alat dan program yang digunakan untuk memproses dan menganalisis bahasa alami (NLP) dalam bahasa Inggris. Ini ditulis dalam bahasa pemrograman Python dan digunakan untuk tugas-tugas NLP yang melibatkan analisis teks dan statistik[1]"
   ]
  },
  {
   "cell_type": "markdown",
   "id": "e4e85949",
   "metadata": {},
   "source": [
    "# Project 1 : Preprocessing dengan NLTK"
   ]
  },
  {
   "cell_type": "markdown",
   "id": "41ebe87a",
   "metadata": {},
   "source": [
    "## Import Library"
   ]
  },
  {
   "cell_type": "code",
   "execution_count": 1,
   "id": "0e4429ba",
   "metadata": {},
   "outputs": [],
   "source": [
    "import re\n",
    "import string #digunakan dalam manipulasi teks, seperti menghapus tanda baca atau mengoperasikan karakter-karakter tertentu.\n",
    "import time\n",
    "from copy import deepcopy\n",
    "import pandas as pd #untuk loading dataframe\n",
    "\n",
    "#Untuk Preprocessing Data nya\n",
    "from ekphrasis.classes.preprocessor import TextPreProcessor\n",
    "from ekphrasis.classes.tokenizer import SocialTokenizer\n",
    "from ekphrasis.dicts.emoticons import emoticons"
   ]
  },
  {
   "cell_type": "markdown",
   "id": "17559118",
   "metadata": {},
   "source": [
    "Penjelasan untuk setiap library\n",
    "- `import re` digunakan untuk pencarian dan manipulasi teks berdasarkan pola pola tertentu"
   ]
  },
  {
   "cell_type": "markdown",
   "id": "c37aa430",
   "metadata": {},
   "source": [
    "# Referensi"
   ]
  },
  {
   "cell_type": "markdown",
   "id": "ccb80568",
   "metadata": {},
   "source": [
    "[1]\tE. J. Rifano, A. C. Fauzan, A. Makhi, E. Nadya, Z. Nasikin, and F. N. Putra, “Text Summarization Menggunakan Library Natural Language Toolkit (NLTK) Berbasis Pemrograman Python,” Ilk. J. Comput. Sci. Appl. Inform., vol. 2, no. 1, Art. no. 1, Apr. 2020, doi: 10.28926/ilkomnika.v2i1.32.\n",
    "\n"
   ]
  },
  {
   "cell_type": "code",
   "execution_count": null,
   "id": "d804694a",
   "metadata": {},
   "outputs": [],
   "source": []
  }
 ],
 "metadata": {
  "kernelspec": {
   "display_name": "Python 3 (ipykernel)",
   "language": "python",
   "name": "python3"
  },
  "language_info": {
   "codemirror_mode": {
    "name": "ipython",
    "version": 3
   },
   "file_extension": ".py",
   "mimetype": "text/x-python",
   "name": "python",
   "nbconvert_exporter": "python",
   "pygments_lexer": "ipython3",
   "version": "3.9.12"
  },
  "toc": {
   "base_numbering": 1,
   "nav_menu": {},
   "number_sections": true,
   "sideBar": true,
   "skip_h1_title": false,
   "title_cell": "Table of Contents",
   "title_sidebar": "Contents",
   "toc_cell": false,
   "toc_position": {},
   "toc_section_display": true,
   "toc_window_display": false
  },
  "varInspector": {
   "cols": {
    "lenName": 16,
    "lenType": 16,
    "lenVar": 40
   },
   "kernels_config": {
    "python": {
     "delete_cmd_postfix": "",
     "delete_cmd_prefix": "del ",
     "library": "var_list.py",
     "varRefreshCmd": "print(var_dic_list())"
    },
    "r": {
     "delete_cmd_postfix": ") ",
     "delete_cmd_prefix": "rm(",
     "library": "var_list.r",
     "varRefreshCmd": "cat(var_dic_list()) "
    }
   },
   "types_to_exclude": [
    "module",
    "function",
    "builtin_function_or_method",
    "instance",
    "_Feature"
   ],
   "window_display": false
  }
 },
 "nbformat": 4,
 "nbformat_minor": 5
}
